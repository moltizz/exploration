{
  "nbformat": 4,
  "nbformat_minor": 0,
  "metadata": {
    "colab": {
      "name": "explorationn2",
      "provenance": [],
      "collapsed_sections": []
    },
    "kernelspec": {
      "name": "python3",
      "display_name": "Python 3"
    },
    "language_info": {
      "name": "python"
    }
  },
  "cells": [
    {
      "cell_type": "markdown",
      "source": [
        "# 프로젝트 1 : 당뇨병 수치"
      ],
      "metadata": {
        "id": "Ks2T4Qwwgmgi"
      }
    },
    {
      "cell_type": "markdown",
      "source": [
        "**데이터 가져오기**\n",
        "\n",
        "\n",
        "---\n",
        "\n"
      ],
      "metadata": {
        "id": "ezLlOr4sgyeY"
      }
    },
    {
      "cell_type": "code",
      "source": [
        "from sklearn.datasets import load_diabetes\n",
        "\n",
        "diabetes = load_diabetes()"
      ],
      "metadata": {
        "id": "Tnyaotk26PH8"
      },
      "execution_count": 145,
      "outputs": []
    },
    {
      "cell_type": "code",
      "source": [
        "df_X = diabetes.data\n",
        "df_y = diabetes.target"
      ],
      "metadata": {
        "id": "tCziwFg2V-Ka"
      },
      "execution_count": 146,
      "outputs": []
    },
    {
      "cell_type": "markdown",
      "source": [
        "**모델에 입력할 데이터 X와 예측할 데이터 y 준비하기**"
      ],
      "metadata": {
        "id": "rznBPBkCWOud"
      }
    },
    {
      "cell_type": "code",
      "source": [
        "print(df_X.shape)          # 데이터의 크기 확인 \n",
        "print(df_y.shape)          # 데이터의 크기 확인"
      ],
      "metadata": {
        "colab": {
          "base_uri": "https://localhost:8080/"
        },
        "id": "-iLS9-FfMDld",
        "outputId": "f885ea47-de16-4111-8e2d-52cc237e473e"
      },
      "execution_count": 147,
      "outputs": [
        {
          "output_type": "stream",
          "name": "stdout",
          "text": [
            "(442, 10)\n",
            "(442,)\n"
          ]
        }
      ]
    },
    {
      "cell_type": "code",
      "source": [
        "print(diabetes.DESCR)       # diabetes 데이터셋의 설명"
      ],
      "metadata": {
        "colab": {
          "base_uri": "https://localhost:8080/"
        },
        "id": "s-8ycu_HJLmy",
        "outputId": "2edf8bed-7131-446c-8899-e7527b707c56"
      },
      "execution_count": 148,
      "outputs": [
        {
          "output_type": "stream",
          "name": "stdout",
          "text": [
            ".. _diabetes_dataset:\n",
            "\n",
            "Diabetes dataset\n",
            "----------------\n",
            "\n",
            "Ten baseline variables, age, sex, body mass index, average blood\n",
            "pressure, and six blood serum measurements were obtained for each of n =\n",
            "442 diabetes patients, as well as the response of interest, a\n",
            "quantitative measure of disease progression one year after baseline.\n",
            "\n",
            "**Data Set Characteristics:**\n",
            "\n",
            "  :Number of Instances: 442\n",
            "\n",
            "  :Number of Attributes: First 10 columns are numeric predictive values\n",
            "\n",
            "  :Target: Column 11 is a quantitative measure of disease progression one year after baseline\n",
            "\n",
            "  :Attribute Information:\n",
            "      - age     age in years\n",
            "      - sex\n",
            "      - bmi     body mass index\n",
            "      - bp      average blood pressure\n",
            "      - s1      tc, total serum cholesterol\n",
            "      - s2      ldl, low-density lipoproteins\n",
            "      - s3      hdl, high-density lipoproteins\n",
            "      - s4      tch, total cholesterol / HDL\n",
            "      - s5      ltg, possibly log of serum triglycerides level\n",
            "      - s6      glu, blood sugar level\n",
            "\n",
            "Note: Each of these 10 feature variables have been mean centered and scaled by the standard deviation times `n_samples` (i.e. the sum of squares of each column totals 1).\n",
            "\n",
            "Source URL:\n",
            "https://www4.stat.ncsu.edu/~boos/var.select/diabetes.html\n",
            "\n",
            "For more information see:\n",
            "Bradley Efron, Trevor Hastie, Iain Johnstone and Robert Tibshirani (2004) \"Least Angle Regression,\" Annals of Statistics (with discussion), 407-499.\n",
            "(https://web.stanford.edu/~hastie/Papers/LARS/LeastAngle_2002.pdf)\n"
          ]
        }
      ]
    },
    {
      "cell_type": "code",
      "source": [
        "# 10개의 특성(나이, 성별, 체지방 지수 등...)\n",
        "# 442개의 데이터는 442명의 당뇨병 환자들의 데이터\n",
        "for i, feature_name in enumerate(diabetes.feature_names):\n",
        "  print(f'feature {i+1} : {feature_name}')"
      ],
      "metadata": {
        "colab": {
          "base_uri": "https://localhost:8080/"
        },
        "id": "G25f50_dMLMy",
        "outputId": "26c5456f-07f6-4cf8-ba77-007a02346c36"
      },
      "execution_count": 149,
      "outputs": [
        {
          "output_type": "stream",
          "name": "stdout",
          "text": [
            "feature 1 : age\n",
            "feature 2 : sex\n",
            "feature 3 : bmi\n",
            "feature 4 : bp\n",
            "feature 5 : s1\n",
            "feature 6 : s2\n",
            "feature 7 : s3\n",
            "feature 8 : s4\n",
            "feature 9 : s5\n",
            "feature 10 : s6\n"
          ]
        }
      ]
    },
    {
      "cell_type": "code",
      "source": [
        "# 첫번째 환자의 데이터\n",
        "print('<x_data[0]> : ', df_X[0])\n",
        "print()\n",
        "print('<y_data[0] : ', df_y[0])"
      ],
      "metadata": {
        "colab": {
          "base_uri": "https://localhost:8080/"
        },
        "id": "2KFz-ynZPXNO",
        "outputId": "829ca5fd-cc50-4691-c867-2cefa2217db3"
      },
      "execution_count": 150,
      "outputs": [
        {
          "output_type": "stream",
          "name": "stdout",
          "text": [
            "<x_data[0]> :  [ 0.03807591  0.05068012  0.06169621  0.02187235 -0.0442235  -0.03482076\n",
            " -0.04340085 -0.00259226  0.01990842 -0.01764613]\n",
            "\n",
            "<y_data[0] :  151.0\n"
          ]
        }
      ]
    },
    {
      "cell_type": "markdown",
      "source": [
        "**train 데이터와 test 데이터로 분리하기**"
      ],
      "metadata": {
        "id": "ctfvduPMWc7E"
      }
    },
    {
      "cell_type": "code",
      "source": [
        "from sklearn.model_selection import train_test_split\n",
        "\n",
        "X_train, X_test, y_train, y_test = train_test_split(df_X,\n",
        "                                                    df_y,\n",
        "                                                    test_size=0.2,\n",
        "                                                    random_state=42)\n",
        "\n",
        "print(X_train.shape, y_train.shape)\n",
        "print(X_test.shape, y_test.shape)"
      ],
      "metadata": {
        "colab": {
          "base_uri": "https://localhost:8080/"
        },
        "id": "9pPzqLNLWpsB",
        "outputId": "b4be67de-8b03-48ea-dda4-2d845ac59d0a"
      },
      "execution_count": 151,
      "outputs": [
        {
          "output_type": "stream",
          "name": "stdout",
          "text": [
            "(353, 10) (353,)\n",
            "(89, 10) (89,)\n"
          ]
        }
      ]
    },
    {
      "cell_type": "markdown",
      "source": [
        "**모델 준비하기**"
      ],
      "metadata": {
        "id": "SPuJWmzHaX4X"
      }
    },
    {
      "cell_type": "code",
      "source": [
        "# W와 b에 랜덤 초기값 설정\n",
        "import numpy as np\n",
        "W = np.random.rand(10)\n",
        "b = np.random.rand()"
      ],
      "metadata": {
        "id": "3eNQJbfnk_B5"
      },
      "execution_count": 152,
      "outputs": []
    },
    {
      "cell_type": "code",
      "source": [
        "# W에 12개의 랜덤한 값\n",
        "W"
      ],
      "metadata": {
        "colab": {
          "base_uri": "https://localhost:8080/"
        },
        "id": "Tyn7lo4YlKOf",
        "outputId": "81d9b17c-7de9-4924-de85-e99f1382ffe6"
      },
      "execution_count": 153,
      "outputs": [
        {
          "output_type": "execute_result",
          "data": {
            "text/plain": [
              "array([0.43491504, 0.58434018, 0.1832492 , 0.0497677 , 0.99206592,\n",
              "       0.6083561 , 0.73165323, 0.19687847, 0.49352512, 0.88747986])"
            ]
          },
          "metadata": {},
          "execution_count": 153
        }
      ]
    },
    {
      "cell_type": "code",
      "source": [
        "# b는 하나의 상수값\n",
        "b"
      ],
      "metadata": {
        "id": "FTLhFZ9klVJd",
        "colab": {
          "base_uri": "https://localhost:8080/"
        },
        "outputId": "efc17aa9-2255-4014-e823-681133ed4b05"
      },
      "execution_count": 154,
      "outputs": [
        {
          "output_type": "execute_result",
          "data": {
            "text/plain": [
              "0.20134006444663755"
            ]
          },
          "metadata": {},
          "execution_count": 154
        }
      ]
    },
    {
      "cell_type": "code",
      "source": [
        "# 1부터 12까지 X * W를 수행하고, 마지막에 b를 더함\n",
        "def model(X, W, b):\n",
        "    predictions = 0\n",
        "    for i in range(10):\n",
        "        predictions += X[:, i] * W[i]\n",
        "    predictions += b\n",
        "    return predictions"
      ],
      "metadata": {
        "id": "Qcj63p2scrAW"
      },
      "execution_count": 155,
      "outputs": []
    },
    {
      "cell_type": "markdown",
      "source": [
        "**손실함수 loss 정의하기**"
      ],
      "metadata": {
        "id": "FJVfkLFxhMi4"
      }
    },
    {
      "cell_type": "code",
      "source": [
        "# MSE 값을 구하는 함수\n",
        "def MSE(a, b):\n",
        "    mse = ((a - b) ** 2).mean()\n",
        "    return mse"
      ],
      "metadata": {
        "id": "ffs27Sddh1jP"
      },
      "execution_count": 156,
      "outputs": []
    },
    {
      "cell_type": "code",
      "source": [
        "def loss(X, W, b, y):\n",
        "    predictions = model(X, W, b)\n",
        "    L = MSE (predictions, y)\n",
        "    return L"
      ],
      "metadata": {
        "id": "HSVwXonKmh3V"
      },
      "execution_count": 157,
      "outputs": []
    },
    {
      "cell_type": "markdown",
      "source": [
        "**기울기를 구하는 gradient 함수 구현하기**"
      ],
      "metadata": {
        "id": "6Ehnx0qOjw9y"
      }
    },
    {
      "cell_type": "code",
      "source": [
        "def gradient(X, W, b, y):\n",
        "    # N은 가중치의 개수\n",
        "    N = len(W)\n",
        "\n",
        "    # y_pred 준비\n",
        "    y_pred = model(X, W, b)\n",
        "\n",
        "    # 공식에 맞게 gradient 계산\n",
        "    dW = 1/N * 2 * X.T.dot(y_pred - y)\n",
        "\n",
        "    # b의 gradient 계산\n",
        "    db = 2 * (y_pred - y).mean()\n",
        "    return dW, db"
      ],
      "metadata": {
        "id": "C7DNwD3JmyI7"
      },
      "execution_count": 158,
      "outputs": []
    },
    {
      "cell_type": "code",
      "source": [
        "dW, db = gradient(X_train, W, b, y_train)\n",
        "print(\"dW:\", dW)\n",
        "print(\"db:\", db)"
      ],
      "metadata": {
        "id": "i1nhYhVknYLN",
        "colab": {
          "base_uri": "https://localhost:8080/"
        },
        "outputId": "6fa15b15-bc4d-4152-cd33-34256315c18c"
      },
      "execution_count": 159,
      "outputs": [
        {
          "output_type": "stream",
          "name": "stdout",
          "text": [
            "dW: [ -65.45377749   -3.73211609 -175.74809155 -131.06391071  -45.99204617\n",
            "  -31.47670848  109.96027655 -115.46025068 -158.03325304 -123.98876406]\n",
            "db: -307.0670102580228\n"
          ]
        }
      ]
    },
    {
      "cell_type": "markdown",
      "source": [
        "**하이퍼 파라미터인 학습률 설정하기**"
      ],
      "metadata": {
        "id": "WzzMIxSHodIO"
      }
    },
    {
      "cell_type": "code",
      "source": [
        "# 학습률 = 0.02\n",
        "LEARNING_RATE = 0.02"
      ],
      "metadata": {
        "id": "pXLCNMfSovz-"
      },
      "execution_count": 160,
      "outputs": []
    },
    {
      "cell_type": "code",
      "source": [
        "losses = []\n",
        "\n",
        "for i in range(1, 1001):\n",
        "    dW, db = gradient(X_train, W, b, y_train)\n",
        "    W -= LEARNING_RATE * dW\n",
        "    b -= LEARNING_RATE * db\n",
        "    L = loss(X_train, W, b, y_train)\n",
        "    losses.append(L)\n",
        "    if i % 10 == 0:\n",
        "         print('Iteration %d : Loss %0.4f' % (i, L))"
      ],
      "metadata": {
        "id": "IZjKvIigo0sZ",
        "colab": {
          "base_uri": "https://localhost:8080/"
        },
        "outputId": "c3a952f4-b42b-4c39-e940-e16afd950e66"
      },
      "execution_count": 161,
      "outputs": [
        {
          "output_type": "stream",
          "name": "stdout",
          "text": [
            "Iteration 10 : Loss 15905.4819\n",
            "Iteration 20 : Loss 9666.7545\n",
            "Iteration 30 : Loss 6772.2307\n",
            "Iteration 40 : Loss 5380.2232\n",
            "Iteration 50 : Loss 4671.8645\n",
            "Iteration 60 : Loss 4281.3045\n",
            "Iteration 70 : Loss 4043.7230\n",
            "Iteration 80 : Loss 3883.8060\n",
            "Iteration 90 : Loss 3766.3219\n",
            "Iteration 100 : Loss 3674.1663\n",
            "Iteration 110 : Loss 3598.5700\n",
            "Iteration 120 : Loss 3534.7002\n",
            "Iteration 130 : Loss 3479.6619\n",
            "Iteration 140 : Loss 3431.5708\n",
            "Iteration 150 : Loss 3389.1105\n",
            "Iteration 160 : Loss 3351.3103\n",
            "Iteration 170 : Loss 3317.4268\n",
            "Iteration 180 : Loss 3286.8755\n",
            "Iteration 190 : Loss 3259.1889\n",
            "Iteration 200 : Loss 3233.9873\n",
            "Iteration 210 : Loss 3210.9595\n",
            "Iteration 220 : Loss 3189.8475\n",
            "Iteration 230 : Loss 3170.4356\n",
            "Iteration 240 : Loss 3152.5419\n",
            "Iteration 250 : Loss 3136.0118\n",
            "Iteration 260 : Loss 3120.7124\n",
            "Iteration 270 : Loss 3106.5291\n",
            "Iteration 280 : Loss 3093.3617\n",
            "Iteration 290 : Loss 3081.1224\n",
            "Iteration 300 : Loss 3069.7337\n",
            "Iteration 310 : Loss 3059.1264\n",
            "Iteration 320 : Loss 3049.2387\n",
            "Iteration 330 : Loss 3040.0152\n",
            "Iteration 340 : Loss 3031.4054\n",
            "Iteration 350 : Loss 3023.3639\n",
            "Iteration 360 : Loss 3015.8491\n",
            "Iteration 370 : Loss 3008.8232\n",
            "Iteration 380 : Loss 3002.2513\n",
            "Iteration 390 : Loss 2996.1016\n",
            "Iteration 400 : Loss 2990.3446\n",
            "Iteration 410 : Loss 2984.9533\n",
            "Iteration 420 : Loss 2979.9026\n",
            "Iteration 430 : Loss 2975.1694\n",
            "Iteration 440 : Loss 2970.7324\n",
            "Iteration 450 : Loss 2966.5716\n",
            "Iteration 460 : Loss 2962.6686\n",
            "Iteration 470 : Loss 2959.0063\n",
            "Iteration 480 : Loss 2955.5688\n",
            "Iteration 490 : Loss 2952.3414\n",
            "Iteration 500 : Loss 2949.3103\n",
            "Iteration 510 : Loss 2946.4628\n",
            "Iteration 520 : Loss 2943.7869\n",
            "Iteration 530 : Loss 2941.2715\n",
            "Iteration 540 : Loss 2938.9063\n",
            "Iteration 550 : Loss 2936.6818\n",
            "Iteration 560 : Loss 2934.5888\n",
            "Iteration 570 : Loss 2932.6191\n",
            "Iteration 580 : Loss 2930.7649\n",
            "Iteration 590 : Loss 2929.0188\n",
            "Iteration 600 : Loss 2927.3740\n",
            "Iteration 610 : Loss 2925.8242\n",
            "Iteration 620 : Loss 2924.3635\n",
            "Iteration 630 : Loss 2922.9864\n",
            "Iteration 640 : Loss 2921.6876\n",
            "Iteration 650 : Loss 2920.4623\n",
            "Iteration 660 : Loss 2919.3060\n",
            "Iteration 670 : Loss 2918.2144\n",
            "Iteration 680 : Loss 2917.1837\n",
            "Iteration 690 : Loss 2916.2101\n",
            "Iteration 700 : Loss 2915.2902\n",
            "Iteration 710 : Loss 2914.4207\n",
            "Iteration 720 : Loss 2913.5986\n",
            "Iteration 730 : Loss 2912.8210\n",
            "Iteration 740 : Loss 2912.0853\n",
            "Iteration 750 : Loss 2911.3891\n",
            "Iteration 760 : Loss 2910.7299\n",
            "Iteration 770 : Loss 2910.1056\n",
            "Iteration 780 : Loss 2909.5142\n",
            "Iteration 790 : Loss 2908.9537\n",
            "Iteration 800 : Loss 2908.4223\n",
            "Iteration 810 : Loss 2907.9183\n",
            "Iteration 820 : Loss 2907.4402\n",
            "Iteration 830 : Loss 2906.9865\n",
            "Iteration 840 : Loss 2906.5558\n",
            "Iteration 850 : Loss 2906.1467\n",
            "Iteration 860 : Loss 2905.7580\n",
            "Iteration 870 : Loss 2905.3887\n",
            "Iteration 880 : Loss 2905.0375\n",
            "Iteration 890 : Loss 2904.7035\n",
            "Iteration 900 : Loss 2904.3857\n",
            "Iteration 910 : Loss 2904.0832\n",
            "Iteration 920 : Loss 2903.7952\n",
            "Iteration 930 : Loss 2903.5209\n",
            "Iteration 940 : Loss 2903.2595\n",
            "Iteration 950 : Loss 2903.0103\n",
            "Iteration 960 : Loss 2902.7726\n",
            "Iteration 970 : Loss 2902.5459\n",
            "Iteration 980 : Loss 2902.3296\n",
            "Iteration 990 : Loss 2902.1230\n",
            "Iteration 1000 : Loss 2901.9256\n"
          ]
        }
      ]
    },
    {
      "cell_type": "code",
      "source": [
        "import matplotlib.pyplot as plt\n",
        "plt.plot(losses)\n",
        "plt.show()"
      ],
      "metadata": {
        "colab": {
          "base_uri": "https://localhost:8080/",
          "height": 269
        },
        "id": "PunoJL0NuCig",
        "outputId": "65372626-56f9-47a8-9926-6d9d8bdac391"
      },
      "execution_count": 162,
      "outputs": [
        {
          "output_type": "display_data",
          "data": {
            "text/plain": [
              "<Figure size 432x288 with 1 Axes>"
            ],
            "image/png": "[encoded data removed]"
          },
          "metadata": {
            "needs_background": "light"
          }
        }
      ]
    },
    {
      "cell_type": "code",
      "source": [
        "W, b"
      ],
      "metadata": {
        "colab": {
          "base_uri": "https://localhost:8080/"
        },
        "id": "hR5Ap_I8uOIC",
        "outputId": "59fb9113-36bb-4d95-fb8a-991cc79127cd"
      },
      "execution_count": 163,
      "outputs": [
        {
          "output_type": "execute_result",
          "data": {
            "text/plain": [
              "(array([  39.9809265 , -225.92888237,  536.48569361,  335.039746  ,\n",
              "         -85.43207502, -128.48865856, -218.39285976,  145.38893614,\n",
              "         396.47432037,   90.75493336]), 151.3210317871308)"
            ]
          },
          "metadata": {},
          "execution_count": 163
        }
      ]
    },
    {
      "cell_type": "code",
      "source": [
        "# X_test 데이터와 y_test 데이터를 예측\n",
        "prediction = model(X_test, W, b)\n",
        "mse = loss(X_test, W, b, y_test)\n",
        "mse"
      ],
      "metadata": {
        "colab": {
          "base_uri": "https://localhost:8080/"
        },
        "id": "8l1tX-gwuRfn",
        "outputId": "b5faf988-1650-4f17-d45f-dd8da171032f"
      },
      "execution_count": 164,
      "outputs": [
        {
          "output_type": "execute_result",
          "data": {
            "text/plain": [
              "2874.4329961923845"
            ]
          },
          "metadata": {},
          "execution_count": 164
        }
      ]
    },
    {
      "cell_type": "code",
      "source": [
        "plt.scatter(X_test[:, 0], y_test)\n",
        "plt.scatter(X_test[:, 0], prediction)\n",
        "plt.show"
      ],
      "metadata": {
        "colab": {
          "base_uri": "https://localhost:8080/",
          "height": 288
        },
        "id": "lgLkpdtHu8H5",
        "outputId": "27453a62-465f-42ef-bab3-2681370226a1"
      },
      "execution_count": 165,
      "outputs": [
        {
          "output_type": "execute_result",
          "data": {
            "text/plain": [
              "<function matplotlib.pyplot.show>"
            ]
          },
          "metadata": {},
          "execution_count": 165
        },
        {
          "output_type": "display_data",
          "data": {
            "text/plain": [
              "<Figure size 432x288 with 1 Axes>"
            ],
            "image/png": "[encoded data removed]"
          },
          "metadata": {
            "needs_background": "light"
          }
        }
      ]
    },
    {
      "cell_type": "markdown",
      "source": [
        "✍ 회고"
      ],
      "metadata": {
        "id": "LTqOs-sFpjto"
      }
    },
    {
      "cell_type": "markdown",
      "source": [
        "* L127, gradient(X, W, b, y)을 입력하였더니 에러가 발생하였다. 에러의 원인은 훈련한 데이터를 인자로 하여 X와 y 자리에 넣어줘야 했기 때문이다. 그래서 gradient(X_train, W, b, y_train)으로 정정하였더니 에러없이 출력되었음을 확인할 수 있다."
      ],
      "metadata": {
        "id": "p_gTG_b6p7mu"
      }
    },
    {
      "cell_type": "markdown",
      "source": [
        "* learning rate의 값을 조금씩 바꿔주면서 이상적인 손실함수 그래프를 출력하고자 하였다. 결국 learning rate가 0.02일 때 그래프가 효과적으로 잘 내려가는 것을 알 수 있었다."
      ],
      "metadata": {
        "id": "sAr_q-bYr3gg"
      }
    },
    {
      "cell_type": "markdown",
      "source": [
        "* 모델이 예측한 prediction과 실제 정답인 y_test를 비교하였더니 어느정도 잘 맞힌 결과가 나왔다. 직접 손실함수를 설계하여 그래프로 출력까지 하면서 전체적인 원리를 더 잘할 수 있게 되었다."
      ],
      "metadata": {
        "id": "na5MK5pEs-tY"
      }
    },
    {
      "cell_type": "markdown",
      "source": [
        "# 프로젝트 2 : 자전거 대여 수요 예측"
      ],
      "metadata": {
        "id": "j_0Q_mCqcmhe"
      }
    },
    {
      "cell_type": "markdown",
      "source": [
        "**데이터 가져오기**"
      ],
      "metadata": {
        "id": "SnlT2Q6AJn-D"
      }
    },
    {
      "cell_type": "code",
      "source": [
        "import pandas as pd\n",
        "\n",
        "train = pd.read_csv('/content/sample_data/train.csv')\n",
        "\n",
        "train.head()\n",
        "#rain.csv 데이터를 train 변수로 가져온다."
      ],
      "metadata": {
        "colab": {
          "base_uri": "https://localhost:8080/",
          "height": 206
        },
        "id": "nb2qhNBVcy_-",
        "outputId": "205445a3-680a-45ea-c6b0-f744161e8790"
      },
      "execution_count": 172,
      "outputs": [
        {
          "output_type": "execute_result",
          "data": {
            "text/plain": [
              "              datetime  season  holiday  workingday  weather  temp   atemp  \\\n",
              "0  2011-01-01 00:00:00       1        0           0        1  9.84  14.395   \n",
              "1  2011-01-01 01:00:00       1        0           0        1  9.02  13.635   \n",
              "2  2011-01-01 02:00:00       1        0           0        1  9.02  13.635   \n",
              "3  2011-01-01 03:00:00       1        0           0        1  9.84  14.395   \n",
              "4  2011-01-01 04:00:00       1        0           0        1  9.84  14.395   \n",
              "\n",
              "   humidity  windspeed  casual  registered  count  \n",
              "0        81        0.0       3          13     16  \n",
              "1        80        0.0       8          32     40  \n",
              "2        80        0.0       5          27     32  \n",
              "3        75        0.0       3          10     13  \n",
              "4        75        0.0       0           1      1  "
            ],
            "text/html": [
              "\n",
              "  <div id=\"df-44eafa87-293c-483b-b02e-01a877e12fd9\">\n",
              "    <div class=\"colab-df-container\">\n",
              "      <div>\n",
              "<style scoped>\n",
              "    .dataframe tbody tr th:only-of-type {\n",
              "        vertical-align: middle;\n",
              "    }\n",
              "\n",
              "    .dataframe tbody tr th {\n",
              "        vertical-align: top;\n",
              "    }\n",
              "\n",
              "    .dataframe thead th {\n",
              "        text-align: right;\n",
              "    }\n",
              "</style>\n",
              "<table border=\"1\" class=\"dataframe\">\n",
              "  <thead>\n",
              "    <tr style=\"text-align: right;\">\n",
              "      <th></th>\n",
              "      <th>datetime</th>\n",
              "      <th>season</th>\n",
              "      <th>holiday</th>\n",
              "      <th>workingday</th>\n",
              "      <th>weather</th>\n",
              "      <th>temp</th>\n",
              "      <th>atemp</th>\n",
              "      <th>humidity</th>\n",
              "      <th>windspeed</th>\n",
              "      <th>casual</th>\n",
              "      <th>registered</th>\n",
              "      <th>count</th>\n",
              "    </tr>\n",
              "  </thead>\n",
              "  <tbody>\n",
              "    <tr>\n",
              "      <th>0</th>\n",
              "      <td>2011-01-01 00:00:00</td>\n",
              "      <td>1</td>\n",
              "      <td>0</td>\n",
              "      <td>0</td>\n",
              "      <td>1</td>\n",
              "      <td>9.84</td>\n",
              "      <td>14.395</td>\n",
              "      <td>81</td>\n",
              "      <td>0.0</td>\n",
              "      <td>3</td>\n",
              "      <td>13</td>\n",
              "      <td>16</td>\n",
              "    </tr>\n",
              "    <tr>\n",
              "      <th>1</th>\n",
              "      <td>2011-01-01 01:00:00</td>\n",
              "      <td>1</td>\n",
              "      <td>0</td>\n",
              "      <td>0</td>\n",
              "      <td>1</td>\n",
              "      <td>9.02</td>\n",
              "      <td>13.635</td>\n",
              "      <td>80</td>\n",
              "      <td>0.0</td>\n",
              "      <td>8</td>\n",
              "      <td>32</td>\n",
              "      <td>40</td>\n",
              "    </tr>\n",
              "    <tr>\n",
              "      <th>2</th>\n",
              "      <td>2011-01-01 02:00:00</td>\n",
              "      <td>1</td>\n",
              "      <td>0</td>\n",
              "      <td>0</td>\n",
              "      <td>1</td>\n",
              "      <td>9.02</td>\n",
              "      <td>13.635</td>\n",
              "      <td>80</td>\n",
              "      <td>0.0</td>\n",
              "      <td>5</td>\n",
              "      <td>27</td>\n",
              "      <td>32</td>\n",
              "    </tr>\n",
              "    <tr>\n",
              "      <th>3</th>\n",
              "      <td>2011-01-01 03:00:00</td>\n",
              "      <td>1</td>\n",
              "      <td>0</td>\n",
              "      <td>0</td>\n",
              "      <td>1</td>\n",
              "      <td>9.84</td>\n",
              "      <td>14.395</td>\n",
              "      <td>75</td>\n",
              "      <td>0.0</td>\n",
              "      <td>3</td>\n",
              "      <td>10</td>\n",
              "      <td>13</td>\n",
              "    </tr>\n",
              "    <tr>\n",
              "      <th>4</th>\n",
              "      <td>2011-01-01 04:00:00</td>\n",
              "      <td>1</td>\n",
              "      <td>0</td>\n",
              "      <td>0</td>\n",
              "      <td>1</td>\n",
              "      <td>9.84</td>\n",
              "      <td>14.395</td>\n",
              "      <td>75</td>\n",
              "      <td>0.0</td>\n",
              "      <td>0</td>\n",
              "      <td>1</td>\n",
              "      <td>1</td>\n",
              "    </tr>\n",
              "  </tbody>\n",
              "</table>\n",
              "</div>\n",
              "      <button class=\"colab-df-convert\" onclick=\"convertToInteractive('df-44eafa87-293c-483b-b02e-01a877e12fd9')\"\n",
              "              title=\"Convert this dataframe to an interactive table.\"\n",
              "              style=\"display:none;\">\n",
              "        \n",
              "  <svg xmlns=\"http://www.w3.org/2000/svg\" height=\"24px\"viewBox=\"0 0 24 24\"\n",
              "       width=\"24px\">\n",
              "    <path d=\"M0 0h24v24H0V0z\" fill=\"none\"/>\n",
              "    <path d=\"M18.56 5.44l.94 2.06.94-2.06 2.06-.94-2.06-.94-.94-2.06-.94 2.06-2.06.94zm-11 1L8.5 8.5l.94-2.06 2.06-.94-2.06-.94L8.5 2.5l-.94 2.06-2.06.94zm10 10l.94 2.06.94-2.06 2.06-.94-2.06-.94-.94-2.06-.94 2.06-2.06.94z\"/><path d=\"M17.41 7.96l-1.37-1.37c-.4-.4-.92-.59-1.43-.59-.52 0-1.04.2-1.43.59L10.3 9.45l-7.72 7.72c-.78.78-.78 2.05 0 2.83L4 21.41c.39.39.9.59 1.41.59.51 0 1.02-.2 1.41-.59l7.78-7.78 2.81-2.81c.8-.78.8-2.07 0-2.86zM5.41 20L4 18.59l7.72-7.72 1.47 1.35L5.41 20z\"/>\n",
              "  </svg>\n",
              "      </button>\n",
              "      \n",
              "  <style>\n",
              "    .colab-df-container {\n",
              "      display:flex;\n",
              "      flex-wrap:wrap;\n",
              "      gap: 12px;\n",
              "    }\n",
              "\n",
              "    .colab-df-convert {\n",
              "      background-color: #E8F0FE;\n",
              "      border: none;\n",
              "      border-radius: 50%;\n",
              "      cursor: pointer;\n",
              "      display: none;\n",
              "      fill: #1967D2;\n",
              "      height: 32px;\n",
              "      padding: 0 0 0 0;\n",
              "      width: 32px;\n",
              "    }\n",
              "\n",
              "    .colab-df-convert:hover {\n",
              "      background-color: #E2EBFA;\n",
              "      box-shadow: 0px 1px 2px rgba(60, 64, 67, 0.3), 0px 1px 3px 1px rgba(60, 64, 67, 0.15);\n",
              "      fill: #174EA6;\n",
              "    }\n",
              "\n",
              "    [theme=dark] .colab-df-convert {\n",
              "      background-color: #3B4455;\n",
              "      fill: #D2E3FC;\n",
              "    }\n",
              "\n",
              "    [theme=dark] .colab-df-convert:hover {\n",
              "      background-color: #434B5C;\n",
              "      box-shadow: 0px 1px 3px 1px rgba(0, 0, 0, 0.15);\n",
              "      filter: drop-shadow(0px 1px 2px rgba(0, 0, 0, 0.3));\n",
              "      fill: #FFFFFF;\n",
              "    }\n",
              "  </style>\n",
              "\n",
              "      <script>\n",
              "        const buttonEl =\n",
              "          document.querySelector('#df-44eafa87-293c-483b-b02e-01a877e12fd9 button.colab-df-convert');\n",
              "        buttonEl.style.display =\n",
              "          google.colab.kernel.accessAllowed ? 'block' : 'none';\n",
              "\n",
              "        async function convertToInteractive(key) {\n",
              "          const element = document.querySelector('#df-44eafa87-293c-483b-b02e-01a877e12fd9');\n",
              "          const dataTable =\n",
              "            await google.colab.kernel.invokeFunction('convertToInteractive',\n",
              "                                                     [key], {});\n",
              "          if (!dataTable) return;\n",
              "\n",
              "          const docLinkHtml = 'Like what you see? Visit the ' +\n",
              "            '<a target=\"_blank\" href=https://colab.research.google.com/notebooks/data_table.ipynb>data table notebook</a>'\n",
              "            + ' to learn more about interactive tables.';\n",
              "          element.innerHTML = '';\n",
              "          dataTable['output_type'] = 'display_data';\n",
              "          await google.colab.output.renderOutput(dataTable, element);\n",
              "          const docLink = document.createElement('div');\n",
              "          docLink.innerHTML = docLinkHtml;\n",
              "          element.appendChild(docLink);\n",
              "        }\n",
              "      </script>\n",
              "    </div>\n",
              "  </div>\n",
              "  "
            ]
          },
          "metadata": {},
          "execution_count": 172
        }
      ]
    },
    {
      "cell_type": "markdown",
      "source": [
        "**datetime 컬럼을 datetime 자료형으로 변환하고 연, 월, 일, 시, 분, 초까지 6가지 컬럼 생성하기**"
      ],
      "metadata": {
        "id": "SB3oLSuo2b3N"
      }
    },
    {
      "cell_type": "code",
      "source": [
        "from datetime import datetime\n",
        "\n",
        "train['datetime'] = pd.to_datetime(train['datetime'], format='%Y-%m-%d %H:%M:%S')\n",
        "# 다른 방법으로 astype(str) 으로 자료형 변환 가능"
      ],
      "metadata": {
        "id": "zcc7WOPJoEMP"
      },
      "execution_count": 173,
      "outputs": []
    },
    {
      "cell_type": "code",
      "source": [
        "train.info()"
      ],
      "metadata": {
        "colab": {
          "base_uri": "https://localhost:8080/"
        },
        "id": "fM5KbP_etQCA",
        "outputId": "c8bde767-22d5-4e38-ea40-817eecce92c4"
      },
      "execution_count": 177,
      "outputs": [
        {
          "output_type": "stream",
          "name": "stdout",
          "text": [
            "<class 'pandas.core.frame.DataFrame'>\n",
            "RangeIndex: 10886 entries, 0 to 10885\n",
            "Data columns (total 12 columns):\n",
            " #   Column      Non-Null Count  Dtype  \n",
            "---  ------      --------------  -----  \n",
            " 0   datetime    10886 non-null  object \n",
            " 1   season      10886 non-null  int64  \n",
            " 2   holiday     10886 non-null  int64  \n",
            " 3   workingday  10886 non-null  int64  \n",
            " 4   weather     10886 non-null  int64  \n",
            " 5   temp        10886 non-null  float64\n",
            " 6   atemp       10886 non-null  float64\n",
            " 7   humidity    10886 non-null  int64  \n",
            " 8   windspeed   10886 non-null  float64\n",
            " 9   casual      10886 non-null  int64  \n",
            " 10  registered  10886 non-null  int64  \n",
            " 11  count       10886 non-null  int64  \n",
            "dtypes: float64(3), int64(8), object(1)\n",
            "memory usage: 1020.7+ KB\n"
          ]
        }
      ]
    },
    {
      "cell_type": "code",
      "source": [
        "train.head()"
      ],
      "metadata": {
        "colab": {
          "base_uri": "https://localhost:8080/",
          "height": 206
        },
        "id": "7XqfSRO4tVXh",
        "outputId": "8debc42e-28cd-4010-9985-717a8c222025"
      },
      "execution_count": 178,
      "outputs": [
        {
          "output_type": "execute_result",
          "data": {
            "text/plain": [
              "              datetime  season  holiday  workingday  weather  temp   atemp  \\\n",
              "0  2011-01-01 00:00:00       1        0           0        1  9.84  14.395   \n",
              "1  2011-01-01 01:00:00       1        0           0        1  9.02  13.635   \n",
              "2  2011-01-01 02:00:00       1        0           0        1  9.02  13.635   \n",
              "3  2011-01-01 03:00:00       1        0           0        1  9.84  14.395   \n",
              "4  2011-01-01 04:00:00       1        0           0        1  9.84  14.395   \n",
              "\n",
              "   humidity  windspeed  casual  registered  count  \n",
              "0        81        0.0       3          13     16  \n",
              "1        80        0.0       8          32     40  \n",
              "2        80        0.0       5          27     32  \n",
              "3        75        0.0       3          10     13  \n",
              "4        75        0.0       0           1      1  "
            ],
            "text/html": [
              "\n",
              "  <div id=\"df-78600551-b747-44ae-8f6f-d55d48c98b0e\">\n",
              "    <div class=\"colab-df-container\">\n",
              "      <div>\n",
              "<style scoped>\n",
              "    .dataframe tbody tr th:only-of-type {\n",
              "        vertical-align: middle;\n",
              "    }\n",
              "\n",
              "    .dataframe tbody tr th {\n",
              "        vertical-align: top;\n",
              "    }\n",
              "\n",
              "    .dataframe thead th {\n",
              "        text-align: right;\n",
              "    }\n",
              "</style>\n",
              "<table border=\"1\" class=\"dataframe\">\n",
              "  <thead>\n",
              "    <tr style=\"text-align: right;\">\n",
              "      <th></th>\n",
              "      <th>datetime</th>\n",
              "      <th>season</th>\n",
              "      <th>holiday</th>\n",
              "      <th>workingday</th>\n",
              "      <th>weather</th>\n",
              "      <th>temp</th>\n",
              "      <th>atemp</th>\n",
              "      <th>humidity</th>\n",
              "      <th>windspeed</th>\n",
              "      <th>casual</th>\n",
              "      <th>registered</th>\n",
              "      <th>count</th>\n",
              "    </tr>\n",
              "  </thead>\n",
              "  <tbody>\n",
              "    <tr>\n",
              "      <th>0</th>\n",
              "      <td>2011-01-01 00:00:00</td>\n",
              "      <td>1</td>\n",
              "      <td>0</td>\n",
              "      <td>0</td>\n",
              "      <td>1</td>\n",
              "      <td>9.84</td>\n",
              "      <td>14.395</td>\n",
              "      <td>81</td>\n",
              "      <td>0.0</td>\n",
              "      <td>3</td>\n",
              "      <td>13</td>\n",
              "      <td>16</td>\n",
              "    </tr>\n",
              "    <tr>\n",
              "      <th>1</th>\n",
              "      <td>2011-01-01 01:00:00</td>\n",
              "      <td>1</td>\n",
              "      <td>0</td>\n",
              "      <td>0</td>\n",
              "      <td>1</td>\n",
              "      <td>9.02</td>\n",
              "      <td>13.635</td>\n",
              "      <td>80</td>\n",
              "      <td>0.0</td>\n",
              "      <td>8</td>\n",
              "      <td>32</td>\n",
              "      <td>40</td>\n",
              "    </tr>\n",
              "    <tr>\n",
              "      <th>2</th>\n",
              "      <td>2011-01-01 02:00:00</td>\n",
              "      <td>1</td>\n",
              "      <td>0</td>\n",
              "      <td>0</td>\n",
              "      <td>1</td>\n",
              "      <td>9.02</td>\n",
              "      <td>13.635</td>\n",
              "      <td>80</td>\n",
              "      <td>0.0</td>\n",
              "      <td>5</td>\n",
              "      <td>27</td>\n",
              "      <td>32</td>\n",
              "    </tr>\n",
              "    <tr>\n",
              "      <th>3</th>\n",
              "      <td>2011-01-01 03:00:00</td>\n",
              "      <td>1</td>\n",
              "      <td>0</td>\n",
              "      <td>0</td>\n",
              "      <td>1</td>\n",
              "      <td>9.84</td>\n",
              "      <td>14.395</td>\n",
              "      <td>75</td>\n",
              "      <td>0.0</td>\n",
              "      <td>3</td>\n",
              "      <td>10</td>\n",
              "      <td>13</td>\n",
              "    </tr>\n",
              "    <tr>\n",
              "      <th>4</th>\n",
              "      <td>2011-01-01 04:00:00</td>\n",
              "      <td>1</td>\n",
              "      <td>0</td>\n",
              "      <td>0</td>\n",
              "      <td>1</td>\n",
              "      <td>9.84</td>\n",
              "      <td>14.395</td>\n",
              "      <td>75</td>\n",
              "      <td>0.0</td>\n",
              "      <td>0</td>\n",
              "      <td>1</td>\n",
              "      <td>1</td>\n",
              "    </tr>\n",
              "  </tbody>\n",
              "</table>\n",
              "</div>\n",
              "      <button class=\"colab-df-convert\" onclick=\"convertToInteractive('df-78600551-b747-44ae-8f6f-d55d48c98b0e')\"\n",
              "              title=\"Convert this dataframe to an interactive table.\"\n",
              "              style=\"display:none;\">\n",
              "        \n",
              "  <svg xmlns=\"http://www.w3.org/2000/svg\" height=\"24px\"viewBox=\"0 0 24 24\"\n",
              "       width=\"24px\">\n",
              "    <path d=\"M0 0h24v24H0V0z\" fill=\"none\"/>\n",
              "    <path d=\"M18.56 5.44l.94 2.06.94-2.06 2.06-.94-2.06-.94-.94-2.06-.94 2.06-2.06.94zm-11 1L8.5 8.5l.94-2.06 2.06-.94-2.06-.94L8.5 2.5l-.94 2.06-2.06.94zm10 10l.94 2.06.94-2.06 2.06-.94-2.06-.94-.94-2.06-.94 2.06-2.06.94z\"/><path d=\"M17.41 7.96l-1.37-1.37c-.4-.4-.92-.59-1.43-.59-.52 0-1.04.2-1.43.59L10.3 9.45l-7.72 7.72c-.78.78-.78 2.05 0 2.83L4 21.41c.39.39.9.59 1.41.59.51 0 1.02-.2 1.41-.59l7.78-7.78 2.81-2.81c.8-.78.8-2.07 0-2.86zM5.41 20L4 18.59l7.72-7.72 1.47 1.35L5.41 20z\"/>\n",
              "  </svg>\n",
              "      </button>\n",
              "      \n",
              "  <style>\n",
              "    .colab-df-container {\n",
              "      display:flex;\n",
              "      flex-wrap:wrap;\n",
              "      gap: 12px;\n",
              "    }\n",
              "\n",
              "    .colab-df-convert {\n",
              "      background-color: #E8F0FE;\n",
              "      border: none;\n",
              "      border-radius: 50%;\n",
              "      cursor: pointer;\n",
              "      display: none;\n",
              "      fill: #1967D2;\n",
              "      height: 32px;\n",
              "      padding: 0 0 0 0;\n",
              "      width: 32px;\n",
              "    }\n",
              "\n",
              "    .colab-df-convert:hover {\n",
              "      background-color: #E2EBFA;\n",
              "      box-shadow: 0px 1px 2px rgba(60, 64, 67, 0.3), 0px 1px 3px 1px rgba(60, 64, 67, 0.15);\n",
              "      fill: #174EA6;\n",
              "    }\n",
              "\n",
              "    [theme=dark] .colab-df-convert {\n",
              "      background-color: #3B4455;\n",
              "      fill: #D2E3FC;\n",
              "    }\n",
              "\n",
              "    [theme=dark] .colab-df-convert:hover {\n",
              "      background-color: #434B5C;\n",
              "      box-shadow: 0px 1px 3px 1px rgba(0, 0, 0, 0.15);\n",
              "      filter: drop-shadow(0px 1px 2px rgba(0, 0, 0, 0.3));\n",
              "      fill: #FFFFFF;\n",
              "    }\n",
              "  </style>\n",
              "\n",
              "      <script>\n",
              "        const buttonEl =\n",
              "          document.querySelector('#df-78600551-b747-44ae-8f6f-d55d48c98b0e button.colab-df-convert');\n",
              "        buttonEl.style.display =\n",
              "          google.colab.kernel.accessAllowed ? 'block' : 'none';\n",
              "\n",
              "        async function convertToInteractive(key) {\n",
              "          const element = document.querySelector('#df-78600551-b747-44ae-8f6f-d55d48c98b0e');\n",
              "          const dataTable =\n",
              "            await google.colab.kernel.invokeFunction('convertToInteractive',\n",
              "                                                     [key], {});\n",
              "          if (!dataTable) return;\n",
              "\n",
              "          const docLinkHtml = 'Like what you see? Visit the ' +\n",
              "            '<a target=\"_blank\" href=https://colab.research.google.com/notebooks/data_table.ipynb>data table notebook</a>'\n",
              "            + ' to learn more about interactive tables.';\n",
              "          element.innerHTML = '';\n",
              "          dataTable['output_type'] = 'display_data';\n",
              "          await google.colab.output.renderOutput(dataTable, element);\n",
              "          const docLink = document.createElement('div');\n",
              "          docLink.innerHTML = docLinkHtml;\n",
              "          element.appendChild(docLink);\n",
              "        }\n",
              "      </script>\n",
              "    </div>\n",
              "  </div>\n",
              "  "
            ]
          },
          "metadata": {},
          "execution_count": 178
        }
      ]
    },
    {
      "cell_type": "code",
      "source": [
        "train['year'] = pd.DatetimeIndex(train['datetime']).year\n",
        "train['month'] = pd.DatetimeIndex(train['datetime']).month\n",
        "train['day'] = pd.DatetimeIndex(train['datetime']).day\n",
        "train['hour'] = pd.DatetimeIndex(train['datetime']).hour\n",
        "train['minute'] = pd.DatetimeIndex(train['datetime']).minute\n",
        "train['second'] = pd.DatetimeIndex(train['datetime']).second\n",
        "# 6가지 컬럼을 생성한다."
      ],
      "metadata": {
        "id": "oDrAJRjbJd6e"
      },
      "execution_count": 287,
      "outputs": []
    },
    {
      "cell_type": "code",
      "source": [
        "import seaborn as sns\n",
        "import matplotlib as mpl\n",
        "import matplotlib.pyplot as plt\n",
        "%matplotlib inline"
      ],
      "metadata": {
        "id": "c2hOhpO9t4qP"
      },
      "execution_count": 292,
      "outputs": []
    },
    {
      "cell_type": "code",
      "source": [
        "# 분포도 추가\n",
        "# 타깃값인 count의 분포도 그리기\n",
        "# 타깃값의 분포를 알면 훈련 시 타깃값을 그대로 사용할지 변환해 사용할지 파악할 수 있기 때문\n",
        "\n",
        "mpl.rc('font', size=15)      # 폰트 크기를 15로 설정 \n",
        "sns.displot(train['count']); # 분포도 출력"
      ],
      "metadata": {
        "colab": {
          "base_uri": "https://localhost:8080/",
          "height": 358
        },
        "id": "gTjTItIQ3cz8",
        "outputId": "b13c323c-f0df-48fd-82bc-b178a671068a"
      },
      "execution_count": 293,
      "outputs": [
        {
          "output_type": "display_data",
          "data": {
            "text/plain": [
              "<Figure size 360x360 with 1 Axes>"
            ],
            "image/png": "[encoded data removed]"
          },
          "metadata": {
            "needs_background": "light"
          }
        }
      ]
    },
    {
      "cell_type": "markdown",
      "source": [
        "* count(타깃값)이 0에 몰려있다\n",
        "* 정규분포를 따르기 위해 log 변환해준다."
      ],
      "metadata": {
        "id": "gU3ZqpXe1Fvr"
      }
    },
    {
      "cell_type": "code",
      "source": [
        "sns.displot(np.log(train['count']));"
      ],
      "metadata": {
        "colab": {
          "base_uri": "https://localhost:8080/",
          "height": 358
        },
        "id": "gz62unPr3iUz",
        "outputId": "1dd1b1ad-6281-43dd-9df6-63767e9b3925"
      },
      "execution_count": 294,
      "outputs": [
        {
          "output_type": "display_data",
          "data": {
            "text/plain": [
              "<Figure size 360x360 with 1 Axes>"
            ],
            "image/png": "[encoded data removed]"
          },
          "metadata": {
            "needs_background": "light"
          }
        }
      ]
    },
    {
      "cell_type": "markdown",
      "source": [
        "**year, month, day, hour, minute, second 데이터 개수 시각화하기**"
      ],
      "metadata": {
        "id": "rhfSrZWFJvZC"
      }
    },
    {
      "cell_type": "code",
      "source": [
        "plt.figure(figsize=(20,10))\n",
        "plt.subplot(2,3,1)\n",
        "sns.countplot(x = 'year', data=train)\n",
        "\n",
        "plt.subplot(2,3,2)\n",
        "sns.countplot(x = 'month', data=train)\n",
        "\n",
        "plt.subplot(2,3,3)\n",
        "sns.countplot(x = 'day', data=train)\n",
        "\n",
        "plt.subplot(2,3,4)\n",
        "sns.countplot(x = 'hour', data=train)\n",
        "\n",
        "plt.subplot(2,3,5)\n",
        "sns.countplot(x = 'minute', data=train)\n",
        "\n",
        "plt.subplot(2,3,6)\n",
        "sns.countplot(x = 'second',data=train)\n",
        "\n",
        "plt.show()"
      ],
      "metadata": {
        "colab": {
          "base_uri": "https://localhost:8080/",
          "height": 620
        },
        "id": "aFjFbHEbGorl",
        "outputId": "4dca87ea-e5c9-4a98-9bac-58de5224df2c"
      },
      "execution_count": 218,
      "outputs": [
        {
          "output_type": "display_data",
          "data": {
            "text/plain": [
              "<Figure size 1440x720 with 6 Axes>"
            ],
            "image/png": "[encoded data removed]"
          },
          "metadata": {
            "needs_background": "light"
          }
        }
      ]
    },
    {
      "cell_type": "markdown",
      "source": [
        "**X, y 컬럼 선택 및 train/test 데이터 분리**"
      ],
      "metadata": {
        "id": "WEfXldtb25ae"
      }
    },
    {
      "cell_type": "code",
      "source": [
        "X = train[['season', 'workingday', 'weather', 'temp', 'atemp', 'humidity', 'windspeed', 'year', 'month', 'day', 'hour',]].values\n",
        "y = train[['count']].values"
      ],
      "metadata": {
        "id": "1eCDsK4FG_ZT"
      },
      "execution_count": 187,
      "outputs": []
    },
    {
      "cell_type": "code",
      "source": [
        "from sklearn.model_selection import train_test_split\n",
        "\n",
        "X_train, X_test, y_train, y_test = train_test_split(X, y, test_size=0.2, random_state=2)\n",
        "\n",
        "print(X_train.shape, y_train.shape)\n",
        "print(X_test.shape, y_test.shape)"
      ],
      "metadata": {
        "colab": {
          "base_uri": "https://localhost:8080/"
        },
        "id": "YKk90aPUG_i5",
        "outputId": "b4b9d9bb-a9b9-41bf-c0d2-039e52df32b9"
      },
      "execution_count": 279,
      "outputs": [
        {
          "output_type": "stream",
          "name": "stdout",
          "text": [
            "(8708, 11) (8708, 1)\n",
            "(2178, 11) (2178, 1)\n"
          ]
        }
      ]
    },
    {
      "cell_type": "markdown",
      "source": [
        "**LinearRegression 모델 학습**"
      ],
      "metadata": {
        "id": "LhKkxZVeKc_e"
      }
    },
    {
      "cell_type": "code",
      "source": [
        "from sklearn.linear_model import LinearRegression\n",
        "\n",
        "model = LinearRegression()  #LinearRegression 모델 불러오기"
      ],
      "metadata": {
        "id": "SLvpPWTVHJH6"
      },
      "execution_count": 280,
      "outputs": []
    },
    {
      "cell_type": "code",
      "source": [
        "model.fit(X_train, y_train)  # 모델 학습하기"
      ],
      "metadata": {
        "colab": {
          "base_uri": "https://localhost:8080/"
        },
        "id": "6mX4OidIHcee",
        "outputId": "d19d72bf-077e-461f-ff29-41c3c2eeba33"
      },
      "execution_count": 281,
      "outputs": [
        {
          "output_type": "execute_result",
          "data": {
            "text/plain": [
              "LinearRegression()"
            ]
          },
          "metadata": {},
          "execution_count": 281
        }
      ]
    },
    {
      "cell_type": "markdown",
      "source": [
        "학습된 모델로 X_test 에 대한 예측값 출력 및 손실함수값 계산"
      ],
      "metadata": {
        "id": "42mfui4zKs5F"
      }
    },
    {
      "cell_type": "code",
      "source": [
        "predictions = model.predict(X_test)\n",
        "predictions\n",
        "# 모델이 예측한 값"
      ],
      "metadata": {
        "colab": {
          "base_uri": "https://localhost:8080/"
        },
        "id": "I5KLnJLdHeUr",
        "outputId": "34787da7-bcd4-40be-af6c-f718cfac8e09"
      },
      "execution_count": 282,
      "outputs": [
        {
          "output_type": "execute_result",
          "data": {
            "text/plain": [
              "array([[-33.96697339],\n",
              "       [ 59.23679918],\n",
              "       [112.62548605],\n",
              "       ...,\n",
              "       [195.79183719],\n",
              "       [197.74006566],\n",
              "       [294.24680107]])"
            ]
          },
          "metadata": {},
          "execution_count": 282
        }
      ]
    },
    {
      "cell_type": "code",
      "source": [
        "from sklearn.metrics import mean_squared_error\n",
        "\n",
        "mse = mean_squared_error(y_test, predictions)\n",
        "mse\n",
        "# 손실함수 값 계산"
      ],
      "metadata": {
        "colab": {
          "base_uri": "https://localhost:8080/"
        },
        "id": "re50E7_Bun46",
        "outputId": "645b62e5-8fa3-4002-9cef-b5e8a392321d"
      },
      "execution_count": 283,
      "outputs": [
        {
          "output_type": "execute_result",
          "data": {
            "text/plain": [
              "19733.30581586304"
            ]
          },
          "metadata": {},
          "execution_count": 283
        }
      ]
    },
    {
      "cell_type": "code",
      "source": [
        "rmse = mse**0.5\n",
        "rmse\n",
        "# 위에서 계산 mse를 바탕으로 rmse 계산"
      ],
      "metadata": {
        "colab": {
          "base_uri": "https://localhost:8080/"
        },
        "id": "W9nN8zVsHlAg",
        "outputId": "5fd7bdaf-bd18-4740-d3a1-89b9467f9c9d"
      },
      "execution_count": 284,
      "outputs": [
        {
          "output_type": "execute_result",
          "data": {
            "text/plain": [
              "140.47528542723464"
            ]
          },
          "metadata": {},
          "execution_count": 284
        }
      ]
    },
    {
      "cell_type": "code",
      "source": [
        "col = ['season', 'workingday', 'weather', 'temp', 'atemp', 'humidity', 'windspeed', 'year', 'month', 'day', 'hour']\n",
        "X_test_df = pd.DataFrame(X_test, columns=col)\n",
        "X_test_df['predictions'] = predictions\n",
        "X_test_df['y_test'] = y_test"
      ],
      "metadata": {
        "id": "jOx7p73CJJCl"
      },
      "execution_count": 285,
      "outputs": []
    },
    {
      "cell_type": "code",
      "source": [
        "X_test_df"
      ],
      "metadata": {
        "colab": {
          "base_uri": "https://localhost:8080/",
          "height": 424
        },
        "id": "gsHqfkFgJJhe",
        "outputId": "fc422a39-511d-4028-fb35-ff6834838d61"
      },
      "execution_count": 212,
      "outputs": [
        {
          "output_type": "execute_result",
          "data": {
            "text/plain": [
              "     season workingday weather   temp   atemp humidity windspeed  year month  \\\n",
              "0         3          1       1  33.62   40.15       59       0.0  2011    07   \n",
              "1         1          0       1    4.1    6.82       54    6.0032  2012    01   \n",
              "2         4          0       1   9.84  11.365       48    12.998  2011    12   \n",
              "3         3          1       2  29.52   34.09       62    12.998  2012    08   \n",
              "4         2          1       1  25.42   31.06       53   16.9979  2012    06   \n",
              "...     ...        ...     ...    ...     ...      ...       ...   ...   ...   \n",
              "2173      2          0       3  23.78  27.275       49   19.0012  2011    05   \n",
              "2174      1          1       3  13.12   15.15       66   22.0028  2012    01   \n",
              "2175      4          0       1   16.4  20.455       40    12.998  2012    11   \n",
              "2176      1          0       1  11.48  14.395       81    7.0015  2012    01   \n",
              "2177      2          1       3  26.24  30.305       73    12.998  2012    05   \n",
              "\n",
              "     day hour  predictions  y_test  \n",
              "0     19   11   248.058916     127  \n",
              "1     16   06    56.380815      13  \n",
              "2     11   18   200.227700     163  \n",
              "3     15   10   292.817393     233  \n",
              "4     15   23   388.759208     222  \n",
              "...   ..  ...          ...     ...  \n",
              "2173  08   17   223.424206     351  \n",
              "2174  17   04    68.454724       2  \n",
              "2175  04   14   308.936382     509  \n",
              "2176  01   05    37.202781       5  \n",
              "2177  15   13   243.695296     239  \n",
              "\n",
              "[2178 rows x 13 columns]"
            ],
            "text/html": [
              "\n",
              "  <div id=\"df-e254947b-5921-40c7-9e93-eaeaea3508bf\">\n",
              "    <div class=\"colab-df-container\">\n",
              "      <div>\n",
              "<style scoped>\n",
              "    .dataframe tbody tr th:only-of-type {\n",
              "        vertical-align: middle;\n",
              "    }\n",
              "\n",
              "    .dataframe tbody tr th {\n",
              "        vertical-align: top;\n",
              "    }\n",
              "\n",
              "    .dataframe thead th {\n",
              "        text-align: right;\n",
              "    }\n",
              "</style>\n",
              "<table border=\"1\" class=\"dataframe\">\n",
              "  <thead>\n",
              "    <tr style=\"text-align: right;\">\n",
              "      <th></th>\n",
              "      <th>season</th>\n",
              "      <th>workingday</th>\n",
              "      <th>weather</th>\n",
              "      <th>temp</th>\n",
              "      <th>atemp</th>\n",
              "      <th>humidity</th>\n",
              "      <th>windspeed</th>\n",
              "      <th>year</th>\n",
              "      <th>month</th>\n",
              "      <th>day</th>\n",
              "      <th>hour</th>\n",
              "      <th>predictions</th>\n",
              "      <th>y_test</th>\n",
              "    </tr>\n",
              "  </thead>\n",
              "  <tbody>\n",
              "    <tr>\n",
              "      <th>0</th>\n",
              "      <td>3</td>\n",
              "      <td>1</td>\n",
              "      <td>1</td>\n",
              "      <td>33.62</td>\n",
              "      <td>40.15</td>\n",
              "      <td>59</td>\n",
              "      <td>0.0</td>\n",
              "      <td>2011</td>\n",
              "      <td>07</td>\n",
              "      <td>19</td>\n",
              "      <td>11</td>\n",
              "      <td>248.058916</td>\n",
              "      <td>127</td>\n",
              "    </tr>\n",
              "    <tr>\n",
              "      <th>1</th>\n",
              "      <td>1</td>\n",
              "      <td>0</td>\n",
              "      <td>1</td>\n",
              "      <td>4.1</td>\n",
              "      <td>6.82</td>\n",
              "      <td>54</td>\n",
              "      <td>6.0032</td>\n",
              "      <td>2012</td>\n",
              "      <td>01</td>\n",
              "      <td>16</td>\n",
              "      <td>06</td>\n",
              "      <td>56.380815</td>\n",
              "      <td>13</td>\n",
              "    </tr>\n",
              "    <tr>\n",
              "      <th>2</th>\n",
              "      <td>4</td>\n",
              "      <td>0</td>\n",
              "      <td>1</td>\n",
              "      <td>9.84</td>\n",
              "      <td>11.365</td>\n",
              "      <td>48</td>\n",
              "      <td>12.998</td>\n",
              "      <td>2011</td>\n",
              "      <td>12</td>\n",
              "      <td>11</td>\n",
              "      <td>18</td>\n",
              "      <td>200.227700</td>\n",
              "      <td>163</td>\n",
              "    </tr>\n",
              "    <tr>\n",
              "      <th>3</th>\n",
              "      <td>3</td>\n",
              "      <td>1</td>\n",
              "      <td>2</td>\n",
              "      <td>29.52</td>\n",
              "      <td>34.09</td>\n",
              "      <td>62</td>\n",
              "      <td>12.998</td>\n",
              "      <td>2012</td>\n",
              "      <td>08</td>\n",
              "      <td>15</td>\n",
              "      <td>10</td>\n",
              "      <td>292.817393</td>\n",
              "      <td>233</td>\n",
              "    </tr>\n",
              "    <tr>\n",
              "      <th>4</th>\n",
              "      <td>2</td>\n",
              "      <td>1</td>\n",
              "      <td>1</td>\n",
              "      <td>25.42</td>\n",
              "      <td>31.06</td>\n",
              "      <td>53</td>\n",
              "      <td>16.9979</td>\n",
              "      <td>2012</td>\n",
              "      <td>06</td>\n",
              "      <td>15</td>\n",
              "      <td>23</td>\n",
              "      <td>388.759208</td>\n",
              "      <td>222</td>\n",
              "    </tr>\n",
              "    <tr>\n",
              "      <th>...</th>\n",
              "      <td>...</td>\n",
              "      <td>...</td>\n",
              "      <td>...</td>\n",
              "      <td>...</td>\n",
              "      <td>...</td>\n",
              "      <td>...</td>\n",
              "      <td>...</td>\n",
              "      <td>...</td>\n",
              "      <td>...</td>\n",
              "      <td>...</td>\n",
              "      <td>...</td>\n",
              "      <td>...</td>\n",
              "      <td>...</td>\n",
              "    </tr>\n",
              "    <tr>\n",
              "      <th>2173</th>\n",
              "      <td>2</td>\n",
              "      <td>0</td>\n",
              "      <td>3</td>\n",
              "      <td>23.78</td>\n",
              "      <td>27.275</td>\n",
              "      <td>49</td>\n",
              "      <td>19.0012</td>\n",
              "      <td>2011</td>\n",
              "      <td>05</td>\n",
              "      <td>08</td>\n",
              "      <td>17</td>\n",
              "      <td>223.424206</td>\n",
              "      <td>351</td>\n",
              "    </tr>\n",
              "    <tr>\n",
              "      <th>2174</th>\n",
              "      <td>1</td>\n",
              "      <td>1</td>\n",
              "      <td>3</td>\n",
              "      <td>13.12</td>\n",
              "      <td>15.15</td>\n",
              "      <td>66</td>\n",
              "      <td>22.0028</td>\n",
              "      <td>2012</td>\n",
              "      <td>01</td>\n",
              "      <td>17</td>\n",
              "      <td>04</td>\n",
              "      <td>68.454724</td>\n",
              "      <td>2</td>\n",
              "    </tr>\n",
              "    <tr>\n",
              "      <th>2175</th>\n",
              "      <td>4</td>\n",
              "      <td>0</td>\n",
              "      <td>1</td>\n",
              "      <td>16.4</td>\n",
              "      <td>20.455</td>\n",
              "      <td>40</td>\n",
              "      <td>12.998</td>\n",
              "      <td>2012</td>\n",
              "      <td>11</td>\n",
              "      <td>04</td>\n",
              "      <td>14</td>\n",
              "      <td>308.936382</td>\n",
              "      <td>509</td>\n",
              "    </tr>\n",
              "    <tr>\n",
              "      <th>2176</th>\n",
              "      <td>1</td>\n",
              "      <td>0</td>\n",
              "      <td>1</td>\n",
              "      <td>11.48</td>\n",
              "      <td>14.395</td>\n",
              "      <td>81</td>\n",
              "      <td>7.0015</td>\n",
              "      <td>2012</td>\n",
              "      <td>01</td>\n",
              "      <td>01</td>\n",
              "      <td>05</td>\n",
              "      <td>37.202781</td>\n",
              "      <td>5</td>\n",
              "    </tr>\n",
              "    <tr>\n",
              "      <th>2177</th>\n",
              "      <td>2</td>\n",
              "      <td>1</td>\n",
              "      <td>3</td>\n",
              "      <td>26.24</td>\n",
              "      <td>30.305</td>\n",
              "      <td>73</td>\n",
              "      <td>12.998</td>\n",
              "      <td>2012</td>\n",
              "      <td>05</td>\n",
              "      <td>15</td>\n",
              "      <td>13</td>\n",
              "      <td>243.695296</td>\n",
              "      <td>239</td>\n",
              "    </tr>\n",
              "  </tbody>\n",
              "</table>\n",
              "<p>2178 rows × 13 columns</p>\n",
              "</div>\n",
              "      <button class=\"colab-df-convert\" onclick=\"convertToInteractive('df-e254947b-5921-40c7-9e93-eaeaea3508bf')\"\n",
              "              title=\"Convert this dataframe to an interactive table.\"\n",
              "              style=\"display:none;\">\n",
              "        \n",
              "  <svg xmlns=\"http://www.w3.org/2000/svg\" height=\"24px\"viewBox=\"0 0 24 24\"\n",
              "       width=\"24px\">\n",
              "    <path d=\"M0 0h24v24H0V0z\" fill=\"none\"/>\n",
              "    <path d=\"M18.56 5.44l.94 2.06.94-2.06 2.06-.94-2.06-.94-.94-2.06-.94 2.06-2.06.94zm-11 1L8.5 8.5l.94-2.06 2.06-.94-2.06-.94L8.5 2.5l-.94 2.06-2.06.94zm10 10l.94 2.06.94-2.06 2.06-.94-2.06-.94-.94-2.06-.94 2.06-2.06.94z\"/><path d=\"M17.41 7.96l-1.37-1.37c-.4-.4-.92-.59-1.43-.59-.52 0-1.04.2-1.43.59L10.3 9.45l-7.72 7.72c-.78.78-.78 2.05 0 2.83L4 21.41c.39.39.9.59 1.41.59.51 0 1.02-.2 1.41-.59l7.78-7.78 2.81-2.81c.8-.78.8-2.07 0-2.86zM5.41 20L4 18.59l7.72-7.72 1.47 1.35L5.41 20z\"/>\n",
              "  </svg>\n",
              "      </button>\n",
              "      \n",
              "  <style>\n",
              "    .colab-df-container {\n",
              "      display:flex;\n",
              "      flex-wrap:wrap;\n",
              "      gap: 12px;\n",
              "    }\n",
              "\n",
              "    .colab-df-convert {\n",
              "      background-color: #E8F0FE;\n",
              "      border: none;\n",
              "      border-radius: 50%;\n",
              "      cursor: pointer;\n",
              "      display: none;\n",
              "      fill: #1967D2;\n",
              "      height: 32px;\n",
              "      padding: 0 0 0 0;\n",
              "      width: 32px;\n",
              "    }\n",
              "\n",
              "    .colab-df-convert:hover {\n",
              "      background-color: #E2EBFA;\n",
              "      box-shadow: 0px 1px 2px rgba(60, 64, 67, 0.3), 0px 1px 3px 1px rgba(60, 64, 67, 0.15);\n",
              "      fill: #174EA6;\n",
              "    }\n",
              "\n",
              "    [theme=dark] .colab-df-convert {\n",
              "      background-color: #3B4455;\n",
              "      fill: #D2E3FC;\n",
              "    }\n",
              "\n",
              "    [theme=dark] .colab-df-convert:hover {\n",
              "      background-color: #434B5C;\n",
              "      box-shadow: 0px 1px 3px 1px rgba(0, 0, 0, 0.15);\n",
              "      filter: drop-shadow(0px 1px 2px rgba(0, 0, 0, 0.3));\n",
              "      fill: #FFFFFF;\n",
              "    }\n",
              "  </style>\n",
              "\n",
              "      <script>\n",
              "        const buttonEl =\n",
              "          document.querySelector('#df-e254947b-5921-40c7-9e93-eaeaea3508bf button.colab-df-convert');\n",
              "        buttonEl.style.display =\n",
              "          google.colab.kernel.accessAllowed ? 'block' : 'none';\n",
              "\n",
              "        async function convertToInteractive(key) {\n",
              "          const element = document.querySelector('#df-e254947b-5921-40c7-9e93-eaeaea3508bf');\n",
              "          const dataTable =\n",
              "            await google.colab.kernel.invokeFunction('convertToInteractive',\n",
              "                                                     [key], {});\n",
              "          if (!dataTable) return;\n",
              "\n",
              "          const docLinkHtml = 'Like what you see? Visit the ' +\n",
              "            '<a target=\"_blank\" href=https://colab.research.google.com/notebooks/data_table.ipynb>data table notebook</a>'\n",
              "            + ' to learn more about interactive tables.';\n",
              "          element.innerHTML = '';\n",
              "          dataTable['output_type'] = 'display_data';\n",
              "          await google.colab.output.renderOutput(dataTable, element);\n",
              "          const docLink = document.createElement('div');\n",
              "          docLink.innerHTML = docLinkHtml;\n",
              "          element.appendChild(docLink);\n",
              "        }\n",
              "      </script>\n",
              "    </div>\n",
              "  </div>\n",
              "  "
            ]
          },
          "metadata": {},
          "execution_count": 212
        }
      ]
    },
    {
      "cell_type": "code",
      "source": [
        "plt.figure(figsize=(20,10))\n",
        "plt.subplot(2,2,1)\n",
        "sns.lineplot(x=X_test_df['temp'], y=X_test_df['predictions'])\n",
        "\n",
        "plt.subplot(2,2,2)\n",
        "sns.lineplot(x=X_test_df['temp'], y=X_test_df['y_test'])\n",
        "\n",
        "# X축에 temp 데이터, y축에 count 데이터\n",
        "\n",
        "plt.subplot(2,2,3)\n",
        "sns.lineplot(x=X_test_df['humidity'], y=X_test_df['predictions'])\n",
        "\n",
        "plt.subplot(2,2,4)\n",
        "sns.lineplot(x=X_test_df['humidity'], y=X_test_df['y_test'])\n",
        "\n",
        "plt.show()\n",
        "\n",
        "# X축에 humidity 데이터, y축에 count 데이터"
      ],
      "metadata": {
        "colab": {
          "base_uri": "https://localhost:8080/",
          "height": 615
        },
        "id": "QPUas67IJKaz",
        "outputId": "2cc0cd19-8d69-40bb-9025-8770c695d3af"
      },
      "execution_count": 213,
      "outputs": [
        {
          "output_type": "display_data",
          "data": {
            "text/plain": [
              "<Figure size 1440x720 with 4 Axes>"
            ],
            "image/png": "[encoded data removed]"
          },
          "metadata": {
            "needs_background": "light"
          }
        }
      ]
    },
    {
      "cell_type": "markdown",
      "source": [
        "* temp\n",
        "x축 값이 온도일 때, 예측한 값과 테스트를 비교해보면 비슷한 그래프가 출력되는 것을 확인할 수 있다.\n",
        "* humiditiy\n",
        "x축 값이 습도일 때도 마찬가지로 예측 그래프와 테스트 그래프가 비슷하게 출력되는 것을 볼 수 있다.\n",
        "\n",
        "* 자전거 수요 예측 모델을 잘 만들어졌다고 할 수 있다."
      ],
      "metadata": {
        "id": "iZsAkv0U4ZYJ"
      }
    },
    {
      "cell_type": "markdown",
      "source": [
        "✍ 회고\n"
      ],
      "metadata": {
        "id": "iYYkCMnt5HQ4"
      }
    },
    {
      "cell_type": "markdown",
      "source": [
        "* LinearRegression 모델을 활용하여 직접 손실함수와 기울기를 계산하지 않았다. 모델을 이용하니 더욱 편리함을 느낄 수 있었다.\n"
      ],
      "metadata": {
        "id": "4e6Dtz7p5-p8"
      }
    },
    {
      "cell_type": "markdown",
      "source": [
        "* 캐글 필사 때는 barplot을 이용했지만, 이번 프로젝트에선 countplot을 사용했다. barplot이 countpolot과 큰 차이점은 y축 값의 설정이 가능하다는 것이다. 위에서 출력한 countplot을 보면 정교한 y축 설정을 하지 못하였다. 그래서 막대그래프들 간의 비교가 어려운 점을 확인할 수 있다."
      ],
      "metadata": {
        "id": "zhAxtMjV6-NW"
      }
    },
    {
      "cell_type": "markdown",
      "source": [
        "* 타깃값의 분포를 그래프로 출력하여 타기값 변환이 필요한지 알 수 있었다."
      ],
      "metadata": {
        "id": "crmtSvcu9q6r"
      }
    }
  ]
}