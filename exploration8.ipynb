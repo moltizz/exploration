{
  "nbformat": 4,
  "nbformat_minor": 0,
  "metadata": {
    "colab": {
      "name": "exploration8.ipynb",
      "provenance": [],
      "collapsed_sections": []
    },
    "kernelspec": {
      "name": "python3",
      "display_name": "Python 3"
    },
    "language_info": {
      "name": "python"
    },
    "accelerator": "GPU",
    "gpuClass": "standard"
  },
  "cells": [
    {
      "cell_type": "markdown",
      "source": [
        "# 프로젝트 8: 네이버 영화리뷰 감성분석 도전하기"
      ],
      "metadata": {
        "id": "k4FZ8xlbANAl"
      }
    },
    {
      "cell_type": "markdown",
      "source": [
        "### 라이브러리 버전 확인"
      ],
      "metadata": {
        "id": "uUkhxz1ABBDL"
      }
    },
    {
      "cell_type": "code",
      "source": [
        "!pip install konlpy"
      ],
      "metadata": {
        "colab": {
          "base_uri": "https://localhost:8080/"
        },
        "id": "M7xFwsVQyXDL",
        "outputId": "9a839ee6-e3ab-43c0-fe45-4cc41d6a24e6"
      },
      "execution_count": 1,
      "outputs": [
        {
          "output_type": "stream",
          "name": "stdout",
          "text": [
            "Looking in indexes: https://pypi.org/simple, https://us-python.pkg.dev/colab-wheels/public/simple/\n",
            "Requirement already satisfied: konlpy in /usr/local/lib/python3.7/dist-packages (0.6.0)\n",
            "Requirement already satisfied: numpy>=1.6 in /usr/local/lib/python3.7/dist-packages (from konlpy) (1.21.6)\n",
            "Requirement already satisfied: JPype1>=0.7.0 in /usr/local/lib/python3.7/dist-packages (from konlpy) (1.4.0)\n",
            "Requirement already satisfied: lxml>=4.1.0 in /usr/local/lib/python3.7/dist-packages (from konlpy) (4.9.1)\n",
            "Requirement already satisfied: typing-extensions in /usr/local/lib/python3.7/dist-packages (from JPype1>=0.7.0->konlpy) (4.1.1)\n"
          ]
        }
      ]
    },
    {
      "cell_type": "code",
      "execution_count": 2,
      "metadata": {
        "colab": {
          "base_uri": "https://localhost:8080/"
        },
        "id": "JsWS5IyJAIiX",
        "outputId": "e7c88d93-3c8b-423a-eb29-0d0cf2ed23c9"
      },
      "outputs": [
        {
          "output_type": "stream",
          "name": "stdout",
          "text": [
            "1.3.5\n",
            "0.6.0\n",
            "3.6.0\n"
          ]
        }
      ],
      "source": [
        "import pandas\n",
        "import konlpy\n",
        "import gensim\n",
        "\n",
        "print(pandas.__version__)\n",
        "print(konlpy.__version__)\n",
        "print(gensim.__version__)"
      ]
    },
    {
      "cell_type": "markdown",
      "source": [
        "### 1. 데이터 준비와 확인"
      ],
      "metadata": {
        "id": "uEtsFzeHQCeg"
      }
    },
    {
      "cell_type": "code",
      "source": [
        "import pandas as pd\n",
        "\n",
        "from konlpy.tag import Mecab  # Mecab : 일본어 형태소 분석기\n",
        "import numpy as np\n",
        "from collections import Counter\n",
        "\n",
        "from tensorflow import keras\n",
        "import tensorflow as tf\n",
        "\n",
        "%matplotlib inline\n",
        "import matplotlib.pyplot as plt\n",
        "import seaborn as sns\n",
        "import re  # 정규 표현식\n",
        "\n",
        "from konlpy.tag import Okt\n",
        "from tensorflow import keras\n",
        "from tensorflow.keras.preprocessing.text import Tokenizer\n",
        "from tensorflow.keras.preprocessing.sequence import pad_sequences\n",
        "from collections import Counter"
      ],
      "metadata": {
        "id": "j8MtHXB8NNly"
      },
      "execution_count": 3,
      "outputs": []
    },
    {
      "cell_type": "code",
      "source": [
        "import pandas as pd\n",
        "\n",
        "train_data = pd.read_table('/content/drive/MyDrive/sentiment_classification/ratings_train.txt')\n",
        "test_data = pd.read_table('/content/drive/MyDrive/sentiment_classification/ratings_test.txt')\n",
        "\n",
        "train_data.head()"
      ],
      "metadata": {
        "colab": {
          "base_uri": "https://localhost:8080/",
          "height": 206
        },
        "id": "erqG3FjvAy8l",
        "outputId": "2b397963-3d8e-4167-aea6-ba556a68671e"
      },
      "execution_count": 4,
      "outputs": [
        {
          "output_type": "execute_result",
          "data": {
            "text/plain": [
              "         id                                           document  label\n",
              "0   9976970                                아 더빙.. 진짜 짜증나네요 목소리      0\n",
              "1   3819312                  흠...포스터보고 초딩영화줄....오버연기조차 가볍지 않구나      1\n",
              "2  10265843                                  너무재밓었다그래서보는것을추천한다      0\n",
              "3   9045019                      교도소 이야기구먼 ..솔직히 재미는 없다..평점 조정      0\n",
              "4   6483659  사이몬페그의 익살스런 연기가 돋보였던 영화!스파이더맨에서 늙어보이기만 했던 커스틴 ...      1"
            ],
            "text/html": [
              "\n",
              "  <div id=\"df-dbfe6520-1b2c-40e2-be4d-dc578371fe60\">\n",
              "    <div class=\"colab-df-container\">\n",
              "      <div>\n",
              "<style scoped>\n",
              "    .dataframe tbody tr th:only-of-type {\n",
              "        vertical-align: middle;\n",
              "    }\n",
              "\n",
              "    .dataframe tbody tr th {\n",
              "        vertical-align: top;\n",
              "    }\n",
              "\n",
              "    .dataframe thead th {\n",
              "        text-align: right;\n",
              "    }\n",
              "</style>\n",
              "<table border=\"1\" class=\"dataframe\">\n",
              "  <thead>\n",
              "    <tr style=\"text-align: right;\">\n",
              "      <th></th>\n",
              "      <th>id</th>\n",
              "      <th>document</th>\n",
              "      <th>label</th>\n",
              "    </tr>\n",
              "  </thead>\n",
              "  <tbody>\n",
              "    <tr>\n",
              "      <th>0</th>\n",
              "      <td>9976970</td>\n",
              "      <td>아 더빙.. 진짜 짜증나네요 목소리</td>\n",
              "      <td>0</td>\n",
              "    </tr>\n",
              "    <tr>\n",
              "      <th>1</th>\n",
              "      <td>3819312</td>\n",
              "      <td>흠...포스터보고 초딩영화줄....오버연기조차 가볍지 않구나</td>\n",
              "      <td>1</td>\n",
              "    </tr>\n",
              "    <tr>\n",
              "      <th>2</th>\n",
              "      <td>10265843</td>\n",
              "      <td>너무재밓었다그래서보는것을추천한다</td>\n",
              "      <td>0</td>\n",
              "    </tr>\n",
              "    <tr>\n",
              "      <th>3</th>\n",
              "      <td>9045019</td>\n",
              "      <td>교도소 이야기구먼 ..솔직히 재미는 없다..평점 조정</td>\n",
              "      <td>0</td>\n",
              "    </tr>\n",
              "    <tr>\n",
              "      <th>4</th>\n",
              "      <td>6483659</td>\n",
              "      <td>사이몬페그의 익살스런 연기가 돋보였던 영화!스파이더맨에서 늙어보이기만 했던 커스틴 ...</td>\n",
              "      <td>1</td>\n",
              "    </tr>\n",
              "  </tbody>\n",
              "</table>\n",
              "</div>\n",
              "      <button class=\"colab-df-convert\" onclick=\"convertToInteractive('df-dbfe6520-1b2c-40e2-be4d-dc578371fe60')\"\n",
              "              title=\"Convert this dataframe to an interactive table.\"\n",
              "              style=\"display:none;\">\n",
              "        \n",
              "  <svg xmlns=\"http://www.w3.org/2000/svg\" height=\"24px\"viewBox=\"0 0 24 24\"\n",
              "       width=\"24px\">\n",
              "    <path d=\"M0 0h24v24H0V0z\" fill=\"none\"/>\n",
              "    <path d=\"M18.56 5.44l.94 2.06.94-2.06 2.06-.94-2.06-.94-.94-2.06-.94 2.06-2.06.94zm-11 1L8.5 8.5l.94-2.06 2.06-.94-2.06-.94L8.5 2.5l-.94 2.06-2.06.94zm10 10l.94 2.06.94-2.06 2.06-.94-2.06-.94-.94-2.06-.94 2.06-2.06.94z\"/><path d=\"M17.41 7.96l-1.37-1.37c-.4-.4-.92-.59-1.43-.59-.52 0-1.04.2-1.43.59L10.3 9.45l-7.72 7.72c-.78.78-.78 2.05 0 2.83L4 21.41c.39.39.9.59 1.41.59.51 0 1.02-.2 1.41-.59l7.78-7.78 2.81-2.81c.8-.78.8-2.07 0-2.86zM5.41 20L4 18.59l7.72-7.72 1.47 1.35L5.41 20z\"/>\n",
              "  </svg>\n",
              "      </button>\n",
              "      \n",
              "  <style>\n",
              "    .colab-df-container {\n",
              "      display:flex;\n",
              "      flex-wrap:wrap;\n",
              "      gap: 12px;\n",
              "    }\n",
              "\n",
              "    .colab-df-convert {\n",
              "      background-color: #E8F0FE;\n",
              "      border: none;\n",
              "      border-radius: 50%;\n",
              "      cursor: pointer;\n",
              "      display: none;\n",
              "      fill: #1967D2;\n",
              "      height: 32px;\n",
              "      padding: 0 0 0 0;\n",
              "      width: 32px;\n",
              "    }\n",
              "\n",
              "    .colab-df-convert:hover {\n",
              "      background-color: #E2EBFA;\n",
              "      box-shadow: 0px 1px 2px rgba(60, 64, 67, 0.3), 0px 1px 3px 1px rgba(60, 64, 67, 0.15);\n",
              "      fill: #174EA6;\n",
              "    }\n",
              "\n",
              "    [theme=dark] .colab-df-convert {\n",
              "      background-color: #3B4455;\n",
              "      fill: #D2E3FC;\n",
              "    }\n",
              "\n",
              "    [theme=dark] .colab-df-convert:hover {\n",
              "      background-color: #434B5C;\n",
              "      box-shadow: 0px 1px 3px 1px rgba(0, 0, 0, 0.15);\n",
              "      filter: drop-shadow(0px 1px 2px rgba(0, 0, 0, 0.3));\n",
              "      fill: #FFFFFF;\n",
              "    }\n",
              "  </style>\n",
              "\n",
              "      <script>\n",
              "        const buttonEl =\n",
              "          document.querySelector('#df-dbfe6520-1b2c-40e2-be4d-dc578371fe60 button.colab-df-convert');\n",
              "        buttonEl.style.display =\n",
              "          google.colab.kernel.accessAllowed ? 'block' : 'none';\n",
              "\n",
              "        async function convertToInteractive(key) {\n",
              "          const element = document.querySelector('#df-dbfe6520-1b2c-40e2-be4d-dc578371fe60');\n",
              "          const dataTable =\n",
              "            await google.colab.kernel.invokeFunction('convertToInteractive',\n",
              "                                                     [key], {});\n",
              "          if (!dataTable) return;\n",
              "\n",
              "          const docLinkHtml = 'Like what you see? Visit the ' +\n",
              "            '<a target=\"_blank\" href=https://colab.research.google.com/notebooks/data_table.ipynb>data table notebook</a>'\n",
              "            + ' to learn more about interactive tables.';\n",
              "          element.innerHTML = '';\n",
              "          dataTable['output_type'] = 'display_data';\n",
              "          await google.colab.output.renderOutput(dataTable, element);\n",
              "          const docLink = document.createElement('div');\n",
              "          docLink.innerHTML = docLinkHtml;\n",
              "          element.appendChild(docLink);\n",
              "        }\n",
              "      </script>\n",
              "    </div>\n",
              "  </div>\n",
              "  "
            ]
          },
          "metadata": {},
          "execution_count": 4
        }
      ]
    },
    {
      "cell_type": "code",
      "source": [
        "# 훈련 데이터와 테스트 데이터의 리뷰 개수 확인\n",
        "print('훈련 데이터의 형태 : ', train_data.shape)\n",
        "print('테스트 데이터의 형태 : ', test_data.shape)"
      ],
      "metadata": {
        "colab": {
          "base_uri": "https://localhost:8080/"
        },
        "id": "PJlOeeECa-rI",
        "outputId": "932eba2a-cf5e-4788-ed95-f1b9aae1d954"
      },
      "execution_count": 5,
      "outputs": [
        {
          "output_type": "stream",
          "name": "stdout",
          "text": [
            "훈련 데이터의 형태 :  (150000, 3)\n",
            "테스트 데이터의 형태 :  (50000, 3)\n"
          ]
        }
      ]
    },
    {
      "cell_type": "markdown",
      "source": [
        "### 2. 데이터로더 구성"
      ],
      "metadata": {
        "id": "41OdA9YxBOwM"
      }
    },
    {
      "cell_type": "markdown",
      "source": [
        "* 데이터의 중복 제거\n",
        "* NaN 결측치 제거\n",
        "* 한국어 토크나이저로 토큰화\n",
        "* 불용어(Stopwords) 제거\n",
        "* 사전word_to_index 구성\n",
        "* 텍스트 스트링을 사전 인덱스 스트링으로 변환\n",
        "* X_train, y_train, X_test, y_test, word_to_index 리턴"
      ],
      "metadata": {
        "id": "klJGtQHevDf3"
      }
    },
    {
      "cell_type": "markdown",
      "source": [
        "#### 데이터 전처리\n"
      ],
      "metadata": {
        "id": "OmEbBtLqbdUc"
      }
    },
    {
      "cell_type": "markdown",
      "source": [
        "* 데이터의 중복 제거\n",
        "* NaN 결측치 제거"
      ],
      "metadata": {
        "id": "MReop8cLbkS5"
      }
    },
    {
      "cell_type": "code",
      "source": [
        "# 중복하지 않은 데이터의 개수\n",
        "train_data[['document', 'label']].nunique()  # nunique는 선택된 축에 대해서 고유한 요소의 수를 구하는 메서드"
      ],
      "metadata": {
        "colab": {
          "base_uri": "https://localhost:8080/"
        },
        "id": "q7m1_HEBbcbH",
        "outputId": "c1c4d169-b8b3-40c0-e89b-9fa26b65d037"
      },
      "execution_count": 6,
      "outputs": [
        {
          "output_type": "execute_result",
          "data": {
            "text/plain": [
              "document    146182\n",
              "label            2\n",
              "dtype: int64"
            ]
          },
          "metadata": {},
          "execution_count": 6
        }
      ]
    },
    {
      "cell_type": "markdown",
      "source": [
        "학습용 데이터는 150,000-146812 = 3,818개의 리뷰가 중복되고, 레이블은 0과 1만 있으므로 중복하지 않는 개수는 2개이다."
      ],
      "metadata": {
        "id": "6bla4GnkcL0X"
      }
    },
    {
      "cell_type": "code",
      "source": [
        "# 정규 표현식을 이용하여 한글, 숫자, 공백을 제외하고 모두 제거한다.\n",
        "train_data['document'] = train_data['document'].str.replace(\"[^ㄱ-ㅎㅏ-ㅣ가-힣0-9 ]\", \"\")\n",
        "\n",
        "train_data[:5]"
      ],
      "metadata": {
        "colab": {
          "base_uri": "https://localhost:8080/",
          "height": 242
        },
        "id": "S0QC06fMdYN6",
        "outputId": "48e144b1-3429-4ecc-bedf-ab1c8ed4c730"
      },
      "execution_count": 7,
      "outputs": [
        {
          "output_type": "stream",
          "name": "stderr",
          "text": [
            "/usr/local/lib/python3.7/dist-packages/ipykernel_launcher.py:2: FutureWarning: The default value of regex will change from True to False in a future version.\n",
            "  \n"
          ]
        },
        {
          "output_type": "execute_result",
          "data": {
            "text/plain": [
              "         id                                           document  label\n",
              "0   9976970                                  아 더빙 진짜 짜증나네요 목소리      0\n",
              "1   3819312                         흠포스터보고 초딩영화줄오버연기조차 가볍지 않구나      1\n",
              "2  10265843                                  너무재밓었다그래서보는것을추천한다      0\n",
              "3   9045019                          교도소 이야기구먼 솔직히 재미는 없다평점 조정      0\n",
              "4   6483659  사이몬페그의 익살스런 연기가 돋보였던 영화스파이더맨에서 늙어보이기만 했던 커스틴 던...      1"
            ],
            "text/html": [
              "\n",
              "  <div id=\"df-0051c537-1473-46c4-a169-63a7fac72994\">\n",
              "    <div class=\"colab-df-container\">\n",
              "      <div>\n",
              "<style scoped>\n",
              "    .dataframe tbody tr th:only-of-type {\n",
              "        vertical-align: middle;\n",
              "    }\n",
              "\n",
              "    .dataframe tbody tr th {\n",
              "        vertical-align: top;\n",
              "    }\n",
              "\n",
              "    .dataframe thead th {\n",
              "        text-align: right;\n",
              "    }\n",
              "</style>\n",
              "<table border=\"1\" class=\"dataframe\">\n",
              "  <thead>\n",
              "    <tr style=\"text-align: right;\">\n",
              "      <th></th>\n",
              "      <th>id</th>\n",
              "      <th>document</th>\n",
              "      <th>label</th>\n",
              "    </tr>\n",
              "  </thead>\n",
              "  <tbody>\n",
              "    <tr>\n",
              "      <th>0</th>\n",
              "      <td>9976970</td>\n",
              "      <td>아 더빙 진짜 짜증나네요 목소리</td>\n",
              "      <td>0</td>\n",
              "    </tr>\n",
              "    <tr>\n",
              "      <th>1</th>\n",
              "      <td>3819312</td>\n",
              "      <td>흠포스터보고 초딩영화줄오버연기조차 가볍지 않구나</td>\n",
              "      <td>1</td>\n",
              "    </tr>\n",
              "    <tr>\n",
              "      <th>2</th>\n",
              "      <td>10265843</td>\n",
              "      <td>너무재밓었다그래서보는것을추천한다</td>\n",
              "      <td>0</td>\n",
              "    </tr>\n",
              "    <tr>\n",
              "      <th>3</th>\n",
              "      <td>9045019</td>\n",
              "      <td>교도소 이야기구먼 솔직히 재미는 없다평점 조정</td>\n",
              "      <td>0</td>\n",
              "    </tr>\n",
              "    <tr>\n",
              "      <th>4</th>\n",
              "      <td>6483659</td>\n",
              "      <td>사이몬페그의 익살스런 연기가 돋보였던 영화스파이더맨에서 늙어보이기만 했던 커스틴 던...</td>\n",
              "      <td>1</td>\n",
              "    </tr>\n",
              "  </tbody>\n",
              "</table>\n",
              "</div>\n",
              "      <button class=\"colab-df-convert\" onclick=\"convertToInteractive('df-0051c537-1473-46c4-a169-63a7fac72994')\"\n",
              "              title=\"Convert this dataframe to an interactive table.\"\n",
              "              style=\"display:none;\">\n",
              "        \n",
              "  <svg xmlns=\"http://www.w3.org/2000/svg\" height=\"24px\"viewBox=\"0 0 24 24\"\n",
              "       width=\"24px\">\n",
              "    <path d=\"M0 0h24v24H0V0z\" fill=\"none\"/>\n",
              "    <path d=\"M18.56 5.44l.94 2.06.94-2.06 2.06-.94-2.06-.94-.94-2.06-.94 2.06-2.06.94zm-11 1L8.5 8.5l.94-2.06 2.06-.94-2.06-.94L8.5 2.5l-.94 2.06-2.06.94zm10 10l.94 2.06.94-2.06 2.06-.94-2.06-.94-.94-2.06-.94 2.06-2.06.94z\"/><path d=\"M17.41 7.96l-1.37-1.37c-.4-.4-.92-.59-1.43-.59-.52 0-1.04.2-1.43.59L10.3 9.45l-7.72 7.72c-.78.78-.78 2.05 0 2.83L4 21.41c.39.39.9.59 1.41.59.51 0 1.02-.2 1.41-.59l7.78-7.78 2.81-2.81c.8-.78.8-2.07 0-2.86zM5.41 20L4 18.59l7.72-7.72 1.47 1.35L5.41 20z\"/>\n",
              "  </svg>\n",
              "      </button>\n",
              "      \n",
              "  <style>\n",
              "    .colab-df-container {\n",
              "      display:flex;\n",
              "      flex-wrap:wrap;\n",
              "      gap: 12px;\n",
              "    }\n",
              "\n",
              "    .colab-df-convert {\n",
              "      background-color: #E8F0FE;\n",
              "      border: none;\n",
              "      border-radius: 50%;\n",
              "      cursor: pointer;\n",
              "      display: none;\n",
              "      fill: #1967D2;\n",
              "      height: 32px;\n",
              "      padding: 0 0 0 0;\n",
              "      width: 32px;\n",
              "    }\n",
              "\n",
              "    .colab-df-convert:hover {\n",
              "      background-color: #E2EBFA;\n",
              "      box-shadow: 0px 1px 2px rgba(60, 64, 67, 0.3), 0px 1px 3px 1px rgba(60, 64, 67, 0.15);\n",
              "      fill: #174EA6;\n",
              "    }\n",
              "\n",
              "    [theme=dark] .colab-df-convert {\n",
              "      background-color: #3B4455;\n",
              "      fill: #D2E3FC;\n",
              "    }\n",
              "\n",
              "    [theme=dark] .colab-df-convert:hover {\n",
              "      background-color: #434B5C;\n",
              "      box-shadow: 0px 1px 3px 1px rgba(0, 0, 0, 0.15);\n",
              "      filter: drop-shadow(0px 1px 2px rgba(0, 0, 0, 0.3));\n",
              "      fill: #FFFFFF;\n",
              "    }\n",
              "  </style>\n",
              "\n",
              "      <script>\n",
              "        const buttonEl =\n",
              "          document.querySelector('#df-0051c537-1473-46c4-a169-63a7fac72994 button.colab-df-convert');\n",
              "        buttonEl.style.display =\n",
              "          google.colab.kernel.accessAllowed ? 'block' : 'none';\n",
              "\n",
              "        async function convertToInteractive(key) {\n",
              "          const element = document.querySelector('#df-0051c537-1473-46c4-a169-63a7fac72994');\n",
              "          const dataTable =\n",
              "            await google.colab.kernel.invokeFunction('convertToInteractive',\n",
              "                                                     [key], {});\n",
              "          if (!dataTable) return;\n",
              "\n",
              "          const docLinkHtml = 'Like what you see? Visit the ' +\n",
              "            '<a target=\"_blank\" href=https://colab.research.google.com/notebooks/data_table.ipynb>data table notebook</a>'\n",
              "            + ' to learn more about interactive tables.';\n",
              "          element.innerHTML = '';\n",
              "          dataTable['output_type'] = 'display_data';\n",
              "          await google.colab.output.renderOutput(dataTable, element);\n",
              "          const docLink = document.createElement('div');\n",
              "          docLink.innerHTML = docLinkHtml;\n",
              "          element.appendChild(docLink);\n",
              "        }\n",
              "      </script>\n",
              "    </div>\n",
              "  </div>\n",
              "  "
            ]
          },
          "metadata": {},
          "execution_count": 7
        }
      ]
    },
    {
      "cell_type": "code",
      "source": [
        "# train_data에 document 열에 빈 값을 가진 행이 있다면 Null 값으로 변경\n",
        "train_data['document'].replace('', np.nan, inplace=True)\n",
        "\n",
        "# 다시 한 번 Null 값이 존재하는지 확인\n",
        "train_data.isnull().sum()"
      ],
      "metadata": {
        "colab": {
          "base_uri": "https://localhost:8080/"
        },
        "id": "Y1acJg3CjU0I",
        "outputId": "487e4b79-4c6f-47a2-e865-c487ce9ef439"
      },
      "execution_count": 8,
      "outputs": [
        {
          "output_type": "execute_result",
          "data": {
            "text/plain": [
              "id            0\n",
              "document    694\n",
              "label         0\n",
              "dtype: int64"
            ]
          },
          "metadata": {},
          "execution_count": 8
        }
      ]
    },
    {
      "cell_type": "code",
      "source": [
        "train_data.loc[train_data.document.isnull()][:5]"
      ],
      "metadata": {
        "colab": {
          "base_uri": "https://localhost:8080/",
          "height": 206
        },
        "id": "i_GyeB08kI8s",
        "outputId": "4594025b-b656-4807-d102-70935c973bae"
      },
      "execution_count": 9,
      "outputs": [
        {
          "output_type": "execute_result",
          "data": {
            "text/plain": [
              "           id document  label\n",
              "668   1600635      NaN      0\n",
              "1559  6918082      NaN      1\n",
              "1840  7095375      NaN      1\n",
              "2073   384233      NaN      1\n",
              "2648   423224      NaN      1"
            ],
            "text/html": [
              "\n",
              "  <div id=\"df-5935481c-9340-4c14-815e-0f40ab5df0c3\">\n",
              "    <div class=\"colab-df-container\">\n",
              "      <div>\n",
              "<style scoped>\n",
              "    .dataframe tbody tr th:only-of-type {\n",
              "        vertical-align: middle;\n",
              "    }\n",
              "\n",
              "    .dataframe tbody tr th {\n",
              "        vertical-align: top;\n",
              "    }\n",
              "\n",
              "    .dataframe thead th {\n",
              "        text-align: right;\n",
              "    }\n",
              "</style>\n",
              "<table border=\"1\" class=\"dataframe\">\n",
              "  <thead>\n",
              "    <tr style=\"text-align: right;\">\n",
              "      <th></th>\n",
              "      <th>id</th>\n",
              "      <th>document</th>\n",
              "      <th>label</th>\n",
              "    </tr>\n",
              "  </thead>\n",
              "  <tbody>\n",
              "    <tr>\n",
              "      <th>668</th>\n",
              "      <td>1600635</td>\n",
              "      <td>NaN</td>\n",
              "      <td>0</td>\n",
              "    </tr>\n",
              "    <tr>\n",
              "      <th>1559</th>\n",
              "      <td>6918082</td>\n",
              "      <td>NaN</td>\n",
              "      <td>1</td>\n",
              "    </tr>\n",
              "    <tr>\n",
              "      <th>1840</th>\n",
              "      <td>7095375</td>\n",
              "      <td>NaN</td>\n",
              "      <td>1</td>\n",
              "    </tr>\n",
              "    <tr>\n",
              "      <th>2073</th>\n",
              "      <td>384233</td>\n",
              "      <td>NaN</td>\n",
              "      <td>1</td>\n",
              "    </tr>\n",
              "    <tr>\n",
              "      <th>2648</th>\n",
              "      <td>423224</td>\n",
              "      <td>NaN</td>\n",
              "      <td>1</td>\n",
              "    </tr>\n",
              "  </tbody>\n",
              "</table>\n",
              "</div>\n",
              "      <button class=\"colab-df-convert\" onclick=\"convertToInteractive('df-5935481c-9340-4c14-815e-0f40ab5df0c3')\"\n",
              "              title=\"Convert this dataframe to an interactive table.\"\n",
              "              style=\"display:none;\">\n",
              "        \n",
              "  <svg xmlns=\"http://www.w3.org/2000/svg\" height=\"24px\"viewBox=\"0 0 24 24\"\n",
              "       width=\"24px\">\n",
              "    <path d=\"M0 0h24v24H0V0z\" fill=\"none\"/>\n",
              "    <path d=\"M18.56 5.44l.94 2.06.94-2.06 2.06-.94-2.06-.94-.94-2.06-.94 2.06-2.06.94zm-11 1L8.5 8.5l.94-2.06 2.06-.94-2.06-.94L8.5 2.5l-.94 2.06-2.06.94zm10 10l.94 2.06.94-2.06 2.06-.94-2.06-.94-.94-2.06-.94 2.06-2.06.94z\"/><path d=\"M17.41 7.96l-1.37-1.37c-.4-.4-.92-.59-1.43-.59-.52 0-1.04.2-1.43.59L10.3 9.45l-7.72 7.72c-.78.78-.78 2.05 0 2.83L4 21.41c.39.39.9.59 1.41.59.51 0 1.02-.2 1.41-.59l7.78-7.78 2.81-2.81c.8-.78.8-2.07 0-2.86zM5.41 20L4 18.59l7.72-7.72 1.47 1.35L5.41 20z\"/>\n",
              "  </svg>\n",
              "      </button>\n",
              "      \n",
              "  <style>\n",
              "    .colab-df-container {\n",
              "      display:flex;\n",
              "      flex-wrap:wrap;\n",
              "      gap: 12px;\n",
              "    }\n",
              "\n",
              "    .colab-df-convert {\n",
              "      background-color: #E8F0FE;\n",
              "      border: none;\n",
              "      border-radius: 50%;\n",
              "      cursor: pointer;\n",
              "      display: none;\n",
              "      fill: #1967D2;\n",
              "      height: 32px;\n",
              "      padding: 0 0 0 0;\n",
              "      width: 32px;\n",
              "    }\n",
              "\n",
              "    .colab-df-convert:hover {\n",
              "      background-color: #E2EBFA;\n",
              "      box-shadow: 0px 1px 2px rgba(60, 64, 67, 0.3), 0px 1px 3px 1px rgba(60, 64, 67, 0.15);\n",
              "      fill: #174EA6;\n",
              "    }\n",
              "\n",
              "    [theme=dark] .colab-df-convert {\n",
              "      background-color: #3B4455;\n",
              "      fill: #D2E3FC;\n",
              "    }\n",
              "\n",
              "    [theme=dark] .colab-df-convert:hover {\n",
              "      background-color: #434B5C;\n",
              "      box-shadow: 0px 1px 3px 1px rgba(0, 0, 0, 0.15);\n",
              "      filter: drop-shadow(0px 1px 2px rgba(0, 0, 0, 0.3));\n",
              "      fill: #FFFFFF;\n",
              "    }\n",
              "  </style>\n",
              "\n",
              "      <script>\n",
              "        const buttonEl =\n",
              "          document.querySelector('#df-5935481c-9340-4c14-815e-0f40ab5df0c3 button.colab-df-convert');\n",
              "        buttonEl.style.display =\n",
              "          google.colab.kernel.accessAllowed ? 'block' : 'none';\n",
              "\n",
              "        async function convertToInteractive(key) {\n",
              "          const element = document.querySelector('#df-5935481c-9340-4c14-815e-0f40ab5df0c3');\n",
              "          const dataTable =\n",
              "            await google.colab.kernel.invokeFunction('convertToInteractive',\n",
              "                                                     [key], {});\n",
              "          if (!dataTable) return;\n",
              "\n",
              "          const docLinkHtml = 'Like what you see? Visit the ' +\n",
              "            '<a target=\"_blank\" href=https://colab.research.google.com/notebooks/data_table.ipynb>data table notebook</a>'\n",
              "            + ' to learn more about interactive tables.';\n",
              "          element.innerHTML = '';\n",
              "          dataTable['output_type'] = 'display_data';\n",
              "          await google.colab.output.renderOutput(dataTable, element);\n",
              "          const docLink = document.createElement('div');\n",
              "          docLink.innerHTML = docLinkHtml;\n",
              "          element.appendChild(docLink);\n",
              "        }\n",
              "      </script>\n",
              "    </div>\n",
              "  </div>\n",
              "  "
            ]
          },
          "metadata": {},
          "execution_count": 9
        }
      ]
    },
    {
      "cell_type": "code",
      "source": [
        "train_data = train_data.dropna(how='any')\n",
        "\n",
        "print('전처리 후 학습용 데이터 개수 : ', len(train_data))"
      ],
      "metadata": {
        "colab": {
          "base_uri": "https://localhost:8080/"
        },
        "id": "fZACmZrxkRMf",
        "outputId": "292234b5-c4fc-410a-8fcd-bd5b7ffb7294"
      },
      "execution_count": 10,
      "outputs": [
        {
          "output_type": "stream",
          "name": "stdout",
          "text": [
            "전처리 후 학습용 데이터 개수 :  149306\n"
          ]
        }
      ]
    },
    {
      "cell_type": "code",
      "source": [
        "# 테스트 데이터도 정규 표현식을 이용하여 한글, 숫자, 공백을 제외하고 모두 제거한다. \n",
        "test_data['document'] = test_data['document'].str.replace(\"[^ㄱ-ㅎㅏ-ㅣ가-힣0-9 ]\", \"\")\n",
        "\n",
        "# test_data에 document 열에 빈 값을 가진 행이 있다면 Null 값으로 변경한다.\n",
        "test_data['document'].replace('', np.nan, inplace=True)\n",
        "\n",
        "# NaN은 아무런 의미가 없는 데이터 이므로 제거한다.\n",
        "test_data = test_data.dropna(how = 'any')\n",
        "\n",
        "print('전처리 후 테스트용 데이터 개수 :', len(test_data))"
      ],
      "metadata": {
        "colab": {
          "base_uri": "https://localhost:8080/"
        },
        "id": "17OGyQyQn3N-",
        "outputId": "a075cbeb-2b16-4cf4-caee-fda91a536eaf"
      },
      "execution_count": 11,
      "outputs": [
        {
          "output_type": "stream",
          "name": "stdout",
          "text": [
            "전처리 후 테스트용 데이터 개수 : 49773\n"
          ]
        },
        {
          "output_type": "stream",
          "name": "stderr",
          "text": [
            "/usr/local/lib/python3.7/dist-packages/ipykernel_launcher.py:2: FutureWarning: The default value of regex will change from True to False in a future version.\n",
            "  \n"
          ]
        }
      ]
    },
    {
      "cell_type": "markdown",
      "source": [
        "#### 2-2.토큰화, 불용어(Stopwords) 제거, word_to_index"
      ],
      "metadata": {
        "id": "hgmmO-OWpv5O"
      }
    },
    {
      "cell_type": "markdown",
      "source": [
        "* 한국어를 토근화할 때, 형태소 분석기를 사용한다.\n",
        "* 자연어 처리를 하기 위해서 긴 텍스트를 단어별로 쪼개는 작업이다.\n",
        "* 토큰화 과정에서 불용어를 제거한다.\n",
        "* 토큰화된 단어들을 인덱스로 변환한다."
      ],
      "metadata": {
        "id": "GhI3cksZpyAi"
      }
    },
    {
      "cell_type": "code",
      "source": [
        "# from konlpy.tag import Mecab를 위해 설치한다.\n",
        "!%%bash\n",
        "!apt-get update\n",
        "!apt-get install g++ openjdk-8-jdk python-dev python3-dev\n",
        "!pip3 install JPype1\n",
        "!pip3 install konlpy\n",
        "!%env JAVA_HOME \"/usr/lib/jvm/java-8-openjdk-amd64\"\n",
        "!%%bash\n",
        "!bash <(curl -s https://raw.githubusercontent.com/konlpy/konlpy/master/scripts/mecab.sh)\n",
        "!pip3 install /tmp/mecab-python-0.996"
      ],
      "metadata": {
        "id": "91j07-Dy8dFh",
        "colab": {
          "base_uri": "https://localhost:8080/"
        },
        "outputId": "275ee88a-179a-4c13-faa5-25f76c904f76"
      },
      "execution_count": 12,
      "outputs": [
        {
          "output_type": "stream",
          "name": "stdout",
          "text": [
            "/bin/bash: line 0: fg: no job control\n",
            "Hit:1 https://cloud.r-project.org/bin/linux/ubuntu bionic-cran40/ InRelease\n",
            "Ign:2 https://developer.download.nvidia.com/compute/machine-learning/repos/ubuntu1804/x86_64  InRelease\n",
            "Hit:3 https://developer.download.nvidia.com/compute/cuda/repos/ubuntu1804/x86_64  InRelease\n",
            "Hit:4 http://security.ubuntu.com/ubuntu bionic-security InRelease\n",
            "Hit:5 https://developer.download.nvidia.com/compute/machine-learning/repos/ubuntu1804/x86_64  Release\n",
            "Hit:6 http://archive.ubuntu.com/ubuntu bionic InRelease\n",
            "Hit:7 http://ppa.launchpad.net/c2d4u.team/c2d4u4.0+/ubuntu bionic InRelease\n",
            "Hit:8 http://archive.ubuntu.com/ubuntu bionic-updates InRelease\n",
            "Hit:9 http://archive.ubuntu.com/ubuntu bionic-backports InRelease\n",
            "Hit:10 http://ppa.launchpad.net/cran/libgit2/ubuntu bionic InRelease\n",
            "Hit:12 http://ppa.launchpad.net/deadsnakes/ppa/ubuntu bionic InRelease\n",
            "Hit:13 http://ppa.launchpad.net/graphics-drivers/ppa/ubuntu bionic InRelease\n",
            "Reading package lists... Done\n",
            "Reading package lists... Done\n",
            "Building dependency tree       \n",
            "Reading state information... Done\n",
            "python-dev is already the newest version (2.7.15~rc1-1).\n",
            "g++ is already the newest version (4:7.4.0-1ubuntu2.3).\n",
            "python3-dev is already the newest version (3.6.7-1~18.04).\n",
            "openjdk-8-jdk is already the newest version (8u342-b07-0ubuntu1~18.04).\n",
            "The following package was automatically installed and is no longer required:\n",
            "  libnvidia-common-460\n",
            "Use 'apt autoremove' to remove it.\n",
            "0 upgraded, 0 newly installed, 0 to remove and 35 not upgraded.\n",
            "Looking in indexes: https://pypi.org/simple, https://us-python.pkg.dev/colab-wheels/public/simple/\n",
            "Requirement already satisfied: JPype1 in /usr/local/lib/python3.7/dist-packages (1.4.0)\n",
            "Requirement already satisfied: typing-extensions in /usr/local/lib/python3.7/dist-packages (from JPype1) (4.1.1)\n",
            "Looking in indexes: https://pypi.org/simple, https://us-python.pkg.dev/colab-wheels/public/simple/\n",
            "Requirement already satisfied: konlpy in /usr/local/lib/python3.7/dist-packages (0.6.0)\n",
            "Requirement already satisfied: JPype1>=0.7.0 in /usr/local/lib/python3.7/dist-packages (from konlpy) (1.4.0)\n",
            "Requirement already satisfied: lxml>=4.1.0 in /usr/local/lib/python3.7/dist-packages (from konlpy) (4.9.1)\n",
            "Requirement already satisfied: numpy>=1.6 in /usr/local/lib/python3.7/dist-packages (from konlpy) (1.21.6)\n",
            "Requirement already satisfied: typing-extensions in /usr/local/lib/python3.7/dist-packages (from JPype1>=0.7.0->konlpy) (4.1.1)\n",
            "/bin/bash: line 0: fg: no job control\n",
            "/bin/bash: line 0: fg: no job control\n",
            "mecab-ko is already installed\n",
            "mecab-ko-dic is already installed\n",
            "mecab-python is already installed\n",
            "Done.\n",
            "Looking in indexes: https://pypi.org/simple, https://us-python.pkg.dev/colab-wheels/public/simple/\n",
            "Processing /tmp/mecab-python-0.996\n",
            "\u001b[33m  DEPRECATION: A future pip version will change local packages to be built in-place without first copying to a temporary directory. We recommend you use --use-feature=in-tree-build to test your packages with this new behavior before it becomes the default.\n",
            "   pip 21.3 will remove support for this functionality. You can find discussion regarding this at https://github.com/pypa/pip/issues/7555.\u001b[0m\n",
            "Building wheels for collected packages: mecab-python\n",
            "  Building wheel for mecab-python (setup.py) ... \u001b[?25l\u001b[?25hdone\n",
            "  Created wheel for mecab-python: filename=mecab_python-0.996_ko_0.9.2-cp37-cp37m-linux_x86_64.whl size=141794 sha256=24a4a7ff5bba851171c9ef30ad06e6fc04a2212417d2c68e5623787ff2f1167b\n",
            "  Stored in directory: /root/.cache/pip/wheels/40/7b/9f/2922869bef86c3354ae7034f7a3647c573ee1997c2dad0290a\n",
            "\u001b[33m  WARNING: Built wheel for mecab-python is invalid: Metadata 1.2 mandates PEP 440 version, but '0.996-ko-0.9.2' is not\u001b[0m\n",
            "Failed to build mecab-python\n",
            "Installing collected packages: mecab-python\n",
            "  Attempting uninstall: mecab-python\n",
            "    Found existing installation: mecab-python 0.996-ko-0.9.2\n",
            "    Uninstalling mecab-python-0.996-ko-0.9.2:\n",
            "      Successfully uninstalled mecab-python-0.996-ko-0.9.2\n",
            "    Running setup.py install for mecab-python ... \u001b[?25l\u001b[?25hdone\n",
            "\u001b[33m  DEPRECATION: mecab-python was installed using the legacy 'setup.py install' method, because a wheel could not be built for it. A possible replacement is to fix the wheel build issue reported above. You can find discussion regarding this at https://github.com/pypa/pip/issues/8368.\u001b[0m\n",
            "Successfully installed mecab-python-0.996-ko-0.9.2\n"
          ]
        }
      ]
    },
    {
      "cell_type": "code",
      "source": [
        "# 형태소 분석기 객체 생성\n",
        "tokenizer = Mecab()\n",
        "\n",
        "# 불용어 리스트(불용어란 문장 내에서 빈번하게 발생하여 의미를 부여하기 어려운 단어)\n",
        "stopwords = ['의', '가', '이', '은', '들','는','좀','잘','강','과','도', '를', '으로','자', '에','와','한','하다']\n",
        "\n",
        "def load_data(train_data, test_data, num_words=10000):\n",
        "    # 학습용 데이터에서 document 열에서 중복 데이터 제거\n",
        "    train_data.drop_duplicates(subset=['document'], inplace=True)\n",
        "    # 학습용 데이터에서 Null 값이 존재하는 행 제거\n",
        "    train_data = train_data.dropna(how = 'any')\n",
        "    # 테스트용 데이터에서 document 열에서 중복 데이터 제거\n",
        "    test_data.drop_duplicates(subset=['document'], inplace=True)\n",
        "    # 테스트용 데이터에서 Null 값이 존재하는 행 제거\n",
        "    test_data = test_data.dropna(how = 'any')\n",
        "\n",
        "    # 한국어 토크나이저로 토큰화 및 불용어 제거\n",
        "    X_train = []\n",
        "    for sentence in train_data['document']:\n",
        "        temp_X = tokenizer.morphs(sentence)  # 토큰화\n",
        "        temp_X = [word for word in temp_X if not word in stopwords]  # 불용어 제거\n",
        "        X_train.append(temp_X)\n",
        "\n",
        "    X_test = []\n",
        "    for sentence in test_data['document']:\n",
        "        temp_X = tokenizer.morphs(sentence)  # 토큰화\n",
        "        temp_X = [word for word in temp_X if not word in stopwords]  # 불용어 제거\n",
        "        X_test.append(temp_X)\n",
        "\n",
        "    # 사전 작성\n",
        "    words = np.concatenate(X_train).tolist()  #.tolist() : array를 list로 변경\n",
        "    counter = Counter(words)                  # collection 모듈의 Counter 클래스로 데이터의 개수 확인\n",
        "    counter = counter.most_common(10000-4)    # most_common() : 데이터의 개수가 많은 순으로 정렬된 배열 리턴\n",
        "    vocab = ['<PAD>','<BOS>','<UNK>','<UNUSED>'] + [key for key, _ in counter]\n",
        "    word_to_index = {word:index for index, word in enumerate(vocab)}\n",
        "\n",
        "    # word_to_index\n",
        "    def wordlist_to_indexlist(wordlist):\n",
        "        return [word_to_index[word] if word in word_to_index else word_to_index['<UNK>'] for word in wordlist]\n",
        "        # wordlist 에 있는 word에 대해서 만약에 wrod가 word_to_index에 존재하면 인덱스 값을, 존재하지 않으면 <UNK>를 인덱스로 반환  \n",
        "    \n",
        "    X_train = list(map(wordlist_to_indexlist, X_train)) # X_train 대상으로 worldlist_to_indexlist 함수를 수행하여 리스트로 반환\n",
        "    X_test = list(map(wordlist_to_indexlist, X_test))\n",
        "\n",
        "    return X_train, np.array(list(train_data['label'])), X_test, np.array(list(test_data['label'])), word_to_index\n",
        "\n",
        "X_train, y_train, X_test, y_test, word_to_index = load_data(train_data, test_data)"
      ],
      "metadata": {
        "id": "f5OfA6zHBQna"
      },
      "execution_count": 13,
      "outputs": []
    },
    {
      "cell_type": "code",
      "source": [
        "print(\"훈련 데이터 개수: {}, 테스트 데이터 개수: {}\".format(len(X_train), len(X_test)))"
      ],
      "metadata": {
        "colab": {
          "base_uri": "https://localhost:8080/"
        },
        "id": "nzpcR5qmae0e",
        "outputId": "942d7262-5934-43b6-e76e-2c98d819907e"
      },
      "execution_count": 14,
      "outputs": [
        {
          "output_type": "stream",
          "name": "stdout",
          "text": [
            "훈련 데이터 개수: 143856, 테스트 데이터 개수: 48498\n"
          ]
        }
      ]
    },
    {
      "cell_type": "code",
      "source": [
        "# key = index, value = word로 변경\n",
        "index_to_word = {index:word for word, index in word_to_index.items()}\n",
        "print(len(word_to_index))"
      ],
      "metadata": {
        "colab": {
          "base_uri": "https://localhost:8080/"
        },
        "id": "nbqTWqmbI9iz",
        "outputId": "47a9f30c-7159-4c17-e221-7ed4e9bcaabb"
      },
      "execution_count": 15,
      "outputs": [
        {
          "output_type": "stream",
          "name": "stdout",
          "text": [
            "10000\n"
          ]
        }
      ]
    },
    {
      "cell_type": "markdown",
      "source": [
        "#### 2-3. 텍스를 숫자로 (encoding), 숫자를 텍스트로 (decoding)"
      ],
      "metadata": {
        "id": "XOipFBleuCiX"
      }
    },
    {
      "cell_type": "code",
      "source": [
        "# 문장 1개를 활용할 딕셔너리와 함께 주면, 단어 인덱스 리스트 벡터로 변환해 주는 함수이다. \n",
        "# 단, 모든 문장은 <BOS>로 시작하는 것으로 한다.\n",
        "def get_encoded_sentence(sentence, word_to_index):\n",
        "    return [word_to_index['<BOS>']]+[word_to_index[word] if word in word_to_index else word_to_index['<UNK>'] for word in sentence.split()]\n",
        "\n",
        "# 여러 개의 문장 리스트를 한꺼번에 단어 인덱스 리스트 벡터로 encode해 주는 함수이다.\n",
        "def get_encoded_sentences(sentences, word_to_index):\n",
        "    return [get_encoded_sentence(sentence, word_to_index) for sentence in sentences]\n",
        "\n",
        "# 숫자 벡터로 encode된 문장을 원래대로 decode하는 함수이다. \n",
        "def get_decoded_sentence(encoded_sentence, index_to_word):\n",
        "    return ' '.join(index_to_word[index] if index in index_to_word else '<UNK>' for index in encoded_sentence[1:])  #[1:]를 통해 <BOS>를 제외\n",
        "\n",
        "# 여러 개의 숫자 벡터로 encode된 문장을 한꺼번에 원래대로 decode하는 함수이다. \n",
        "def get_decoded_sentences(encoded_sentences, index_to_word):\n",
        "    return [get_decoded_sentence(encoded_sentence, index_to_word) for encoded_sentence in encoded_sentences]"
      ],
      "metadata": {
        "id": "XzGr9hNHE5uI"
      },
      "execution_count": 16,
      "outputs": []
    },
    {
      "cell_type": "markdown",
      "source": [
        "### 3. 모델 구성을 위한 데이터 분석 및 가공"
      ],
      "metadata": {
        "id": "U3n8Cn1op6D4"
      }
    },
    {
      "cell_type": "markdown",
      "source": [
        "* 데이터셋 내 문장 길이 분포\n",
        "* 적절한 최대 문장 길이 지정\n",
        "* keras.preprocessing.sequence.pad_sequences 을 활용한 패딩 추가"
      ],
      "metadata": {
        "id": "A3RavUoKL8bZ"
      }
    },
    {
      "cell_type": "markdown",
      "source": [
        "#### 데이터셋 내 문장 길이 분포"
      ],
      "metadata": {
        "id": "7r-OO9NfxYGW"
      }
    },
    {
      "cell_type": "code",
      "source": [
        "# 데이터셋 내 문장 길이 분포\n",
        "total_data_text = list(X_train) + list(X_test)\n",
        "\n",
        "num_tokens = [len(tokens) for tokens in total_data_text]\n",
        "num_tokens = np.array(num_tokens)\n",
        "\n",
        "print('문장길이 평균 : ', np.mean(num_tokens))\n",
        "print('문장길이 최대 : ', np.max(num_tokens))\n",
        "print('문장길이 표준편차 : ', np.std(num_tokens))"
      ],
      "metadata": {
        "colab": {
          "base_uri": "https://localhost:8080/"
        },
        "id": "0d0ZwgvbLdtd",
        "outputId": "0b5abf4a-002a-48e6-9c7c-62ee7df8a0fa"
      },
      "execution_count": 17,
      "outputs": [
        {
          "output_type": "stream",
          "name": "stdout",
          "text": [
            "문장길이 평균 :  14.108799401104214\n",
            "문장길이 최대 :  84\n",
            "문장길이 표준편차 :  11.58840117345961\n"
          ]
        }
      ]
    },
    {
      "cell_type": "markdown",
      "source": [
        ""
      ],
      "metadata": {
        "id": "imz6ad2HyYP4"
      }
    },
    {
      "cell_type": "code",
      "source": [
        "# 문장 길이 분포 시각화\n",
        "sns.distplot(num_tokens)"
      ],
      "metadata": {
        "colab": {
          "base_uri": "https://localhost:8080/",
          "height": 339
        },
        "id": "53QhKDwLVH-v",
        "outputId": "10b5c299-fcc2-4f58-8708-ed08bcd0af03"
      },
      "execution_count": 18,
      "outputs": [
        {
          "output_type": "stream",
          "name": "stderr",
          "text": [
            "/usr/local/lib/python3.7/dist-packages/seaborn/distributions.py:2619: FutureWarning: `distplot` is a deprecated function and will be removed in a future version. Please adapt your code to use either `displot` (a figure-level function with similar flexibility) or `histplot` (an axes-level function for histograms).\n",
            "  warnings.warn(msg, FutureWarning)\n"
          ]
        },
        {
          "output_type": "execute_result",
          "data": {
            "text/plain": [
              "<matplotlib.axes._subplots.AxesSubplot at 0x7fa52672a990>"
            ]
          },
          "metadata": {},
          "execution_count": 18
        },
        {
          "output_type": "display_data",
          "data": {
            "text/plain": [
              "<Figure size 432x288 with 1 Axes>"
            ],
            "image/png": "[encoded data removed]"
          },
          "metadata": {
            "needs_background": "light"
          }
        }
      ]
    },
    {
      "cell_type": "markdown",
      "source": [
        "위에서 문장길이 평균이 약 14.07이 나왔다. 시각화를 통해 약 14에서 밀도가 높은 것을 확인할 수 있다."
      ],
      "metadata": {
        "id": "CBPCRDPgWWRo"
      }
    },
    {
      "cell_type": "code",
      "source": [
        "# 최대 길이를 (평균 + 3*표준편차)로 한다면,\n",
        "max_tokens = np.mean(num_tokens) + 3 * np.std(num_tokens)\n",
        "maxlen = int(max_tokens)\n",
        "print('pad_sequences maxlen : ', maxlen)\n",
        "print('전체 문장의 {}%가 maxlen 설정값 이내에 포함됩니다.'.format(np.sum(num_tokens < max_tokens)/len(num_tokens)))"
      ],
      "metadata": {
        "colab": {
          "base_uri": "https://localhost:8080/"
        },
        "id": "Ujo5Ce1oMKhC",
        "outputId": "ebdee7c3-4252-4d18-acfb-90b544257e90"
      },
      "execution_count": 19,
      "outputs": [
        {
          "output_type": "stream",
          "name": "stdout",
          "text": [
            "pad_sequences maxlen :  48\n",
            "전체 문장의 0.9704607130602951%가 maxlen 설정값 이내에 포함됩니다.\n"
          ]
        }
      ]
    },
    {
      "cell_type": "code",
      "source": [
        "# keras.preprocessing.sequence.pad_sequence를 활용한 패딩 추가한다.\n",
        "# 문장의 길이가 maxlen보다 짧은 문장에 <PAD>를 앞부분에 추가한다.\n",
        "# RNN은 입력데이터가 순차적으로 처리되므로 'pre'를 사용한다.\n",
        "X_train = keras.preprocessing.sequence.pad_sequences(X_train,\n",
        "                                                       value=word_to_index[\"<PAD>\"],\n",
        "                                                       padding='pre',\n",
        "                                                       maxlen=maxlen)\n",
        "\n",
        "X_test = keras.preprocessing.sequence.pad_sequences(X_test,\n",
        "                                                      value=word_to_index[\"<PAD>\"],\n",
        "                                                      padding='pre',\n",
        "                                                      maxlen=maxlen)\n",
        "\n",
        "print('shape of X_train: ', X_train.shape)\n",
        "print('shape of X_test: ', X_test.shape)"
      ],
      "metadata": {
        "colab": {
          "base_uri": "https://localhost:8080/"
        },
        "id": "XliuLjhOMzLz",
        "outputId": "3728f262-4cd4-4935-94b6-92deee78d574"
      },
      "execution_count": 20,
      "outputs": [
        {
          "output_type": "stream",
          "name": "stdout",
          "text": [
            "shape of X_train:  (143856, 48)\n",
            "shape of X_test:  (48498, 48)\n"
          ]
        }
      ]
    },
    {
      "cell_type": "markdown",
      "source": [
        "### 4. 모델 구성 및 validiation set 구성"
      ],
      "metadata": {
        "id": "U7-xwuBTP5Bi"
      }
    },
    {
      "cell_type": "markdown",
      "source": [
        "모델은 3가지 이상 다양하게 구성하여 실험해 보세요."
      ],
      "metadata": {
        "id": "MTK9IgA1Zh9y"
      }
    },
    {
      "cell_type": "markdown",
      "source": [
        "#### 4-1. train set, validation set 구성"
      ],
      "metadata": {
        "id": "nwDEFw-bZjwK"
      }
    },
    {
      "cell_type": "code",
      "source": [
        "# 훈련 데이터의 80% 개수\n",
        "print('훈련 데이터의 80% 개수: ', int(X_train.shape[0]*0.8))"
      ],
      "metadata": {
        "colab": {
          "base_uri": "https://localhost:8080/"
        },
        "id": "SqqOhGVoZvKC",
        "outputId": "8f9d2070-e01d-4c18-b639-64de31c9d92d"
      },
      "execution_count": 21,
      "outputs": [
        {
          "output_type": "stream",
          "name": "stdout",
          "text": [
            "훈련 데이터의 80% 개수:  115084\n"
          ]
        }
      ]
    },
    {
      "cell_type": "code",
      "source": [
        "# train data set에서 80:20의 비율로 trian과 validation을 분리한다.\n",
        "# RNN에서는 순서가 중요하므로 shuffle은 진행하지 않는다.\n",
        "# train set\n",
        "partial_X_train = X_train[:int(X_train.shape[0]*0.8)]\n",
        "partial_y_train = y_train[:int(y_train.shape[0]*0.8)]\n",
        "\n",
        "# validation set\n",
        "X_valid = X_train[int(X_train.shape[0]*0.8):]\n",
        "y_valid = y_train[int(X_train.shape[0]*0.8):]\n",
        "\n",
        "print('partial_X_train : ', partial_X_train.shape)\n",
        "print('partial_y_train : ', partial_y_train.shape)\n",
        "print('X_valid : ', X_valid.shape)\n",
        "print('y_valid : ', y_valid.shape)"
      ],
      "metadata": {
        "colab": {
          "base_uri": "https://localhost:8080/"
        },
        "id": "FOQ3M1ofz3Yd",
        "outputId": "f8d90cc7-c385-439e-98a4-59c5acb41d1b"
      },
      "execution_count": 22,
      "outputs": [
        {
          "output_type": "stream",
          "name": "stdout",
          "text": [
            "partial_X_train :  (115084, 48)\n",
            "partial_y_train :  (115084,)\n",
            "X_valid :  (28772, 48)\n",
            "y_valid :  (28772,)\n"
          ]
        }
      ]
    },
    {
      "cell_type": "markdown",
      "source": [
        "#### 4-2-1. LSTM 모델"
      ],
      "metadata": {
        "id": "mhWGOoQSXrPQ"
      }
    },
    {
      "cell_type": "code",
      "source": [
        "vocab_size = 10000  # 어휘 사전의 크기(10,000개의 단어)\n",
        "word_vector_dim = 200  # 단어 하나를 표현하는 임베딩 벡터의 차원\n",
        "\n",
        "model1 = keras.Sequential()\n",
        "model1.add(keras.layers.Embedding(vocab_size, word_vector_dim, input_shape=(None,)))\n",
        "model1.add(keras.layers.LSTM(128))                     # RNN에서 가장 널리 사용하는 LSTM 레이어 사용                   # LSTM 모델을 발전시킨 모델  \n",
        "model1.add(keras.layers.Dense(16, activation='relu'))\n",
        "model1.add(keras.layers.Dense(1,activation='sigmoid'))  # 최종 출력은 긍정/부정을 나타내는 1dim\n",
        "\n",
        "model1.summary()"
      ],
      "metadata": {
        "colab": {
          "base_uri": "https://localhost:8080/"
        },
        "id": "cToIMaKg1Ax4",
        "outputId": "a111538e-31c4-441c-d6f1-6313e81c3451"
      },
      "execution_count": 259,
      "outputs": [
        {
          "output_type": "stream",
          "name": "stdout",
          "text": [
            "Model: \"sequential_9\"\n",
            "_________________________________________________________________\n",
            " Layer (type)                Output Shape              Param #   \n",
            "=================================================================\n",
            " embedding_9 (Embedding)     (None, None, 200)         2000000   \n",
            "                                                                 \n",
            " lstm_6 (LSTM)               (None, 128)               168448    \n",
            "                                                                 \n",
            " dense_12 (Dense)            (None, 16)                2064      \n",
            "                                                                 \n",
            " dense_13 (Dense)            (None, 1)                 17        \n",
            "                                                                 \n",
            "=================================================================\n",
            "Total params: 2,170,529\n",
            "Trainable params: 2,170,529\n",
            "Non-trainable params: 0\n",
            "_________________________________________________________________\n"
          ]
        }
      ]
    },
    {
      "cell_type": "markdown",
      "source": [
        "#### 4-2-2. LSTM 모델 훈련"
      ],
      "metadata": {
        "id": "d8lV8apO27L9"
      }
    },
    {
      "cell_type": "code",
      "source": [
        "# 학습 환경 설정\n",
        "model1.compile(optimizer='adam',\n",
        "                loss='binary_crossentropy',\n",
        "                metrics=['accuracy'])\n",
        "epochs=20\n",
        "\n",
        "# 모델 학습\n",
        "history = model1.fit(partial_X_train,\n",
        "                     partial_y_train,\n",
        "                     epochs=epochs,\n",
        "                     batch_size=256,\n",
        "                     validation_data=(X_valid, y_valid),\n",
        "                     verbose=1)"
      ],
      "metadata": {
        "colab": {
          "base_uri": "https://localhost:8080/"
        },
        "id": "-zrI_yrz2_2A",
        "outputId": "79f9c401-201a-4e31-fefe-f2dbd402b0bb"
      },
      "execution_count": 260,
      "outputs": [
        {
          "output_type": "stream",
          "name": "stdout",
          "text": [
            "Epoch 1/20\n",
            "450/450 [==============================] - 7s 11ms/step - loss: 0.3928 - accuracy: 0.8191 - val_loss: 0.3449 - val_accuracy: 0.8491\n",
            "Epoch 2/20\n",
            "450/450 [==============================] - 5s 11ms/step - loss: 0.3057 - accuracy: 0.8677 - val_loss: 0.3281 - val_accuracy: 0.8581\n",
            "Epoch 3/20\n",
            "450/450 [==============================] - 5s 11ms/step - loss: 0.2630 - accuracy: 0.8880 - val_loss: 0.3339 - val_accuracy: 0.8589\n",
            "Epoch 4/20\n",
            "450/450 [==============================] - 5s 11ms/step - loss: 0.2289 - accuracy: 0.9049 - val_loss: 0.3496 - val_accuracy: 0.8549\n",
            "Epoch 5/20\n",
            "450/450 [==============================] - 5s 10ms/step - loss: 0.1988 - accuracy: 0.9188 - val_loss: 0.3852 - val_accuracy: 0.8550\n",
            "Epoch 6/20\n",
            "450/450 [==============================] - 5s 11ms/step - loss: 0.1721 - accuracy: 0.9307 - val_loss: 0.4203 - val_accuracy: 0.8513\n",
            "Epoch 7/20\n",
            "450/450 [==============================] - 5s 11ms/step - loss: 0.1485 - accuracy: 0.9417 - val_loss: 0.4751 - val_accuracy: 0.8464\n",
            "Epoch 8/20\n",
            "450/450 [==============================] - 5s 10ms/step - loss: 0.1301 - accuracy: 0.9487 - val_loss: 0.5054 - val_accuracy: 0.8490\n",
            "Epoch 9/20\n",
            "450/450 [==============================] - 5s 11ms/step - loss: 0.1117 - accuracy: 0.9561 - val_loss: 0.5677 - val_accuracy: 0.8470\n",
            "Epoch 10/20\n",
            "450/450 [==============================] - 5s 10ms/step - loss: 0.0981 - accuracy: 0.9609 - val_loss: 0.6136 - val_accuracy: 0.8425\n",
            "Epoch 11/20\n",
            "450/450 [==============================] - 5s 10ms/step - loss: 0.0862 - accuracy: 0.9656 - val_loss: 0.6884 - val_accuracy: 0.8425\n",
            "Epoch 12/20\n",
            "450/450 [==============================] - 5s 11ms/step - loss: 0.0774 - accuracy: 0.9697 - val_loss: 0.7490 - val_accuracy: 0.8404\n",
            "Epoch 13/20\n",
            "450/450 [==============================] - 5s 10ms/step - loss: 0.0658 - accuracy: 0.9736 - val_loss: 0.8151 - val_accuracy: 0.8427\n",
            "Epoch 14/20\n",
            "450/450 [==============================] - 5s 10ms/step - loss: 0.0583 - accuracy: 0.9762 - val_loss: 0.8305 - val_accuracy: 0.8394\n",
            "Epoch 15/20\n",
            "450/450 [==============================] - 4s 10ms/step - loss: 0.0536 - accuracy: 0.9780 - val_loss: 0.9137 - val_accuracy: 0.8362\n",
            "Epoch 16/20\n",
            "450/450 [==============================] - 5s 11ms/step - loss: 0.0491 - accuracy: 0.9802 - val_loss: 0.9829 - val_accuracy: 0.8385\n",
            "Epoch 17/20\n",
            "450/450 [==============================] - 5s 10ms/step - loss: 0.0434 - accuracy: 0.9816 - val_loss: 1.0145 - val_accuracy: 0.8397\n",
            "Epoch 18/20\n",
            "450/450 [==============================] - 4s 10ms/step - loss: 0.0423 - accuracy: 0.9823 - val_loss: 0.9821 - val_accuracy: 0.8369\n",
            "Epoch 19/20\n",
            "450/450 [==============================] - 5s 10ms/step - loss: 0.0372 - accuracy: 0.9838 - val_loss: 1.1204 - val_accuracy: 0.8378\n",
            "Epoch 20/20\n",
            "450/450 [==============================] - 5s 11ms/step - loss: 0.0340 - accuracy: 0.9855 - val_loss: 1.1415 - val_accuracy: 0.8376\n"
          ]
        }
      ]
    },
    {
      "cell_type": "markdown",
      "source": [
        "#### 4-2-3. Loss, Accuracy 그래프 시각화"
      ],
      "metadata": {
        "id": "CzPYrXtt5yqT"
      }
    },
    {
      "cell_type": "code",
      "source": [
        "history_dict = history.history\n",
        "print(history_dict.keys())  # epoch에 따른 그래프를 그려볼 수 있는 항목들"
      ],
      "metadata": {
        "colab": {
          "base_uri": "https://localhost:8080/"
        },
        "id": "aN1crxbn55L4",
        "outputId": "c4ca7f08-d53e-491e-98a0-7f79721b52a6"
      },
      "execution_count": 261,
      "outputs": [
        {
          "output_type": "stream",
          "name": "stdout",
          "text": [
            "dict_keys(['loss', 'accuracy', 'val_loss', 'val_accuracy'])\n"
          ]
        }
      ]
    },
    {
      "cell_type": "code",
      "source": [
        "acc = history_dict['accuracy']\n",
        "val_acc = history_dict['val_accuracy']\n",
        "loss = history_dict['loss']\n",
        "val_loss = history_dict['val_loss']\n",
        "\n",
        "epochs = range(1, len(acc) + 1)\n",
        "\n",
        "\n",
        "plt.plot(epochs, loss, 'ro', label='Training loss')\n",
        "plt.plot(epochs, val_loss, 'r', label='Validation loss')\n",
        "plt.title('Training and validation loss')\n",
        "plt.xlabel('Epochs')\n",
        "plt.ylabel('Loss')\n",
        "plt.legend()\n",
        "plt.show()\n",
        "\n",
        "plt.clf()   # 그림을 초기화한다.\n",
        "\n",
        "# \"bo\"는 \"파란색 점\"이다.\n",
        "plt.plot(epochs, acc, 'bo', label='Training acc')\n",
        "# b는 \"파란 실선\"이다.\n",
        "plt.plot(epochs, val_acc, 'b', label='Validation acc')\n",
        "plt.title('Training and validation accuracy')\n",
        "plt.xlabel('Epochs')\n",
        "plt.ylabel('Accuracy')\n",
        "plt.legend()\n",
        "plt.show()"
      ],
      "metadata": {
        "colab": {
          "base_uri": "https://localhost:8080/",
          "height": 573
        },
        "id": "kJoeIstT6BIT",
        "outputId": "9e89f85c-2674-4cef-ba99-5cef16609133"
      },
      "execution_count": 262,
      "outputs": [
        {
          "output_type": "display_data",
          "data": {
            "text/plain": [
              "<Figure size 432x288 with 1 Axes>"
            ],
            "image/png": "[encoded data removed]"
          },
          "metadata": {
            "needs_background": "light"
          }
        },
        {
          "output_type": "display_data",
          "data": {
            "text/plain": [
              "<Figure size 432x288 with 1 Axes>"
            ],
            "image/png": "[encoded data removed]"
          },
          "metadata": {
            "needs_background": "light"
          }
        }
      ]
    },
    {
      "cell_type": "markdown",
      "source": [
        "#### 4-2-4. 테스트 평가"
      ],
      "metadata": {
        "id": "Fn9pDqrQ8ZXj"
      }
    },
    {
      "cell_type": "code",
      "source": [
        "results = model1.evaluate(X_test, y_test, verbose=2)\n",
        "\n",
        "print(results)"
      ],
      "metadata": {
        "colab": {
          "base_uri": "https://localhost:8080/"
        },
        "id": "aUufpu7LDOcy",
        "outputId": "a4ddc77c-953d-4a5c-d20f-db8f1a691a06"
      },
      "execution_count": 37,
      "outputs": [
        {
          "output_type": "stream",
          "name": "stdout",
          "text": [
            "1516/1516 - 5s - loss: 1.2475 - accuracy: 0.8355 - 5s/epoch - 3ms/step\n",
            "[1.247511386871338, 0.8354571461677551]\n"
          ]
        }
      ]
    },
    {
      "cell_type": "markdown",
      "source": [
        "#### 4-3-1. 1-D CNN 모델"
      ],
      "metadata": {
        "id": "UvdZ6booFMIh"
      }
    },
    {
      "cell_type": "code",
      "source": [
        "vocab_size = 10000  # 어휘 사전의 크기(10,000개의 단어)\n",
        "word_vector_dim = 200  # 단어 하나를 표현하는 임베딩 벡터의 차원\n",
        "\n",
        "model2 = keras.Sequential()\n",
        "model2.add(keras.layers.Embedding(vocab_size, word_vector_dim, input_shape=(None,)))\n",
        "model2.add(keras.layers.Conv1D(32,7,activation='relu'))\n",
        "model2.add(keras.layers.MaxPooling1D(5))\n",
        "model2.add(keras.layers.Conv1D(32,7,activation='relu'))\n",
        "model2.add(keras.layers.GlobalMaxPooling1D())\n",
        "model2.add(keras.layers.Dense(16, activation='relu'))\n",
        "model2.add(keras.layers.Dense(1, activation='sigmoid'))  # 최종 출력은 긍정/부정을 나타내는 1dim 이다.\n",
        "\n",
        "model2.summary()"
      ],
      "metadata": {
        "colab": {
          "base_uri": "https://localhost:8080/"
        },
        "id": "hv21C4Y_FQee",
        "outputId": "ecba55e9-bc42-4ad5-abe1-6fa645929998"
      },
      "execution_count": 41,
      "outputs": [
        {
          "output_type": "stream",
          "name": "stdout",
          "text": [
            "Model: \"sequential_1\"\n",
            "_________________________________________________________________\n",
            " Layer (type)                Output Shape              Param #   \n",
            "=================================================================\n",
            " embedding_1 (Embedding)     (None, None, 200)         2000000   \n",
            "                                                                 \n",
            " conv1d (Conv1D)             (None, None, 32)          44832     \n",
            "                                                                 \n",
            " max_pooling1d (MaxPooling1D  (None, None, 32)         0         \n",
            " )                                                               \n",
            "                                                                 \n",
            " conv1d_1 (Conv1D)           (None, None, 32)          7200      \n",
            "                                                                 \n",
            " global_max_pooling1d (Globa  (None, 32)               0         \n",
            " lMaxPooling1D)                                                  \n",
            "                                                                 \n",
            " dense_2 (Dense)             (None, 16)                528       \n",
            "                                                                 \n",
            " dense_3 (Dense)             (None, 1)                 17        \n",
            "                                                                 \n",
            "=================================================================\n",
            "Total params: 2,052,577\n",
            "Trainable params: 2,052,577\n",
            "Non-trainable params: 0\n",
            "_________________________________________________________________\n"
          ]
        }
      ]
    },
    {
      "cell_type": "markdown",
      "source": [
        "#### 4-3-2. 1-D CNN 모델 훈련"
      ],
      "metadata": {
        "id": "66vSgxQ0G822"
      }
    },
    {
      "cell_type": "code",
      "source": [
        "# 학습 환경 설정\n",
        "model2.compile(optimizer='adam',\n",
        "               loss='binary_crossentropy',\n",
        "               metrics=['accuracy'])\n",
        "\n",
        "epochs = 20\n",
        "\n",
        "history = model2.fit(partial_X_train,\n",
        "                     partial_y_train,\n",
        "                     epochs=epochs,\n",
        "                     validation_data=(X_valid, y_valid),\n",
        "                     verbose=1)"
      ],
      "metadata": {
        "colab": {
          "base_uri": "https://localhost:8080/"
        },
        "id": "Utxlu17FHC82",
        "outputId": "b4873132-4226-4f53-c0a6-80729354687f"
      },
      "execution_count": 42,
      "outputs": [
        {
          "output_type": "stream",
          "name": "stdout",
          "text": [
            "Epoch 1/20\n",
            "3597/3597 [==============================] - 36s 8ms/step - loss: 0.4416 - accuracy: 0.7818 - val_loss: 0.4012 - val_accuracy: 0.8112\n",
            "Epoch 2/20\n",
            "3597/3597 [==============================] - 29s 8ms/step - loss: 0.3345 - accuracy: 0.8461 - val_loss: 0.4207 - val_accuracy: 0.8065\n",
            "Epoch 3/20\n",
            "3597/3597 [==============================] - 30s 8ms/step - loss: 0.2407 - accuracy: 0.8920 - val_loss: 0.4666 - val_accuracy: 0.7989\n",
            "Epoch 4/20\n",
            "3597/3597 [==============================] - 26s 7ms/step - loss: 0.1733 - accuracy: 0.9215 - val_loss: 0.5633 - val_accuracy: 0.7961\n",
            "Epoch 5/20\n",
            "3597/3597 [==============================] - 19s 5ms/step - loss: 0.1369 - accuracy: 0.9375 - val_loss: 0.6718 - val_accuracy: 0.7914\n",
            "Epoch 6/20\n",
            "3597/3597 [==============================] - 18s 5ms/step - loss: 0.1147 - accuracy: 0.9460 - val_loss: 0.7717 - val_accuracy: 0.7900\n",
            "Epoch 7/20\n",
            "3597/3597 [==============================] - 19s 5ms/step - loss: 0.1013 - accuracy: 0.9519 - val_loss: 0.8934 - val_accuracy: 0.7888\n",
            "Epoch 8/20\n",
            "3597/3597 [==============================] - 19s 5ms/step - loss: 0.0926 - accuracy: 0.9550 - val_loss: 0.9525 - val_accuracy: 0.7869\n",
            "Epoch 9/20\n",
            "3597/3597 [==============================] - 20s 5ms/step - loss: 0.0846 - accuracy: 0.9579 - val_loss: 1.0250 - val_accuracy: 0.7890\n",
            "Epoch 10/20\n",
            "3597/3597 [==============================] - 20s 5ms/step - loss: 0.0793 - accuracy: 0.9603 - val_loss: 1.0757 - val_accuracy: 0.7908\n",
            "Epoch 11/20\n",
            "3597/3597 [==============================] - 19s 5ms/step - loss: 0.0751 - accuracy: 0.9621 - val_loss: 1.1250 - val_accuracy: 0.7906\n",
            "Epoch 12/20\n",
            "3597/3597 [==============================] - 19s 5ms/step - loss: 0.0713 - accuracy: 0.9632 - val_loss: 1.1629 - val_accuracy: 0.7883\n",
            "Epoch 13/20\n",
            "3597/3597 [==============================] - 18s 5ms/step - loss: 0.0681 - accuracy: 0.9644 - val_loss: 1.3362 - val_accuracy: 0.7875\n",
            "Epoch 14/20\n",
            "3597/3597 [==============================] - 19s 5ms/step - loss: 0.0660 - accuracy: 0.9652 - val_loss: 1.3089 - val_accuracy: 0.7931\n",
            "Epoch 15/20\n",
            "3597/3597 [==============================] - 19s 5ms/step - loss: 0.0633 - accuracy: 0.9666 - val_loss: 1.3873 - val_accuracy: 0.7876\n",
            "Epoch 16/20\n",
            "3597/3597 [==============================] - 19s 5ms/step - loss: 0.0619 - accuracy: 0.9666 - val_loss: 1.3873 - val_accuracy: 0.7829\n",
            "Epoch 17/20\n",
            "3597/3597 [==============================] - 19s 5ms/step - loss: 0.0604 - accuracy: 0.9673 - val_loss: 1.3481 - val_accuracy: 0.7890\n",
            "Epoch 18/20\n",
            "3597/3597 [==============================] - 19s 5ms/step - loss: 0.0592 - accuracy: 0.9680 - val_loss: 1.4385 - val_accuracy: 0.7901\n",
            "Epoch 19/20\n",
            "3597/3597 [==============================] - 19s 5ms/step - loss: 0.0575 - accuracy: 0.9685 - val_loss: 1.3440 - val_accuracy: 0.7877\n",
            "Epoch 20/20\n",
            "3597/3597 [==============================] - 18s 5ms/step - loss: 0.0564 - accuracy: 0.9685 - val_loss: 1.4637 - val_accuracy: 0.7914\n"
          ]
        }
      ]
    },
    {
      "cell_type": "markdown",
      "source": [
        "#### 4-3-3. Loss, Accuracy 그래프 시각화"
      ],
      "metadata": {
        "id": "CCyLpay7acd7"
      }
    },
    {
      "cell_type": "code",
      "source": [
        "history_dict = history.history\n",
        "print(history_dict.keys())"
      ],
      "metadata": {
        "colab": {
          "base_uri": "https://localhost:8080/"
        },
        "id": "NwgUBEU9ajak",
        "outputId": "8d9cb751-a001-4008-f741-048d9ffe7989"
      },
      "execution_count": 43,
      "outputs": [
        {
          "output_type": "stream",
          "name": "stdout",
          "text": [
            "dict_keys(['loss', 'accuracy', 'val_loss', 'val_accuracy'])\n"
          ]
        }
      ]
    },
    {
      "cell_type": "code",
      "source": [
        "acc = history_dict['accuracy']\n",
        "val_acc = history_dict['val_accuracy']\n",
        "loss = history_dict['loss']\n",
        "val_loss = history_dict['val_loss']\n",
        "\n",
        "epochs = range(1, len(acc) + 1)\n",
        "\n",
        "plt.plot(epochs, loss, 'ro', label='Training loss')\n",
        "plt.plot(epochs, val_loss, 'r', label='Validation loss')\n",
        "plt.title('Training and validation loss')\n",
        "plt.xlabel('Epochs')\n",
        "plt.ylabel('Loss')\n",
        "plt.legend()\n",
        "\n",
        "plt.show()\n",
        "\n",
        "plt.clf()\n",
        "plt.plot(epochs, acc, 'bo', label='Training acc')\n",
        "plt.plot(epochs, val_acc, 'b', label='Validation acc')\n",
        "plt.title('Training and validation accuracy')\n",
        "plt.xlabel('Epochs')\n",
        "plt.ylabel('Accuracy')\n",
        "plt.legend()\n",
        "\n",
        "plt.show()"
      ],
      "metadata": {
        "colab": {
          "base_uri": "https://localhost:8080/",
          "height": 573
        },
        "id": "YvsqFYcaarFz",
        "outputId": "8ef9b006-46ff-4556-b4ba-7427309026aa"
      },
      "execution_count": 48,
      "outputs": [
        {
          "output_type": "display_data",
          "data": {
            "text/plain": [
              "<Figure size 432x288 with 1 Axes>"
            ],
            "image/png": "[encoded data removed]"
          },
          "metadata": {
            "needs_background": "light"
          }
        },
        {
          "output_type": "display_data",
          "data": {
            "text/plain": [
              "<Figure size 432x288 with 1 Axes>"
            ],
            "image/png": "[encoded data removed]"
          },
          "metadata": {
            "needs_background": "light"
          }
        }
      ]
    },
    {
      "cell_type": "markdown",
      "source": [
        "#### 4-3-4. 테스트 평가"
      ],
      "metadata": {
        "id": "zbMPM5x8cFUO"
      }
    },
    {
      "cell_type": "code",
      "source": [
        "# test 결과\n",
        "results = model2.evaluate(X_test, y_test, verbose=2)\n",
        "print(results)"
      ],
      "metadata": {
        "colab": {
          "base_uri": "https://localhost:8080/"
        },
        "id": "URfiRDEkcecX",
        "outputId": "a1047390-9d20-4c57-ff03-5927861efc74"
      },
      "execution_count": 49,
      "outputs": [
        {
          "output_type": "stream",
          "name": "stdout",
          "text": [
            "1516/1516 - 4s - loss: 1.4447 - accuracy: 0.7850 - 4s/epoch - 3ms/step\n",
            "[1.444684624671936, 0.7850427031517029]\n"
          ]
        }
      ]
    },
    {
      "cell_type": "markdown",
      "source": [
        "#### 4-4-1. GlobalMaxPooling1D() 레이어 1개 모델"
      ],
      "metadata": {
        "id": "B_DwzXnUcouS"
      }
    },
    {
      "cell_type": "code",
      "source": [
        "vocab_size = 10000\n",
        "word_vector_dim = 200\n",
        "\n",
        "model3 = keras.Sequential()\n",
        "model3.add(keras.layers.Embedding(vocab_size, word_vector_dim, input_shape=(None,)))\n",
        "model3.add(keras.layers.GlobalMaxPooling1D())\n",
        "model3.add(keras.layers.Dense(16, activation='relu'))\n",
        "model3.add(keras.layers.Dense(1, activation='sigmoid'))\n",
        "\n",
        "model3.summary()"
      ],
      "metadata": {
        "colab": {
          "base_uri": "https://localhost:8080/"
        },
        "id": "KPGtuKMhcoVD",
        "outputId": "141fc2f0-c028-4d1d-dc00-cd5eec7f7bd3"
      },
      "execution_count": 53,
      "outputs": [
        {
          "output_type": "stream",
          "name": "stdout",
          "text": [
            "Model: \"sequential_2\"\n",
            "_________________________________________________________________\n",
            " Layer (type)                Output Shape              Param #   \n",
            "=================================================================\n",
            " embedding_2 (Embedding)     (None, None, 200)         2000000   \n",
            "                                                                 \n",
            " global_max_pooling1d_1 (Glo  (None, 200)              0         \n",
            " balMaxPooling1D)                                                \n",
            "                                                                 \n",
            " dense_4 (Dense)             (None, 16)                3216      \n",
            "                                                                 \n",
            " dense_5 (Dense)             (None, 1)                 17        \n",
            "                                                                 \n",
            "=================================================================\n",
            "Total params: 2,003,233\n",
            "Trainable params: 2,003,233\n",
            "Non-trainable params: 0\n",
            "_________________________________________________________________\n"
          ]
        }
      ]
    },
    {
      "cell_type": "markdown",
      "source": [
        "#### 4-4-2. GlobalMaxPooling1D() 모델 훈련"
      ],
      "metadata": {
        "id": "kvPUUV-ZdpjQ"
      }
    },
    {
      "cell_type": "code",
      "source": [
        "# 학습 환경 설정\n",
        "model3.compile(optimizer='adam',\n",
        "               loss='binary_crossentropy',\n",
        "               metrics=['accuracy'])\n",
        "\n",
        "epochs = 20\n",
        "\n",
        "history = model3.fit(partial_X_train,\n",
        "                     partial_y_train,\n",
        "                     epochs=epochs,\n",
        "                     batch_size=256,\n",
        "                     validation_data=(X_valid, y_valid),\n",
        "                     verbose=1)\n",
        "\n",
        "# verbose는 학습의 진행 상황을 보여줄 것인지 지정을 하는데 verbose를 1로 세팅하면 학습이 되는 모습을 볼 수 있다."
      ],
      "metadata": {
        "colab": {
          "base_uri": "https://localhost:8080/"
        },
        "id": "OB6o-CKOc3Ue",
        "outputId": "9ba63f8a-6852-4336-adf5-3c04b8838ff1"
      },
      "execution_count": 55,
      "outputs": [
        {
          "output_type": "stream",
          "name": "stdout",
          "text": [
            "Epoch 1/20\n",
            "450/450 [==============================] - 4s 8ms/step - loss: 0.4245 - accuracy: 0.8124 - val_loss: 0.3496 - val_accuracy: 0.8470\n",
            "Epoch 2/20\n",
            "450/450 [==============================] - 3s 7ms/step - loss: 0.3005 - accuracy: 0.8740 - val_loss: 0.3442 - val_accuracy: 0.8524\n",
            "Epoch 3/20\n",
            "450/450 [==============================] - 3s 7ms/step - loss: 0.2479 - accuracy: 0.9007 - val_loss: 0.3565 - val_accuracy: 0.8503\n",
            "Epoch 4/20\n",
            "450/450 [==============================] - 3s 7ms/step - loss: 0.1962 - accuracy: 0.9255 - val_loss: 0.3899 - val_accuracy: 0.8438\n",
            "Epoch 5/20\n",
            "450/450 [==============================] - 3s 7ms/step - loss: 0.1447 - accuracy: 0.9492 - val_loss: 0.4297 - val_accuracy: 0.8437\n",
            "Epoch 6/20\n",
            "450/450 [==============================] - 3s 7ms/step - loss: 0.0972 - accuracy: 0.9691 - val_loss: 0.4873 - val_accuracy: 0.8407\n",
            "Epoch 7/20\n",
            "450/450 [==============================] - 3s 7ms/step - loss: 0.0627 - accuracy: 0.9816 - val_loss: 0.5625 - val_accuracy: 0.8365\n",
            "Epoch 8/20\n",
            "450/450 [==============================] - 3s 7ms/step - loss: 0.0395 - accuracy: 0.9892 - val_loss: 0.6252 - val_accuracy: 0.8373\n",
            "Epoch 9/20\n",
            "450/450 [==============================] - 3s 7ms/step - loss: 0.0260 - accuracy: 0.9927 - val_loss: 0.6904 - val_accuracy: 0.8358\n",
            "Epoch 10/20\n",
            "450/450 [==============================] - 3s 7ms/step - loss: 0.0179 - accuracy: 0.9947 - val_loss: 0.7427 - val_accuracy: 0.8339\n",
            "Epoch 11/20\n",
            "450/450 [==============================] - 3s 7ms/step - loss: 0.0136 - accuracy: 0.9954 - val_loss: 0.7936 - val_accuracy: 0.8373\n",
            "Epoch 12/20\n",
            "450/450 [==============================] - 3s 7ms/step - loss: 0.0112 - accuracy: 0.9960 - val_loss: 0.8345 - val_accuracy: 0.8345\n",
            "Epoch 13/20\n",
            "450/450 [==============================] - 3s 7ms/step - loss: 0.0098 - accuracy: 0.9962 - val_loss: 0.8710 - val_accuracy: 0.8346\n",
            "Epoch 14/20\n",
            "450/450 [==============================] - 3s 7ms/step - loss: 0.0091 - accuracy: 0.9962 - val_loss: 0.9171 - val_accuracy: 0.8356\n",
            "Epoch 15/20\n",
            "450/450 [==============================] - 3s 7ms/step - loss: 0.0086 - accuracy: 0.9964 - val_loss: 0.9696 - val_accuracy: 0.8347\n",
            "Epoch 16/20\n",
            "450/450 [==============================] - 3s 6ms/step - loss: 0.0091 - accuracy: 0.9961 - val_loss: 1.0293 - val_accuracy: 0.8321\n",
            "Epoch 17/20\n",
            "450/450 [==============================] - 3s 7ms/step - loss: 0.0111 - accuracy: 0.9955 - val_loss: 1.1193 - val_accuracy: 0.8297\n",
            "Epoch 18/20\n",
            "450/450 [==============================] - 4s 9ms/step - loss: 0.0142 - accuracy: 0.9941 - val_loss: 1.1393 - val_accuracy: 0.8290\n",
            "Epoch 19/20\n",
            "450/450 [==============================] - 3s 7ms/step - loss: 0.0114 - accuracy: 0.9952 - val_loss: 1.1555 - val_accuracy: 0.8313\n",
            "Epoch 20/20\n",
            "450/450 [==============================] - 3s 7ms/step - loss: 0.0083 - accuracy: 0.9963 - val_loss: 1.1832 - val_accuracy: 0.8323\n"
          ]
        }
      ]
    },
    {
      "cell_type": "markdown",
      "source": [
        "#### 4-4-3. GlobalMaxPooling1D() 모델 훈련"
      ],
      "metadata": {
        "id": "5NERAN08iVcz"
      }
    },
    {
      "cell_type": "code",
      "source": [
        "history_dict=history.history\n",
        "print(history_dict.keys())"
      ],
      "metadata": {
        "colab": {
          "base_uri": "https://localhost:8080/"
        },
        "id": "4m6DQlrHiXM7",
        "outputId": "b98dda7a-f464-442d-cf46-0a2a28dd455c"
      },
      "execution_count": 58,
      "outputs": [
        {
          "output_type": "stream",
          "name": "stdout",
          "text": [
            "dict_keys(['loss', 'accuracy', 'val_loss', 'val_accuracy'])\n"
          ]
        }
      ]
    },
    {
      "cell_type": "code",
      "source": [
        "acc = history_dict['accuracy']\n",
        "val_acc = history_dict['val_accuracy']\n",
        "loss = history_dict['loss']\n",
        "val_loss = history_dict['val_loss']\n",
        "\n",
        "epochs = range(1, len(acc)+1)\n",
        "\n",
        "plt.plot(epochs, loss, 'ro', label='Training loss')\n",
        "plt.plot(epochs, val_loss, 'r', label='Validation loss')\n",
        "plt.title('Training and validation loss')\n",
        "plt.xlabel('Epochs')\n",
        "plt.ylabel('Loss')\n",
        "plt.legend()\n",
        "\n",
        "plt.show()\n",
        "\n",
        "plt.clf()\n",
        "\n",
        "plt.plot(epochs, acc, 'bo', label='Training acc')\n",
        "plt.plot(epochs, val_acc, 'b', label='Validation acc')\n",
        "plt.title('Training and validation accuracy')\n",
        "plt.xlabel('Epochs')\n",
        "plt.ylabel('Accuracy')\n",
        "plt.legend()\n",
        "\n",
        "plt.show()"
      ],
      "metadata": {
        "colab": {
          "base_uri": "https://localhost:8080/",
          "height": 573
        },
        "id": "J_p7lSdVid81",
        "outputId": "2d525c10-32fe-4d70-ca24-fd62cb846b2c"
      },
      "execution_count": 97,
      "outputs": [
        {
          "output_type": "display_data",
          "data": {
            "text/plain": [
              "<Figure size 432x288 with 1 Axes>"
            ],
            "image/png": "[encoded data removed]"
          },
          "metadata": {
            "needs_background": "light"
          }
        },
        {
          "output_type": "display_data",
          "data": {
            "text/plain": [
              "<Figure size 432x288 with 1 Axes>"
            ],
            "image/png": "[encoded data removed]"
          },
          "metadata": {
            "needs_background": "light"
          }
        }
      ]
    },
    {
      "cell_type": "markdown",
      "source": [
        "#### 4-4-4. 테스트 평가"
      ],
      "metadata": {
        "id": "sVSQnKp5jwKM"
      }
    },
    {
      "cell_type": "code",
      "source": [
        "# test 결과\n",
        "results = model3.evaluate(X_test, y_test, verbose=2)\n",
        "print(results)"
      ],
      "metadata": {
        "colab": {
          "base_uri": "https://localhost:8080/"
        },
        "id": "8KKw7rN4j1cF",
        "outputId": "b3a6d201-944f-4bc8-aee1-28a0b647c048"
      },
      "execution_count": 60,
      "outputs": [
        {
          "output_type": "stream",
          "name": "stdout",
          "text": [
            "1516/1516 - 4s - loss: 1.2033 - accuracy: 0.8297 - 4s/epoch - 2ms/step\n",
            "[1.2033262252807617, 0.8297455310821533]\n"
          ]
        }
      ]
    },
    {
      "cell_type": "markdown",
      "source": [
        "### 5. 학습된 Embedding 레이어 분석"
      ],
      "metadata": {
        "id": "IRwxaSQ7kVGq"
      }
    },
    {
      "cell_type": "code",
      "source": [
        "# 단어의 특성을 저차원 벡터값으로 표현할 수 있는 워드 임베딩(word embedding) 기법\n",
        "embedding_layer = model1.layers[0]  # GRU로 학습된 모델을 대상으로 분석\n",
        "weights = embedding_layer.get_weights()[0]\n",
        "print(weights.shape)"
      ],
      "metadata": {
        "colab": {
          "base_uri": "https://localhost:8080/"
        },
        "id": "IF3boj8zkbgG",
        "outputId": "8b48badf-3575-46ef-d3de-b2be28c1af38"
      },
      "execution_count": 61,
      "outputs": [
        {
          "output_type": "stream",
          "name": "stdout",
          "text": [
            "(10000, 200)\n"
          ]
        }
      ]
    },
    {
      "cell_type": "code",
      "source": [
        "import os\n",
        "from gensim import models  # gensim : 워드벡터를 다루는데 유용한 패키지\n",
        "\n",
        "# 학습한 Embedding 파라미터 파일에 써서 저장한다.\n",
        "word2vec_file_path = '/content/drive/MyDrive/sentiment_classification/word2vec.txt'\n",
        "f = open(word2vec_file_path, 'w')\n",
        "f.write('{} {}\\n'.format(vocab_size-4, word_vector_dim))  # 몇 개의 벡터를 얼마 사이즈로 기재할지 타이틀을 쓴다.\n",
        "\n",
        "# 단어 개수(툭수문자 4개 제외)만큼의 워드 벡터를 파일에 기록한다.\n",
        "vectors = model2.get_weights()[0]\n",
        "for i in range(4, vocab_size):\n",
        "    f.write('{} {}\\n'.format(index_to_word[i], ' '.join(map(str, list(vectors[i, :])))))\n",
        "f.close()"
      ],
      "metadata": {
        "id": "jGEdjEd4ktF1"
      },
      "execution_count": 65,
      "outputs": []
    },
    {
      "cell_type": "code",
      "source": [
        "# 임베딩 파라미터를 읽어서 word vector로 활용\n",
        "from gensim.models.keyedvectors import Word2VecKeyedVectors\n",
        "\n",
        "word_vectors = Word2VecKeyedVectors.load_word2vec_format(word2vec_file_path, binary=False)\n",
        "vector = word_vectors['영화']\n",
        "vector"
      ],
      "metadata": {
        "colab": {
          "base_uri": "https://localhost:8080/"
        },
        "id": "pVGK1wkcrAeO",
        "outputId": "c86e2945-8f2d-4db1-9472-dc8553955e61"
      },
      "execution_count": 66,
      "outputs": [
        {
          "output_type": "execute_result",
          "data": {
            "text/plain": [
              "array([ 0.16362952, -0.12624125,  0.00360623,  0.18292579,  0.05774087,\n",
              "        0.15795624, -0.00607039, -0.16173637,  0.32523558, -0.11305905,\n",
              "        0.08704822, -0.32016635,  0.06334891,  0.07566755,  0.03210901,\n",
              "        0.30952215, -0.06550916, -0.01803346, -0.12573326, -0.21421693,\n",
              "        0.15513657,  0.01664898,  0.02078858,  0.03093729,  0.00548134,\n",
              "        0.18640698, -0.12905788, -0.07998336,  0.09045084, -0.1317727 ,\n",
              "        0.11098628, -0.21025914, -0.07092556, -0.06073579,  0.08315822,\n",
              "       -0.00524681,  0.28950915, -0.06595908,  0.21363118, -0.08702177,\n",
              "        0.21651064, -0.13964659, -0.03015615,  0.07460336,  0.1440387 ,\n",
              "       -0.02711013,  0.0092336 ,  0.2056105 , -0.19691555,  0.00384474,\n",
              "       -0.30575028,  0.01703158,  0.15138601,  0.04528848,  0.03344517,\n",
              "       -0.17578232,  0.07079928,  0.03717942, -0.014743  ,  0.09109084,\n",
              "       -0.12757322, -0.15691869,  0.15440913,  0.01750032,  0.06615106,\n",
              "        0.02219159,  0.10715371, -0.33640483,  0.44301367, -0.0940911 ,\n",
              "        0.00471991,  0.12989534, -0.02374907,  0.09830238,  0.00282684,\n",
              "       -0.20365264, -0.01439211,  0.02506877,  0.14228173,  0.19424973,\n",
              "        0.02059948, -0.3194243 ,  0.03161832, -0.0023887 ,  0.25644404,\n",
              "        0.1446522 , -0.09920423, -0.05720831, -0.13630907, -0.01952139,\n",
              "       -0.00253663, -0.07067985,  0.01190622,  0.01781394, -0.22444019,\n",
              "        0.07618824,  0.00161511, -0.07872346, -0.04598087, -0.1261962 ,\n",
              "       -0.19761166,  0.03590886, -0.2268959 ,  0.07261292,  0.00134204,\n",
              "       -0.0075748 , -0.00439057, -0.03003118,  0.250298  , -0.07842037,\n",
              "        0.09837043,  0.01142316,  0.03588919, -0.03143469, -0.20961104,\n",
              "        0.03872371, -0.00281565, -0.23999663,  0.07297872,  0.06222637,\n",
              "        0.12064644, -0.19756451, -0.2733799 ,  0.09696931, -0.06100425,\n",
              "       -0.10554458, -0.25951782,  0.13451366, -0.16123709,  0.02048765,\n",
              "        0.24411914,  0.10989092, -0.1419807 , -0.14203508, -0.08839278,\n",
              "       -0.1542857 ,  0.00074095, -0.05399828, -0.09332942, -0.15768424,\n",
              "       -0.05226123, -0.15103197, -0.00970827,  0.06908532,  0.03510262,\n",
              "       -0.08859861,  0.19254655,  0.0951739 ,  0.17321458, -0.1491238 ,\n",
              "        0.07477619,  0.14879617, -0.11512288,  0.04796835, -0.08421975,\n",
              "        0.10905074, -0.18453652,  0.03532942,  0.01351852, -0.04570762,\n",
              "       -0.22657304,  0.04000719,  0.1689596 ,  0.05054731,  0.13853766,\n",
              "        0.12864971,  0.03039819, -0.07954748,  0.03327187, -0.1016757 ,\n",
              "       -0.02894303, -0.05083088, -0.17002867, -0.00817362,  0.03542113,\n",
              "       -0.3750732 ,  0.19575198, -0.00569823,  0.0399395 , -0.12816368,\n",
              "        0.09404483,  0.13576339, -0.06439244,  0.23570688,  0.06565297,\n",
              "       -0.12498824, -0.02908516, -0.0665514 , -0.25985673, -0.07579907,\n",
              "       -0.02229831,  0.04238889, -0.01362252,  0.24754225, -0.21992067,\n",
              "       -0.07201146, -0.14617941,  0.18374485,  0.16643792, -0.26032346],\n",
              "      dtype=float32)"
            ]
          },
          "metadata": {},
          "execution_count": 66
        }
      ]
    },
    {
      "cell_type": "code",
      "source": [
        "# 단어를 하나 주고 가장 유사한 단어와 유사도 확ㅇ니\n",
        "word_vectors.similar_by_word(\"영화\")"
      ],
      "metadata": {
        "colab": {
          "base_uri": "https://localhost:8080/"
        },
        "id": "NspiVkzcrWHD",
        "outputId": "84d35a9a-5be8-4d22-d3e5-f346b9e9d24a"
      },
      "execution_count": 67,
      "outputs": [
        {
          "output_type": "execute_result",
          "data": {
            "text/plain": [
              "[('였', 0.4502096176147461),\n",
              " ('쉬', 0.4076431095600128),\n",
              " ('철철', 0.37729862332344055),\n",
              " ('영상', 0.36559951305389404),\n",
              " ('기대', 0.34841200709342957),\n",
              " ('애니', 0.3369067907333374),\n",
              " ('겪', 0.33687397837638855),\n",
              " ('줄줄이', 0.3361671566963196),\n",
              " ('흔하', 0.33497095108032227),\n",
              " ('추노', 0.33430567383766174)]"
            ]
          },
          "metadata": {},
          "execution_count": 67
        }
      ]
    },
    {
      "cell_type": "markdown",
      "source": [
        "### 6. 한국어 Word2Vec 임베딩 활용하여 성능 개선"
      ],
      "metadata": {
        "id": "eUJ28J_PrfVA"
      }
    },
    {
      "cell_type": "markdown",
      "source": [
        "#### 6-1. 사전에 학습된 Word2Vec 등의 임베딩 모델(ko.bin)을 활용하는 전이학습(Transfer Learning)"
      ],
      "metadata": {
        "id": "wL71qp5Dv7zs"
      }
    },
    {
      "cell_type": "code",
      "source": [
        "!pip install --upgrade gensim==3.8.3"
      ],
      "metadata": {
        "colab": {
          "base_uri": "https://localhost:8080/"
        },
        "id": "4bzIdl0Gzylf",
        "outputId": "63f67f1f-39a7-4ca9-836a-9646d88f72b1"
      },
      "execution_count": 174,
      "outputs": [
        {
          "output_type": "stream",
          "name": "stdout",
          "text": [
            "Looking in indexes: https://pypi.org/simple, https://us-python.pkg.dev/colab-wheels/public/simple/\n",
            "Requirement already satisfied: gensim==3.8.3 in /usr/local/lib/python3.7/dist-packages (3.8.3)\n",
            "Requirement already satisfied: smart-open>=1.8.1 in /usr/local/lib/python3.7/dist-packages (from gensim==3.8.3) (5.2.1)\n",
            "Requirement already satisfied: numpy>=1.11.3 in /usr/local/lib/python3.7/dist-packages (from gensim==3.8.3) (1.21.6)\n",
            "Requirement already satisfied: six>=1.5.0 in /usr/local/lib/python3.7/dist-packages (from gensim==3.8.3) (1.15.0)\n",
            "Requirement already satisfied: scipy>=0.18.1 in /usr/local/lib/python3.7/dist-packages (from gensim==3.8.3) (1.7.3)\n"
          ]
        }
      ]
    },
    {
      "cell_type": "code",
      "source": [
        "# 한국어 Word2Vec 임베딩 활용한 성능 개선\n",
        "from gensim.models import Word2Vec\n",
        "from gensim.models import KeyedVectors"
      ],
      "metadata": {
        "id": "5l52V1C13eOY"
      },
      "execution_count": 175,
      "outputs": []
    },
    {
      "cell_type": "code",
      "source": [
        "word2vec_path = '/content/drive/MyDrive/sentiment_classification/ko.bin'\n",
        "word2vec = Word2Vec.load(word2vec_path)\n",
        "# word2vec = gensim.models.Word2vec.load(word2vec_path)  # 학습한 모델 로드\n",
        "\n",
        "# 완성된 임베딩 매트릭스의 크기 확인\n",
        "print(word2vec.wv.vectors.shape)"
      ],
      "metadata": {
        "colab": {
          "base_uri": "https://localhost:8080/"
        },
        "id": "Efoc7mV-vpSi",
        "outputId": "97837ef6-c0e4-4da3-ac08-9fde4fb20e5c"
      },
      "execution_count": 176,
      "outputs": [
        {
          "output_type": "stream",
          "name": "stdout",
          "text": [
            "(30185, 200)\n"
          ]
        }
      ]
    },
    {
      "cell_type": "code",
      "source": [
        "from tensorflow.keras.initializers import Constant\n",
        "\n",
        "vocab_size = 10000\n",
        "word_vector_dim = 200\n",
        "embedding_matrix = np.random.rand(vocab_size, word_vector_dim)\n",
        "\n",
        "# embedding_matrix에 Word2Vec 워드 벡터를 단어 하나씩마다 차례차례 카피한다.\n",
        "for i in range(4, vocab_size):\n",
        "    if index_to_word[i] in word2vec:\n",
        "        embedding_matrix[i] = word2vec[index_to_word[i]]"
      ],
      "metadata": {
        "colab": {
          "base_uri": "https://localhost:8080/"
        },
        "id": "vX1k5XMVCRy4",
        "outputId": "18126965-cc51-48ef-b459-df6c0dffc66a"
      },
      "execution_count": 184,
      "outputs": [
        {
          "output_type": "stream",
          "name": "stderr",
          "text": [
            "/usr/local/lib/python3.7/dist-packages/ipykernel_launcher.py:9: DeprecationWarning: Call to deprecated `__contains__` (Method will be removed in 4.0.0, use self.wv.__contains__() instead).\n",
            "  if __name__ == '__main__':\n",
            "/usr/local/lib/python3.7/dist-packages/ipykernel_launcher.py:10: DeprecationWarning: Call to deprecated `__getitem__` (Method will be removed in 4.0.0, use self.wv.__getitem__() instead).\n",
            "  # Remove the CWD from sys.path while we load stuff.\n"
          ]
        }
      ]
    },
    {
      "cell_type": "code",
      "source": [
        "# LSTM 모델 구성\n",
        "model = keras.Sequential()\n",
        "model.add(keras.layers.Embedding(vocab_size,\n",
        "                                 word_vector_dim,\n",
        "                                 embeddings_initializer=Constant(embedding_matrix),\n",
        "                                 input_length=maxlen,\n",
        "                                 trainable=True))\n",
        "model.add(keras.layers.LSTM(128))\n",
        "model.add(keras.layers.Dense(1, activation='sigmoid'))\n",
        "\n",
        "model.summary()"
      ],
      "metadata": {
        "colab": {
          "base_uri": "https://localhost:8080/"
        },
        "id": "G_3gg9A22ugv",
        "outputId": "bd92ab7d-f68d-4597-ae1c-9bac2b34f2cb"
      },
      "execution_count": 185,
      "outputs": [
        {
          "output_type": "stream",
          "name": "stdout",
          "text": [
            "Model: \"sequential_8\"\n",
            "_________________________________________________________________\n",
            " Layer (type)                Output Shape              Param #   \n",
            "=================================================================\n",
            " embedding_8 (Embedding)     (None, 48, 200)           2000000   \n",
            "                                                                 \n",
            " lstm_5 (LSTM)               (None, 128)               168448    \n",
            "                                                                 \n",
            " dense_11 (Dense)            (None, 1)                 129       \n",
            "                                                                 \n",
            "=================================================================\n",
            "Total params: 2,168,577\n",
            "Trainable params: 2,168,577\n",
            "Non-trainable params: 0\n",
            "_________________________________________________________________\n"
          ]
        }
      ]
    },
    {
      "cell_type": "code",
      "source": [
        "# 학습의 진행\n",
        "model.compile(optimizer='adam',\n",
        "               loss='binary_crossentropy',\n",
        "               metrics=['accuracy'])\n",
        "\n",
        "epochs = 7\n",
        "\n",
        "history = model.fit(partial_X_train,\n",
        "                    partial_y_train,\n",
        "                    epochs=epochs,\n",
        "                    batch_size=64,\n",
        "                    validation_data=(X_valid, y_valid),\n",
        "                    verbose=1)"
      ],
      "metadata": {
        "colab": {
          "base_uri": "https://localhost:8080/"
        },
        "id": "nDhpXIuXvumz",
        "outputId": "3b5d31e1-5360-44c4-d6c3-b3f73851c771"
      },
      "execution_count": 187,
      "outputs": [
        {
          "output_type": "stream",
          "name": "stdout",
          "text": [
            "Epoch 1/7\n",
            "1799/1799 [==============================] - 31s 14ms/step - loss: 0.3497 - accuracy: 0.8460 - val_loss: 0.3279 - val_accuracy: 0.8573\n",
            "Epoch 2/7\n",
            "1799/1799 [==============================] - 13s 7ms/step - loss: 0.2830 - accuracy: 0.8794 - val_loss: 0.3180 - val_accuracy: 0.8631\n",
            "Epoch 3/7\n",
            "1799/1799 [==============================] - 13s 7ms/step - loss: 0.2398 - accuracy: 0.9006 - val_loss: 0.3281 - val_accuracy: 0.8602\n",
            "Epoch 4/7\n",
            "1799/1799 [==============================] - 14s 8ms/step - loss: 0.1971 - accuracy: 0.9211 - val_loss: 0.3441 - val_accuracy: 0.8642\n",
            "Epoch 5/7\n",
            "1799/1799 [==============================] - 13s 7ms/step - loss: 0.1555 - accuracy: 0.9387 - val_loss: 0.3760 - val_accuracy: 0.8614\n",
            "Epoch 6/7\n",
            "1799/1799 [==============================] - 13s 7ms/step - loss: 0.1172 - accuracy: 0.9556 - val_loss: 0.4620 - val_accuracy: 0.8491\n",
            "Epoch 7/7\n",
            "1799/1799 [==============================] - 13s 7ms/step - loss: 0.0869 - accuracy: 0.9680 - val_loss: 0.5174 - val_accuracy: 0.8551\n"
          ]
        }
      ]
    },
    {
      "cell_type": "code",
      "source": [
        "history_dict = history.history\n",
        "print(history_dict.keys())"
      ],
      "metadata": {
        "colab": {
          "base_uri": "https://localhost:8080/"
        },
        "id": "rIP2eCPwGTwH",
        "outputId": "0926c8f8-11bf-4349-f71e-1c49dfe8f5de"
      },
      "execution_count": 188,
      "outputs": [
        {
          "output_type": "stream",
          "name": "stdout",
          "text": [
            "dict_keys(['loss', 'accuracy', 'val_loss', 'val_accuracy'])\n"
          ]
        }
      ]
    },
    {
      "cell_type": "code",
      "source": [
        "acc = history_dict['accuracy']\n",
        "val_acc = history_dict['val_accuracy']\n",
        "loss = history_dict['loss']\n",
        "val_loss = history_dict['val_loss']\n",
        "\n",
        "epochs = range(1, len(acc) + 1)\n",
        "\n",
        "plt.plot(epochs, loss, 'ro', label='Training loss')\n",
        "plt.plot(epochs, val_loss, 'r', label='Validation loss')\n",
        "plt.title('Training and validation loss')\n",
        "plt.xlabel('Epochs')\n",
        "plt.ylabel('Loss')\n",
        "plt.legend()\n",
        "\n",
        "plt.show()\n",
        "\n",
        "plt.clf()\n",
        "\n",
        "plt.plot(epochs, acc, 'bo', label='Training acc')\n",
        "plt.plot(epochs, val_acc, 'b', label='Validation acc')\n",
        "plt.title('Training and validation accuracy')\n",
        "plt.xlabel('Epochs')\n",
        "plt.ylabel('Accuracy')\n",
        "plt.legend()\n",
        "\n",
        "plt.show()"
      ],
      "metadata": {
        "colab": {
          "base_uri": "https://localhost:8080/",
          "height": 573
        },
        "id": "MgBTwbMNGf8t",
        "outputId": "e02cfa11-8e4f-48e1-dfdb-abc05591beb4"
      },
      "execution_count": 189,
      "outputs": [
        {
          "output_type": "display_data",
          "data": {
            "text/plain": [
              "<Figure size 432x288 with 1 Axes>"
            ],
            "image/png": "[encoded data removed]"
          },
          "metadata": {
            "needs_background": "light"
          }
        },
        {
          "output_type": "display_data",
          "data": {
            "text/plain": [
              "<Figure size 432x288 with 1 Axes>"
            ],
            "image/png": "[encoded data removed]"
          },
          "metadata": {
            "needs_background": "light"
          }
        }
      ]
    },
    {
      "cell_type": "code",
      "source": [
        "# 테스트셋을 통한 모델 평가\n",
        "results = model.evaluate(X_test, y_test, verbose=2)\n",
        "print(results)"
      ],
      "metadata": {
        "colab": {
          "base_uri": "https://localhost:8080/"
        },
        "id": "lGM38r91HM0o",
        "outputId": "d54f8c79-66de-4e6f-9ddf-cdfc43fb9f35"
      },
      "execution_count": 190,
      "outputs": [
        {
          "output_type": "stream",
          "name": "stdout",
          "text": [
            "1516/1516 - 4s - loss: 0.5209 - accuracy: 0.8541 - 4s/epoch - 3ms/step\n",
            "[0.520922839641571, 0.8540970683097839]\n"
          ]
        }
      ]
    },
    {
      "cell_type": "code",
      "source": [
        "from gensim.models.keyedvectors import Word2VecKeyedVectors"
      ],
      "metadata": {
        "id": "SL2cx18emgRW"
      },
      "execution_count": 192,
      "outputs": []
    },
    {
      "cell_type": "markdown",
      "source": [
        "* Model1 : LSTM"
      ],
      "metadata": {
        "id": "gMvtF-nmn6Cf"
      }
    },
    {
      "cell_type": "code",
      "source": [
        "embedding_layer = model1.layers[0]\n",
        "weights = embedding_layer.get_weights()[0]\n",
        "print(weights.shape)"
      ],
      "metadata": {
        "colab": {
          "base_uri": "https://localhost:8080/"
        },
        "id": "8UzXYXIVnPC8",
        "outputId": "2fa5cc81-176f-4fd7-a634-53727ee10f2b"
      },
      "execution_count": 227,
      "outputs": [
        {
          "output_type": "stream",
          "name": "stdout",
          "text": [
            "(10000, 200)\n"
          ]
        }
      ]
    },
    {
      "cell_type": "code",
      "source": [
        "# 학습한 Embedding 파라미터를 파일에 써서 저장한다.\n",
        "word2vec_file_path = '/content/drive/MyDrive/sentiment_classification/word2vec_RNN.txt'\n",
        "f = open(word2vec_file_path, 'w')\n",
        "f.write('{} {}\\n'.format(vocab_size-4, word_vector_dim)) ## 몇개의 벡터를 얼마 사이즈로 기재할지 타이틀을 쓴다.\n",
        "\n",
        "# 단어 개수(특수문자 4개는 제외)만큼의 워드 벡터를 파일에 기록한다.\n",
        "vectors = model1.get_weights()[0]\n",
        "for i in range(4, vocab_size):\n",
        "    f.write('{} {}\\n'.format(index_to_word[i], ' '.join(map(str, list(vectors[i, :])))))\n",
        "f.close()"
      ],
      "metadata": {
        "id": "BDfaODpBoKj2"
      },
      "execution_count": 228,
      "outputs": []
    },
    {
      "cell_type": "code",
      "source": [
        "# gensim에서 제공하는 패키지를 이용해, 위에 남긴 임베딩 파라미터를 읽어서 word vector로 활용\n",
        "word_vectors = Word2VecKeyedVectors.load_word2vec_format(word2vec_file_path, binary=False)\n",
        "vector = word_vectors['재미']\n",
        "vector"
      ],
      "metadata": {
        "colab": {
          "base_uri": "https://localhost:8080/"
        },
        "id": "DzhANMZFqGBe",
        "outputId": "405664af-364a-4e53-832e-7ba0ce39dbd5"
      },
      "execution_count": 229,
      "outputs": [
        {
          "output_type": "execute_result",
          "data": {
            "text/plain": [
              "array([ 0.01168726,  0.084478  , -0.03435707, -0.14456421,  0.11584412,\n",
              "       -0.0623613 ,  0.02968056,  0.0035247 , -0.00081615, -0.02635366,\n",
              "        0.09200995, -0.02885733,  0.07483369,  0.05842755,  0.14410357,\n",
              "       -0.06357124,  0.01956436, -0.09142468,  0.04631441,  0.09238229,\n",
              "       -0.02338261, -0.07702272,  0.03961678,  0.18518108, -0.07855587,\n",
              "        0.03761779, -0.10295548,  0.08172774, -0.09536225, -0.1761319 ,\n",
              "       -0.05258565,  0.01893044,  0.17626697,  0.03358863, -0.00566478,\n",
              "        0.16170669,  0.08972184,  0.0146762 , -0.01849752, -0.11638485,\n",
              "        0.08677456,  0.13255131,  0.09273788, -0.11138216, -0.14701593,\n",
              "        0.00308576,  0.00799491,  0.02130159,  0.02406064,  0.05636022,\n",
              "       -0.0406412 , -0.05491825,  0.10323472, -0.20824265,  0.12974639,\n",
              "        0.04692316,  0.06462281,  0.2099775 ,  0.01698889, -0.01880853,\n",
              "       -0.18794109,  0.0051532 , -0.02482496, -0.02279401, -0.06717815,\n",
              "       -0.00375752,  0.05087723, -0.06015732,  0.06746443, -0.01979982,\n",
              "       -0.06800742, -0.10650328, -0.06793688, -0.01622241,  0.00566865,\n",
              "       -0.0745007 ,  0.03951658, -0.12920548, -0.07653856,  0.18806759,\n",
              "       -0.20878774, -0.04288425,  0.19052152,  0.1358974 , -0.06543316,\n",
              "       -0.07359603,  0.15501617, -0.0272088 , -0.01657677,  0.01061756,\n",
              "       -0.00043693, -0.00036978,  0.00685359, -0.03146806, -0.03695565,\n",
              "       -0.09415832, -0.02935314, -0.0025185 ,  0.01076219, -0.12960905,\n",
              "        0.04694366,  0.13914308, -0.05802267,  0.17866334, -0.06952491,\n",
              "        0.15347709, -0.16280632, -0.150551  , -0.1080021 ,  0.06358329,\n",
              "        0.15746123, -0.07353007,  0.00662839,  0.04558478, -0.05670948,\n",
              "        0.00181879,  0.01796125,  0.06580241,  0.09487215,  0.05651457,\n",
              "       -0.00067362, -0.04475931,  0.00539985, -0.06965072, -0.11952108,\n",
              "       -0.05906761, -0.1489067 ,  0.06206991,  0.0484629 ,  0.17620952,\n",
              "        0.076644  ,  0.08088493,  0.06395089,  0.03725587,  0.1214285 ,\n",
              "        0.06825065, -0.14117855,  0.10332201,  0.07961752,  0.11298387,\n",
              "        0.13859108, -0.20190722, -0.01995408,  0.04443793,  0.004208  ,\n",
              "       -0.04481559,  0.0499973 , -0.09904163,  0.08767539,  0.01656903,\n",
              "       -0.04526455,  0.10137904,  0.07190705,  0.07309277,  0.1010922 ,\n",
              "       -0.03060174, -0.05227281,  0.01772895, -0.13959092, -0.00634268,\n",
              "        0.06081839, -0.09822252,  0.02149514,  0.14362104,  0.19482027,\n",
              "        0.03144542, -0.06325439, -0.07854534,  0.07593587, -0.22696835,\n",
              "        0.16534333,  0.04204902, -0.0361988 , -0.0148088 , -0.01309406,\n",
              "       -0.08114538, -0.01338026,  0.03210288,  0.12358887,  0.01982622,\n",
              "        0.10657851, -0.02608111,  0.06853804, -0.02484966, -0.00967481,\n",
              "        0.04494398, -0.02586197, -0.07964751, -0.0044895 ,  0.01719362,\n",
              "        0.12765408, -0.04306925,  0.04398333, -0.09248143, -0.06934424,\n",
              "       -0.00547556,  0.02532556, -0.01694272,  0.01135601, -0.07680851],\n",
              "      dtype=float32)"
            ]
          },
          "metadata": {},
          "execution_count": 229
        }
      ]
    },
    {
      "cell_type": "code",
      "source": [
        "word_vectors.similar_by_word(\"재미\")"
      ],
      "metadata": {
        "colab": {
          "base_uri": "https://localhost:8080/"
        },
        "id": "UP7VEY77qVH-",
        "outputId": "91dee848-85e3-4ecb-f23b-f72dcad41674"
      },
      "execution_count": 230,
      "outputs": [
        {
          "output_type": "execute_result",
          "data": {
            "text/plain": [
              "[('잼', 0.5726073384284973),\n",
              " ('몸짓', 0.5283682346343994),\n",
              " ('닿', 0.5276622772216797),\n",
              " ('재밌', 0.5275838971138),\n",
              " ('최', 0.5268248915672302),\n",
              " ('예수', 0.5210540294647217),\n",
              " ('차원', 0.5148540735244751),\n",
              " ('브로디', 0.5129058361053467),\n",
              " ('어릴', 0.5067381858825684),\n",
              " ('대해', 0.50508713722229)]"
            ]
          },
          "metadata": {},
          "execution_count": 230
        }
      ]
    },
    {
      "cell_type": "code",
      "source": [
        "word_vectors.similar_by_word(\"행복\")"
      ],
      "metadata": {
        "colab": {
          "base_uri": "https://localhost:8080/"
        },
        "id": "K9T4itTuqbnI",
        "outputId": "a6acb8f6-bdf1-4f72-9153-06e476445e3b"
      },
      "execution_count": 231,
      "outputs": [
        {
          "output_type": "execute_result",
          "data": {
            "text/plain": [
              "[('느끼', 0.6846579313278198),\n",
              " ('슬프', 0.6638926267623901),\n",
              " ('신기', 0.6343170404434204),\n",
              " ('느껴', 0.6225070953369141),\n",
              " ('경의', 0.6221129894256592),\n",
              " ('최신', 0.6142946481704712),\n",
              " ('멋지', 0.6098209619522095),\n",
              " ('빠져', 0.6090795993804932),\n",
              " ('세세', 0.6036957502365112),\n",
              " ('대박', 0.6033415198326111)]"
            ]
          },
          "metadata": {},
          "execution_count": 231
        }
      ]
    },
    {
      "cell_type": "code",
      "source": [
        "word_vectors.similar_by_word(\"따뜻\")"
      ],
      "metadata": {
        "colab": {
          "base_uri": "https://localhost:8080/"
        },
        "id": "miAZo_uYqgfa",
        "outputId": "8c3d4dc3-ee7c-444f-adce-c90fcdccdf6e"
      },
      "execution_count": 232,
      "outputs": [
        {
          "output_type": "execute_result",
          "data": {
            "text/plain": [
              "[('최', 0.654693603515625),\n",
              " ('산다는', 0.6249358654022217),\n",
              " ('월요일', 0.620259165763855),\n",
              " ('주일', 0.6133925914764404),\n",
              " ('재미있', 0.6125873327255249),\n",
              " ('묶', 0.6044560670852661),\n",
              " ('해설', 0.5890375375747681),\n",
              " ('치즈', 0.5817951560020447),\n",
              " ('통해', 0.5815732479095459),\n",
              " ('묵직', 0.5811116099357605)]"
            ]
          },
          "metadata": {},
          "execution_count": 232
        }
      ]
    },
    {
      "cell_type": "code",
      "source": [
        "word_vectors.similar_by_word(\"최악\")"
      ],
      "metadata": {
        "colab": {
          "base_uri": "https://localhost:8080/"
        },
        "id": "IpMi07pWqlnh",
        "outputId": "b392061d-6792-44d8-8f90-674d095e4763"
      },
      "execution_count": 233,
      "outputs": [
        {
          "output_type": "execute_result",
          "data": {
            "text/plain": [
              "[('지겨워서', 0.8643180727958679),\n",
              " ('무분별', 0.8605042695999146),\n",
              " ('반말', 0.8600190877914429),\n",
              " ('열중', 0.8579766750335693),\n",
              " ('문란', 0.8514608144760132),\n",
              " ('허접쓰레기', 0.8496911525726318),\n",
              " ('거려', 0.849132776260376),\n",
              " ('저랬', 0.8480046987533569),\n",
              " ('순이', 0.8459312915802002),\n",
              " ('본데', 0.8456572890281677)]"
            ]
          },
          "metadata": {},
          "execution_count": 233
        }
      ]
    },
    {
      "cell_type": "code",
      "source": [
        "word_vectors.similar_by_word(\"슬픔\")"
      ],
      "metadata": {
        "colab": {
          "base_uri": "https://localhost:8080/"
        },
        "id": "dvcxTaYOqrXd",
        "outputId": "fb1667b0-1853-4c8a-e31b-893d40b968a4"
      },
      "execution_count": 234,
      "outputs": [
        {
          "output_type": "execute_result",
          "data": {
            "text/plain": [
              "[('뜻밖', 0.7688899040222168),\n",
              " ('데이즈', 0.7521281242370605),\n",
              " ('더욱', 0.7515940070152283),\n",
              " ('오컬트', 0.7478286027908325),\n",
              " ('검프', 0.745078444480896),\n",
              " ('훈훈', 0.7425708770751953),\n",
              " ('지리', 0.7398726344108582),\n",
              " ('빼놓', 0.7389023303985596),\n",
              " ('낯선', 0.7377039790153503),\n",
              " ('고대', 0.7352944612503052)]"
            ]
          },
          "metadata": {},
          "execution_count": 234
        }
      ]
    },
    {
      "cell_type": "code",
      "source": [
        "word_vectors.similar_by_word(\"우울\")"
      ],
      "metadata": {
        "colab": {
          "base_uri": "https://localhost:8080/"
        },
        "id": "ZySkYxZQqtQg",
        "outputId": "807a6f5e-811e-4ab8-a875-470ce7e6c808"
      },
      "execution_count": 235,
      "outputs": [
        {
          "output_type": "execute_result",
          "data": {
            "text/plain": [
              "[('어쩌', 0.6683464050292969),\n",
              " ('그러나', 0.5347463488578796),\n",
              " ('연예인', 0.4649119973182678),\n",
              " ('아무렇', 0.46377676725387573),\n",
              " ('주년', 0.456747442483902),\n",
              " ('다수', 0.45656558871269226),\n",
              " ('4', 0.45126616954803467),\n",
              " ('그냥', 0.42980578541755676),\n",
              " ('라고', 0.4250507354736328),\n",
              " ('거리', 0.4241827428340912)]"
            ]
          },
          "metadata": {},
          "execution_count": 235
        }
      ]
    },
    {
      "cell_type": "code",
      "source": [
        "word_vectors.similar_by_word(\"분노\")"
      ],
      "metadata": {
        "colab": {
          "base_uri": "https://localhost:8080/"
        },
        "id": "p0jZpTGBqwRU",
        "outputId": "898be2d2-f208-4d8a-85f2-874b164997f1"
      },
      "execution_count": 236,
      "outputs": [
        {
          "output_type": "execute_result",
          "data": {
            "text/plain": [
              "[('못', 0.7084090113639832),\n",
              " ('데스', 0.6951520442962646),\n",
              " ('임무', 0.6941906213760376),\n",
              " ('깨', 0.6903679370880127),\n",
              " ('깎', 0.6880708932876587),\n",
              " ('게스트', 0.6867116689682007),\n",
              " ('라며', 0.6860117316246033),\n",
              " ('접', 0.6772372722625732),\n",
              " ('금포', 0.6698756217956543),\n",
              " ('세월', 0.6698032021522522)]"
            ]
          },
          "metadata": {},
          "execution_count": 236
        }
      ]
    },
    {
      "cell_type": "markdown",
      "source": [
        "* 한국어 Word2Vec 임베딩을 활용한 Model : LSTM"
      ],
      "metadata": {
        "id": "6X4nfIhtpteY"
      }
    },
    {
      "cell_type": "code",
      "source": [
        "word2vec.wv.most_similar(\"재미\")"
      ],
      "metadata": {
        "colab": {
          "base_uri": "https://localhost:8080/"
        },
        "id": "PpqFZhH3a8ht",
        "outputId": "c2c34b34-1852-45f3-8202-f530dcb76c4c"
      },
      "execution_count": 252,
      "outputs": [
        {
          "output_type": "execute_result",
          "data": {
            "text/plain": [
              "[('취미', 0.5857348442077637),\n",
              " ('유머', 0.5140613913536072),\n",
              " ('매력', 0.5105490684509277),\n",
              " ('흥미', 0.4988338351249695),\n",
              " ('공짜', 0.4960595667362213),\n",
              " ('일자리', 0.49294644594192505),\n",
              " ('즐거움', 0.48700767755508423),\n",
              " ('비애', 0.4836210310459137),\n",
              " ('관객', 0.48286449909210205),\n",
              " ('향수', 0.4823310971260071)]"
            ]
          },
          "metadata": {},
          "execution_count": 252
        }
      ]
    },
    {
      "cell_type": "code",
      "source": [
        "word2vec.wv.most_similar(\"행복\")"
      ],
      "metadata": {
        "colab": {
          "base_uri": "https://localhost:8080/"
        },
        "id": "jGHZCD2DbGYX",
        "outputId": "36d5416c-dfae-498d-b79f-ea5de57354c3"
      },
      "execution_count": 253,
      "outputs": [
        {
          "output_type": "execute_result",
          "data": {
            "text/plain": [
              "[('사랑', 0.6759077310562134),\n",
              " ('기쁨', 0.6493781805038452),\n",
              " ('즐거움', 0.6396492719650269),\n",
              " ('삶', 0.6299898028373718),\n",
              " ('젊음', 0.6187379360198975),\n",
              " ('즐겁', 0.6027448177337646),\n",
              " ('인생', 0.6002243161201477),\n",
              " ('존엄', 0.5952589511871338),\n",
              " ('고독', 0.5938762426376343),\n",
              " ('불행', 0.5894461870193481)]"
            ]
          },
          "metadata": {},
          "execution_count": 253
        }
      ]
    },
    {
      "cell_type": "code",
      "source": [
        "word2vec.wv.most_similar(\"따뜻\")"
      ],
      "metadata": {
        "colab": {
          "base_uri": "https://localhost:8080/"
        },
        "id": "w5TtW_UHbQQu",
        "outputId": "dce615ae-ca55-4547-c7d1-d116f03e9632"
      },
      "execution_count": 254,
      "outputs": [
        {
          "output_type": "execute_result",
          "data": {
            "text/plain": [
              "[('깨끗', 0.8110603094100952),\n",
              " ('시원', 0.7888997793197632),\n",
              " ('온화', 0.7739460468292236),\n",
              " ('차갑', 0.7733761072158813),\n",
              " ('서늘', 0.7700977921485901),\n",
              " ('조용', 0.7690449357032776),\n",
              " ('잔잔', 0.7158679962158203),\n",
              " ('편안', 0.7051763534545898),\n",
              " ('덥', 0.7028454542160034),\n",
              " ('딱딱', 0.6989432573318481)]"
            ]
          },
          "metadata": {},
          "execution_count": 254
        }
      ]
    },
    {
      "cell_type": "code",
      "source": [
        "word2vec.wv.most_similar(\"최악\")"
      ],
      "metadata": {
        "colab": {
          "base_uri": "https://localhost:8080/"
        },
        "id": "top7-Uk8a_qr",
        "outputId": "53e9972a-5baa-406e-f102-a2c1f68a1dbf"
      },
      "execution_count": 255,
      "outputs": [
        {
          "output_type": "execute_result",
          "data": {
            "text/plain": [
              "[('초유', 0.546215832233429),\n",
              " ('최대', 0.4657382071018219),\n",
              " ('대공황', 0.4530748426914215),\n",
              " ('최고', 0.4529539942741394),\n",
              " ('최장', 0.4382264018058777),\n",
              " ('역전', 0.43632203340530396),\n",
              " ('최하위', 0.42039841413497925),\n",
              " ('여파', 0.4164554476737976),\n",
              " ('불황', 0.4069921672344208),\n",
              " ('추돌', 0.40534573793411255)]"
            ]
          },
          "metadata": {},
          "execution_count": 255
        }
      ]
    },
    {
      "cell_type": "code",
      "source": [
        "word2vec.wv.most_similar(\"슬픔\")"
      ],
      "metadata": {
        "colab": {
          "base_uri": "https://localhost:8080/"
        },
        "id": "-Q-ojWF9bKw7",
        "outputId": "4e49e19c-045c-4fb1-e9c6-f7200582f195"
      },
      "execution_count": 256,
      "outputs": [
        {
          "output_type": "execute_result",
          "data": {
            "text/plain": [
              "[('기쁨', 0.7767106294631958),\n",
              " ('절망', 0.7710496783256531),\n",
              " ('아픔', 0.7430999279022217),\n",
              " ('비탄', 0.7297681570053101),\n",
              " ('고독', 0.7251476049423218),\n",
              " ('사랑', 0.7216662168502808),\n",
              " ('외로움', 0.7195188999176025),\n",
              " ('추억', 0.6951203346252441),\n",
              " ('이별', 0.6873862147331238),\n",
              " ('괴로움', 0.6854110956192017)]"
            ]
          },
          "metadata": {},
          "execution_count": 256
        }
      ]
    },
    {
      "cell_type": "code",
      "source": [
        "word2vec.wv.most_similar(\"우울\")"
      ],
      "metadata": {
        "colab": {
          "base_uri": "https://localhost:8080/"
        },
        "id": "tZXVvcM7bcvI",
        "outputId": "db00ba34-16a1-4a65-a279-4af4a95339b4"
      },
      "execution_count": 257,
      "outputs": [
        {
          "output_type": "execute_result",
          "data": {
            "text/plain": [
              "[('강렬', 0.6977053880691528),\n",
              " ('무기력', 0.6428703665733337),\n",
              " ('애절', 0.6334070563316345),\n",
              " ('경쾌', 0.6156872510910034),\n",
              " ('예리', 0.6113821268081665),\n",
              " ('추악', 0.6113097071647644),\n",
              " ('비통', 0.6093991994857788),\n",
              " ('일그러지', 0.6051713228225708),\n",
              " ('차분', 0.5982251167297363),\n",
              " ('침착', 0.5927936434745789)]"
            ]
          },
          "metadata": {},
          "execution_count": 257
        }
      ]
    },
    {
      "cell_type": "code",
      "source": [
        "word2vec.wv.most_similar(\"분노\")"
      ],
      "metadata": {
        "colab": {
          "base_uri": "https://localhost:8080/"
        },
        "id": "135_NPaucGRi",
        "outputId": "c4bb57b7-36dd-49d2-fbd2-57edad8e2f8b"
      },
      "execution_count": 258,
      "outputs": [
        {
          "output_type": "execute_result",
          "data": {
            "text/plain": [
              "[('격노', 0.7377745509147644),\n",
              " ('격분', 0.7231990694999695),\n",
              " ('원망', 0.721239447593689),\n",
              " ('분개', 0.6994378566741943),\n",
              " ('질투', 0.6872379183769226),\n",
              " ('실망', 0.6750859022140503),\n",
              " ('당황', 0.6650348901748657),\n",
              " ('증오', 0.6568769216537476),\n",
              " ('경악', 0.6351868510246277),\n",
              " ('반발', 0.6297549605369568)]"
            ]
          },
          "metadata": {},
          "execution_count": 258
        }
      ]
    },
    {
      "cell_type": "markdown",
      "source": [
        "* LSTM 모델과 임베딩을 활용한 LSTM 모델을 비교하면서 유사 단어 찾기를 진행하였다. 그 결과, 전반적으로 두 모델이 유사 단어 찾기를 잘 수행한 것으로 보인다. 그래도 두 모델 사이에서 특정 단어마다 잘 찾아내는 정도의 차이를 확인할 수 있다."
      ],
      "metadata": {
        "id": "BdMIg1_Hwydk"
      }
    },
    {
      "cell_type": "markdown",
      "source": [
        "# ✍ 회고"
      ],
      "metadata": {
        "id": "o27vkRuuZv2R"
      }
    },
    {
      "cell_type": "markdown",
      "source": [
        "* 루브릭 평가기준을 위한 발자취...\n",
        "\n",
        "  이정도면 나름 빨리 원하는 결과가 나왔다고 생각한다. 나이쓰~\n",
        "epoch 값이 너무 작으면 underfitting, 너무 크면 overfitting이 발생할 확률이 높다. 과적합을 해결하기 위해 early stopping을 사용하는 방법도 있다. 단어 그대로 '조기 종료'라는 뜻으로 이전 epoch 때와 비교해서 오차가 증가했다면 학습을 중단한다(과적합 되는 모델의 경우, epoch가 커질수록 val_loss가 줄어들다가 다시 늘게 되는 경우가 생기는데 이때 학습을 종료시켜주는 콜백함수이다). early stopping을 안써서 아주 조금 아쉽지만, 다음에 쓸 기회가 있으면 시도해보겠다."
      ],
      "metadata": {
        "id": "2XB5-RQDZuN0"
      }
    },
    {
      "cell_type": "markdown",
      "source": [
        "![image.png](data:image/png;base64,iVBORw0KGgoAAAANSUhEUgAAAaoAAAEnCAYAAAD4oQfwAAAAAXNSR0IArs4c6QAAAARnQU1BAACxjwv8YQUAAAAJcEhZcwAAEnQAABJ0Ad5mH3gAAEdWSURBVHhe7Z0xduo6E8eHby2QIicrMCuA27yKNp0pkyYdJV0aKEOXlirNhRXACjgprtmLvxlJBtmWjWQgOMn/d47ffTbDeCSNNLJGxJ2UIQAAAKCl/M/8CwAAALQSBCoAAACtBoEKAABAq0GgAgAA0GoQqAAAALQaBCoAAACtBoEKAABAq0GgAgAA0GoQqAAAALQaBCoAAACtBoEKAABAq0GgAgAA0GoQqAAAALQaBCoAAACtBoEKAABAq0GgAgAA0GoQqAAAv5v9mtbrvTkBbQSBypf1mDqdjjrGa3PtR7Cn+bh/KFunP6a5s9PuuQr61Lfk0LfB5biAf3HAyftyn/vqKSXs/49DGg5fydmtQ3Tuj2X4WWPE7UGg8mXwRmm6otic/gy4k/Z7tKQJJWnK5UspmdzTctgrdbT1uEfD3YgmiZEb7WjY69McwQpcgPP9a03j3rDgyyPasS/365SsX2n5EFNkTvOE6OSA9vhK9DKiB3MFXBCufOBNks4iSuOVOf3urOKUohmXKk8yi1KyCylyFKfFYq9iyssB0IQL+JfyWYcvV/m4ZpXGEd83maWR4/6NdfKwim5xWfBE9YtZfywoGv2hrjnP6N7xnHD3j5+3NCJH8X80MOcZg5cZRYvpFZ+qZFkSS4ztR57MZVlsfvCZEC7mXw93JV+m3j1F209KzKnNfj6l3eildN8cgTrBdUCg+rXs6d/O/G+BvXxw6KBaLv7P0Z27f2gUbenzaj22S3/+I5r2OtQfrxsNgqDtXMa/1ORq8VHKM+3/LmnrCIKyVPe6HNH7UykMHQjXCa5FOwJVMWHZ6dPYnkZZGxn6PMM+JFzl8E3+89Efz2tm52V5pZuvlROjLDu37ahKsBbltM7xuA3J1i49bVLalDoqd+BnotlL1g0T+txGdN8zpzm6pB++rhdCuoM32qQJTWhKvcq2DmMvbSJPAHb7VU7bA/2iTrZmQ86afUJ/xk+Q5lpe3tZt/rWUhJVJqLPVPCFZurSqNY1t+cN17Uvp5slMbkK4kH+xnySzHQ25DNpFpO/16XH5QKs3R5gaT4kmJ+wN1AmuiFkCvB1qfZjSKF4d13wTWTvmazN7FViv/cra8Mq+LLLy/aKsfD+2ZZN0FUcpUZTmRBVGh23DQd5eb9Y5KrmWsyMrQ0GxWmPP2evS6Ylaxzf3Lh4XXBAXm3PlUGVz1ZmmJH9NMr/ItWsYKu8g+Qj7+6xX2rVcDl+/EHxltZyzyZy5Gi0vfivlTjLl0i5GSViZBD9bD3r16YHK3E0TLupfxzKoI4rdeuWetv3KhnI5NZ46D9S0L2jMzQNVZcK05Dw1GxkKzl6pk3F1sjp5+ez4kQlUjk5a1lvtsHmd7cE5AF10IDGcGXQT/r7YFM/sgfY8VNkL9/b3ixDZGj92BirjcxW663CVSfC31eXDNfY34WL+pe2yg+/BTwq2SuDJqawMVP46jyBQXYMbBypp1ConLXaIug5if1anUyh+fkrepsYGxyCjB36ega0uN6BeDecgKdTXj/9AcjnODVTJasZPZtw2doCUI9ewIX5xPR+qlbfwK5MQYivrFR+2bRIbHRO15lzGv6qCcqlOxXeKchWByltnDinP6fYCYdw2R7X/Rzva0nPPXvfOjh49b42cJ2otW+k8hZWg9ZJvRvdpo36X9DmdUs+s6dfnyWqw8hWl4+yE15rGwx3NkjdHgrhH95UJbZ0If7gLz0w0Ys929jv0+HFPk2RDb0+D4JzIft6n3nBJNHk//DZGDh6UjIQhxC+u6EM+eJdJCLS1+zShmBY0VcmoPc2n7p2izbmEf+3p73Lr3pAxeKFZtKAP1UXE/h2NDvnXOnx1gq/gtoGqe0cPFPEAeexcxSMkZ6kcWuk8hZW89ZJvTnfwRG+bjS5P8k6T+0+1iy04tqgfHJfrRx1nJXYlcT4lWm3IvQFKJ7QXrl65/0vLykT4JdGJ/87jB91PEtq8PdGg0UgpG0V48OGyvrGCWhUhfnFlH6onoExCsK0DeuGAt31+pfX6lSePMU1KjnLO9vRL+JdsyDD/W4vIOSbGvWeeui5oqM6zzSy+OsGXwAPdTQldg3Y+UqtH8ePygeh0PrIz6nE+IEeVJ3TZxk3lksINqCq7rOMfLleUzb/emqOX+fJ5gsZU5kP0ck2xLCHlC/Whss/r6+V6PrH0F1gmIbzdjC5pB2dfNbY3XRI827+q6pQ5kQNTOJf+murE0t81uHmgyho2NxDJjiUeKPNryVlnYIc6bH0SUTOQ5byGdYqThez6K8mLbnFI2+lqBo1SZ3OUi8l0ujv8FyM2OwcXKWe+ntSgwbJZ/ahge2oAOBu2I5b2Nqdnkw0+eV+TtpdBuDwo+vqFECCrfIXr7iCofVPkggNVcJmEkHJpVPtfsb39/EuX1emzKnjk6yHha6oeqitP4wxUTCOdXLcVdQia04JAJdgdVQ5Xotx0WL6eSxqrzQolt2VY50wHsUxWBQ2XqKJog9GdyavBxf7s2Fl0Jz4eRyd16ZQnlUojvhDT6W3bckd5wFzx4HEoi5owmI++E/Ygrsqh20MPjHKtPDjW+kUOf9lsgpXdU/mm5WPKh2p8LkdwmYSQcjFiy1VHXx//qglUgqoHe2w43deOdaSPUhG9dbKcpSc7rlplv4iO/Icr9Bsg6+A9+pyE5a0AAOcife+R6L0qjwnAdcGfUAIA1CAbWXr0/DBBkAI343sEKrU1W29XXww7DXcXAQD8yf5cUo+mtKIEyxjghnyjpT8AAAC/ESz9AQAAaDUIVAAAAFoNAhUAAIBWg0AFAACg1SBQAQAAaDUIVAAAAFoNAhUAAIBWg0AFAACg1SBQAQAAaDUIVAAAAFoNAhUAAIBWg0AFAPiZ7Ne0XuPPV/8EEKh8UX/BXf6adIfGa3Pt25P9hWzXMeZPATgHeUVIn/qZT/XZp0LjBgebOes4+GW/z/3PR8me5o9DGg5fc368n1u6HEd/7tC9P5bj5/T97wUClS+DN0rTFcXm9GcwoLcVlyiaUaLf9mwdb/wpAM2R91gNdyOaJNqnktGOhr0+uWKBG55I9Ya0pMnBP5PJiHbDnjug2KxfafkQU2ROM5LPrbyo2PLz7EhoxsIPd8WXbnGgfHwlehnRg7kCvh4EqiB6dF/0/G/O/t9OeifhnXjgoqzHNFzEtNo80cA4V/dpQ6t4S8+vfo8l+/mUFjyJen8bHPyzO3iiDU+utsu/Ne+k4wA3JZq83JvzjD3920V03zOnNvu/tNzG9F9pdjagpw1P2rp35hzcAgSqX47MMCNnz70We5qPGywBgRsgr6DvNHpR6fpjQRT/V3oqH7zMKFpM/Z+qXJOo3j1F209KzGkRCXC70YtjRaDLQcf9Ov393yVtHfaCdoBA9auRGaZrueOadOnPf0TTXof643XwAAi+A9qv4vLjCTf/HxpFW/qsijIW3bsHosVHKVdaH1TW9Loc0XvQe/P5O89EsxeEqbbSjkBVTJh2+jS2p1zWRoY+z8YPyVk5+mOaO6fnhUQuH/3xvGYmX5ZXuvlaOYHKsnPbjqoEb1FO6xyP25KUTYgfqL6c7uCNNmlCE5pSr7L9wthLPcvs326T2mm7b3t7yNVstFlzW+vPrM0pOXlbv/nXUhJWrlO2mickS5dWVdxUk12XJ5CU0s1T+ammFvGriiU21iTxZ/fPo83ZT5LZjoZcBu0i0p/69Lh8oFXFq/HXas0v0N71By2iEf35yvkaCCO9NcksjdiMKF6libmUJqs0jvja7HCF4WssR9EsXdmXRVa+X5SV78e2bJKu4iglitKcqMLosG04yFPKlw1JOmO9ci1nR1aGguJVXLTXpdOTVazv6zqClWWYOs0dURqXK+h6ZG2da6swkpnUaVzyC2mrYptofNvbV07Qss6mUG3H9plTTVb3kSp7kt1AfMkoCSuXv60HveY8Q11nfy1qDkb1B1c/00i/cLeLi2MZ1BHFlXrVfW37lR3lchbxs6emfcHVuXmgUoO5q/VLTqaDhNNRCh2jUifj6ox18vLZ8SMTqByduay32rHzOm/MYYQ0mMDRKPidEUwT/q60YTyzB9rzUG3iuK9ve/v7hVDjn85AZXypQn8drnKF2eryzRr7Q7lYoNI22cH34CcOOyWg5dR6BSqpi2pbjyBQ3ZIbB6o6Jyl2nLqOZH92yvGKn/s6qlBjg2Mw0sGLZ4Cryw2+X8KJgeYanBuoktWMAyzXtx0c5Sg1lm97h/iFEOYbtfIWfuUKtZX1im/aNomNl3iaUtTb4xuoqiYazvoU/ynKegQq3Ud9yi1lOt1e4DrcNke1/0c72tJzz14fz44ePQfmT9S6t9J5CiuZ6yXfDNmOm0zu6XM6pZ5Z+6/Pk9Vg5TVKRzExci4BCe+z2a9p3O/Q48c9TZINvT0dtyL7Ij/i7A2XRJP33O/BeBAyEha+7X1Fv/DFu1wNbO0+TSimBU1VMmpP8+mCotGf4Lp3Iz/jqPIf3w08e/q73Lo3ZAxeaBYt6OPg9mL/jkbBmyHMPUJzWuDLuW2g6t7RA0XEk6tDJyweFTlTJ8r5lc5TWIleL/nmyO8+3jYbXZ7knSb3n2rHW3BsUT84LtePOkIq6cCeY8S6Imh+xSYLnfjvPH7Q/SShzdvx9zZhyI4t+REnBzlWcFKFb3tf2S9OE1CuRrYO6IUD3vb5ldbrV54UxjQp7ZRruj1db5hYHCPJEfV7paqNFjYhPiiyjglv75mnpAsaqnPHX1qp/O0UaB080N2U0PVq56O3Wgo4LjXUrde7HvXr5POELu+4qVzS+GIqyx1QliboZb587qExlcuUeqnGVT7f9vb3C0H7RtmX9fXgpb/AcoXZmmF0SVs4+6CxvcmSYIUPhfY1p12+S9Mnlv7C+iGW/m7JzQNV5gC5QUt2NsWyG8r2iqzTsONZGwAOg17Oa1mnOHnIrr+SvOgWR7eds2ZwKXVMR7mYTKdfcL42ptxWXuj69nEdxtKG5vRssgEt7z9qQwiXwz0Q+ba3r5xB+QD710FY+5zIBgeq4HIF2mpQgcNn0G+A0s1BLrNHBQbnvXRZSwFRBZp8HSR8TdVBdcUdqQ1UXF819VImVB5ckhYEKsHu0LrjlJPqpmPz9VxyWW1WKHk+wzpnOohlsipouEQVRRuM7kxeDUL2Z8dOpTv78Tg6s0un7FiqNOIGaBuP9lXVZ4uxB3CrjvXAKNfcg2Ntex/wldNkE6fsvsrnLN9RvlHjSzmCyxVmq0Jsudroy/awrQd72Ba3a1UEKkHVge2ffv3nWEf6KBVRtUFVELPRAcrW5dQHrkpH/sMV/w2Q9fIefU7C8lYAgCqkTz0Svbv/rBAAbQF/QgmAX4lsZunR88MEQQq0nu8RqNTWbL1dfTHsNNiFBADQZH8uqUdTWlGC5QnwDfhGS38AAAB+I1j6AwAA0GoQqAAAALQaBCoAAACtBoEKAABAq0GgAgAA0GoQqAAAALQaBCoAAACtBoEKAABAq0GgAgAA0GoQqAAAALQaBCoAAACtBoEKAABAq0GgAgD8TPZrWq/xnoWfAAKVL+pVI/J6hA6N1+baT4A783zcP5St0+9z+dC5wSWQd171qX/wrTEFu1Zj/9zT/HFIw+Erubrrnvvzwa4O65yXde7n1n0dR9/xHXAdEKh8GbxRmq4oNqc/gzWNe0Na0oSSNOXypZRMRrQb9tAJwdnIixmHuxFNEuNbox0Ne33yd60z/HP9SsuHmCJzmoODVG+4o9EqUTrTZEL0XNaZfG7lLf1aJnckNGPFD3d44+SXwRUPvElSdtCUnfdHkMyilKIZl6rAKnZfB8AX8SGK02JXWcWUyujvQ3P/XKVxxPdOZmlUsoE/42EvmhW+XZKVvh6lRTGFUy+4Jnii+u083FFpXti7p2j7SYk5vSx7mo8bLAGBG8Bt1e80eqP2+mPBceo/Kr4/ePAyo2gx9X+qauCf+/mUdqOX0r0V6w9aUEyT4vv3u0+0Sd+s73TpabNxvqZ//3dJW0fZwPVAoPrFdO8eiBYfpTX863bELv35j2ja61B/vA4eAMF3YE//dhKnHB7U/UOjaEufHrOgZv65ptfliN5dEYZRATS6p545D4f1PxPNXhCmvpJ2BKpiwrSY3LQ2MvR5Nn5MgvLRH9PcOT0vJHL56I/nNTP5srzSzdfKmydYdl5IxlbZkJPTOsfjlmzIGLxRMtvR8JDkFnv79Lh8oNXb9Tpil++7SROa0JR6le0Xxl7qWWb/dpvUTtt929tDrmajzZrbWn/GdWyu5eVt/eZfS0lYuU7Zap6QLF1a1ZrG9ncO1+WpIqV081R+qqkloc9tRPfOaNAliT+7fx5t3sA/1+Mp8eNSvb2upzRf5IksGtGfxgpAI8wS4O1Q672URvHquOacyBpzcR1Zry3L2vTKviyypTVn8/3Ylk3SVRylPJ1yrDsbHbYNB3k7J6VzVHItZ0dWhoJitR6fs9el0xO15m/uXTyCldkcbVJHFLvX5a9F1ta5tgpD5TIkZ2B/n/VKW5VyEQrf9vaVE7Sssymc+RotL/4oZU+yG4gvGSVh5fK39aDXnGdU5oRCUf2hIr/DSL9wt4uLAP+U+9r2Kzvscur+q+5t/C7Tm6+3asJsB5fi5oGqMrla4WQu0WLHqEvYujpjnbx8dvzIBCpHZy7rrR648jpviem4bExmd8KDqtRlI/vOCKaH+878BgwfVJs47uvb3v5+IdT4pzNQGV+q0F+Hq1xhtrp8s8b+UC4WqML8UwJaTm1VoIpZh9psYS7zdVV/J4O01Ft1ucD1uHGgqmv4Ysep60j2Z6ecqfh5iPPV2OAYjHTw4hng6nKD7yWpGshdZbk25waqZDXjGTKX52SA9G3vEL8QwnyjVt7Cr1yhtrJeaXvbJrHx5EDtS709voEqyD/Ff4qyFYHKXU6xub49dH++VB2BEG6bo9r/ox1t6blnr49nR4+et0bOE7XurXSewkrmesk3o/u0oWRyT5/TKfXM2n99nqwGK69ROoqJES/29He5dSe8By80ixb00URtKPs1jfsdevy4p0myobenQXD+QH6Y2RsuiSbvh9/byMEDi5Gw8G3vK/qFL97lamBr92lCMS1oqpJRe5pPFxSN/jTP3eTo0X3lhgm90eL0b5BC/FPs39Ho5AYHnR9zl3NA/3Gkqs6dGXtO5b/AVbhtoOre0QNFxJOrQycsHiE5feX8SucprESvl3xzuoMnettsdHmSd5rcf6odb8GxRf3guFw/6mi08UES3uZ/b4JO/HceP+h+ktDm7YkGjUYA2YUlP8zkIMcKTqrwbe8r+8VpAsrVyNYBvXDA2z6/0nr9ypNCx5ZtCQCNtqfrgLBwzXT2f2lZudHCJsQ/RdYx4e0985R0QUN1rjez9O65zD5bDosou2NyxU3wBfBAd1NC16udj+ZqKeC41KDWmyue4V2P73XyeUKXd9xULml8Kboszro/kWM4F73Ml889NKbSVr2U46pn3/b29wuhqj7NclPo0l9gucJszTC6pC2cjW1sb7LcVdEfQvvaWf5ZWvpjauu1Wmc7+uzv5eaBKussuUFLdjbFshvKdoys07DjHbZIiagZ9HIexjrFyUN2/ZXkRbc4tT2Y1AwupY7pKBeT6XQPDF+M6rRiy9HGhK+p3VDOQl4CrsNY2tCcnk02oOX957Cjy91Ynu3tK2dQPsD+dRDWPieywYEquFyBthpU4PAZ9BugdHOQy+xRg73zXrqspYB4rn+q7xfr3dhhb6YwOymrdXLd1tQhuD4tCFSC3aHlcCXVTcfm67nkstqsUPJ8hnXOdBDLZFXQcIkqijYY3Zm8GoTsz46dSnf243F0aJdO2bFUacTXowY/uz5bZp8P9gBulUEPjHLNPTjWtvcBXzlNNnHK7qt8zvId5Rs1vpQjuFxhtirElquNwGwP23qwh21xu1ZFoBIa+uexjvRRLGKxnWo38aj2Kgc88HV05D/cWN8AWS/v0eckLG8FAKhC+tQj0bv7TwUB0BbwJ5QA+JXIZpYePT9MEKRA6/kegUptzdbb1RfDToNdSAAATfbnkno0pRUlWJ4A34BvtPQHAADgN4KlPwAAAK0GgQoAAECrQaACAADQahCoAAAAtBoEKgAAAK0GgQoAAECrQaACAADQahCoAAAAtBoEKgAAAK0GgQoAAECrQaACAADQahCoAAAAtBoEKgDA72a/pvUa72NoMwhUvqhXjcjrETo0XptrP4I9zcf9Q9k6/THNS502ezWE6xjzpwCci7wfq0/9zK/YD4NjBwecvC/3ua+eUsL+/zik4fC15Mf7uaXLcfTntu4L2A8qQaDyZfBGabqi2Jz+DPRbk5c0oSRNuXwpJZN7Wg57hWA8oLcVlzyaHeSOxxt/CsB5yEsch7sRTRLjh6MdDXt9ysWCWngy1RsWfHlEO/blfEApsH6l5UNMkTm1ST638pZ+y9ezI6EZf+Hh7vjGyfPtB7VwpQJvkpQdNGXn/Rms4pSDD5cqTzKLUumhNq5rAFwE8UOK06J38dzI2+eUfzp8ucrHNas0jvi+ySyNSveXvh6lM9cXi/IXsB/UgyeqX8z6Y0HR6A8V30TevXsg2v3j560jMruM7nvm7KuQZUksobQfeTKX5a5mb94WP6T4v9KT+eBlRtFi6v9U8nBX8mXq3VO0/aTEnNrs51PajV4qVgS69LTZOF/Tv/+7pK1l78XsB5UgUP1a9vRvZ/63wF4+yHV6LWsvdXwNXfrzH9G016H+eN1oEARtR/tW/J8jXHT/0Cja0qcryhRQk6vFRznPVAgqR9b0uhzRuysS1cLfeyaavWQaL2M/qKcdgaqYBO30aWxPQ6yNDH2eYR8SlnI4k/9CIbnJR388r5mdl+WVbr5W3jzBsnPbjqqkbVFO6xyP27AhQ2aMKW1KHbXYEYWE+IHqJnQHb7RJE5rQlHqVbR3GXtpEngDs9quc9gb6RZ1szYacNfuE/szanJKTt3Wbfy0lYWUS6mw1T0iWLq2quKkmu659Kd08WZMbX8S3InI/rHdJP9x7tDn7STLb0ZDLoF1E+l6fHpcPtHpzhKnxlGjSwN71By2iEf05fPFC9oN6zBLg7VDrvZRG8eq4jpzI2jFfyy0Q8zWWk/XmlX1ZZOX7RVn5fmzLJukqjlIi17qz0WHbcJC3c1I6RyXXcnZkZSgoVmvUOXtdOj1R6+Dm3sXjguvgYnOxHFn95O8bpXG5Iq9L5he5dg1D5TIkn2B/n/VKu1aV+7RfCL6yWs7ZZM5cR1b3kSp3kikXnzNKwsok+Nl60KtPD1Tmg5qg+k5FLohx+2MVxzKoI4qrc0y2/cqGcjldlOy5qP2gipsHKjWYu3ptyXlqNjIUnKVSJ+PqZHXy8tnxIxOoHJ20rLd6QMrrbA+1A9BhhDSYoNEoSJ4ZdBP+vrR3PLMH2vNQZS/c298vQmRr/NgZqIzPVeiuw1Umwd9Wlw/X2N+Eiw302i47+B78pGCrBLOcSu9AJfXh+i4C1bW5caByNPyBYoeo6yD2Z3U6heLnp+RtamxwDDJ64OdZ3epyA+rVcA6SJzjRSa/FuYEqWc04yHLb1AbJEL+4ng/Vylv4lUkIsZX1ig/bNomNVZOZRtTb4zvQVwXlUp2K7xTlPAOV7s/Fsl/GflDPbXNU+3+0oy099+x17+zo0XNgXkStBSudp7ASnF7yzeg+bdTvkj6nU+qZNf36PFkNVr6idJyd8FrTeLijWRL4m6ivThbv2c5+hx4/7mmSbOjtaRCcY5AfcfaGS6LJe+43YTwIGQlDiF9c0Yd88C6TEGhr92lCMS1oqpJRe5pP3TtFm9Oj+0of8t3Es6e/y617Q8PghWbRgj5UFxH7dzTK5V99Mfco5bUuYT84xW0DVfeOHijiAfLYuYqHIw9aiXIIpfMUVvLTS7453cETvW02ujzJO03uP9UutuDYon5wXK4fdYRUUglJnE+JVu6tuPL5fr2uCK5ftclCJ/47jx90P0lo8/ZEg0Z9XzaKyI84OcixgloVIX5xZR+qJ6BMQrCtA3rhgLd9fqX1+pUnjzFNSo5yzvZ0veFgoSNJnv1fWlZuVLDx9UORc0yMe888dV3QUJ1bm1lslC0xlWPhJewHJ+GB7qaErkFXL5kcH79Fp3MZgHE9vtfJ5wldtnFTuUxxA6rKLuv42eXK+gkoc1P0Ml8+99CYyqVKWb4pl9HfL0JktQ+VfV5fD176CyyTEFIujdEl7eDsq8b2pkuCFX50fp0yPsvTHkt/tX32bPvBKW4eqLJOkBuIZMcSD5T5teSsM7BDWIn9w0CW80TWKY4bsuuvJC+6xYHtQaJm0Cg5q6NcTKbTLzhfGbHZObhIOe16MvVj5YS+phxsRyztbU7PJhvQ8r6mNoVwWcqDiq9fCAGyyle4fg+C2jdFLjhQBZdJCCmXRg26pwb8M1D62Rcze1RgKN1Pl9XpsyrY5Osh4WuqHqorT3MyUHF9VdRLhp/9oCktCFSC3VHlcCXKTYfl67mksdqs4PIG1jnTQSyTVUGj0nGKNhjdmbwaXOzPjp1Fd+LjcXRol055Uqk04gsxnd62LXeUB0wd6M3nlfXecuxBXJVDt4ceWORaeXCs9Ysc/rLZBCu7p/JNy8eUD9X4XI7gMgkh5WLElrqR+mzYHrb3YA/bUnavmkAlqHqwffR0XzvWkT6cRVTtUBfIBB/7QVM68h+u2G+ArIP36HMSlrcCAJyL9L1HoveqPCYA1wV/QgkAUINsZOnR88MEQQrcjO8RqNTWbL1dfTHsNNxdBADwJ/tzST2a0ooSLGOAG/KNlv4AAAD8RrD0BwAAoNUgUAEAAGg1CFQAAABaDQIVAACAVoNABQAAoNUgUAEAAGg1CFQAAABaDQIVAACAVoNABQAAoNUgUAEAAGg1CFQAAABaDQIVAOB3s1/Teo0/c91mEKh8UX/BXf6adIfGa3Ptp7CXVzn0qV9XNu7Mc5bJ6qDT77MsOje4FEcf1P41pmD3auSje5o/Dmk4fCW367Ndc8uuToVO9I+rgkDly+CN0nRFsTn9OXAHe3wlehnRg7lSZk3j3pCWNKFEvxWaksmIdsMe9efojOB85J1Xw92IJonxr9GOhr0++btXQx9dv9LyIabInBZRdi2PdqWJ1pmf0KF/XB2uVOCNeR3+Nd/IfTNWKQdhZ9nU67pdr/+WV3RXvRYcAF8qXvW+isn79ffNfFReXS+vjJ+lketV81XXCzrRP64PnqiAHw93VHrBa++eou0nJeb08uxpPm6wBAS+GHlVvSx3NXuh6fpjwXHqPyq+mnHwMqNoMfV/qgr00f18SrvRS+m+Gfu/S9o67HLqvEn/+D0gUIGTdO8eiBYfpTX8yo58Mbr05z+iaa9D/fG60SAI2s6e/u0kTjm8qPuHRtGWPj1G+nAfXdPrckTvNe/X7z5tKHW82bio83b94/fQjkBVTERKwtKeRlkbGfo8wz4mNvnoj2nunHIXkrN89Mfzmtl5WV7p5mvlDQaSYLXtqEqcFuW0zvH4m23IGLxRMtvR8JDg1gnmx+UDra78ivIu33uTJjShKfUq2zqMvbSJPAHY7Vc5bQ/0izrZmg05a/YJ/RnXsbmWl7d1m38tJWFlEupsNU9Ili6tKns9ffF6l542KaWbp/JTxUkS+txGdN8zpzm6JDFg98+jzQN9dD2eEk1C7d2rei7pvGH/+DWYJcDbodaBKY3i1XEtN5G1Y742s1d3dQ5F1nxX9mWRle8XZeX7sS2bpKs4SomiNCeqMDpsGw7ydt5G56jkWs6OrAwFxWqNPWevS6cnah3f3Lt4BCtzoeugWtXRdnVEsaMer0zmF7l2DUPlEyTvYH+f9Uq7FtvP3y8EX9maenbmarS8+K2UO8mUi88ZJWFlEvxsPejVpwcqczJNUH3H1Sc10ofcZXDh6aNyT9t+ZYMjF5Vh+rfWy7Y6na8F/eMHc/NAVZkwLTlPzUaGgrPXJWFdnaxOXj47fmQClaOTlvVWD0h5nW2hZgA15bYHtoQHVanzRuU4M+ge7j2zB9rzUO1XuLe/X4TI1vixM1AZn6vQXYerTIK/rS6fqLG/CYW+W0Ts8QtU/j4qASWn8lSgstA6izZduH+AEjcOVNIRqpy02CHqOoj9WZ1Oofj5KXmbGhscg4wOXjyzWl1uQL0erkFJUzXgucr8FZwbqJLVjJ/MuExZcMyOXBlD/OJ6PlQrb+FXJiHEVtYrbW/bJDZe6mlKUW+Pb6Dy9lHxnaJcQKBSFOTb1j9+IrfNUe3/0Y629Nyz172zo0fPWyPniVrLVjpPYSVoveSbIcnYZHJPn9Mp9cyafn2erAYrX1E6rprw2tPf5dad7B680Cxa0Mc1b2+zX9O436HHj3uaJBt6exoE50T28z71hkuiyfvhNy9y8GBjJAwhfnFFH/LBu0xCoK3dpwnFtKCpSkbtaT5dUDT60yAXVUWP7is3TOiNFg93p+7m66Ni/45GL2fmjdQmj6PO1vSPH8xtA1X3jh4oIp4wHTpX8QjJRSqHVjpPYSVvveSb0x080dtmo8uTvNPk/lPtYguOLeoHx+X6UcdVE7aS7Db/ezN04r/z+EH3k4Q2b080aDRSrumVZz/xioMcK6hVEeIXV/ahegLKJATbOqAXDnjb51dar1958hjTpLRT7pzt6XrDxMI1mu//0rJyo4WNr4+KnGNi3HvmqeuChurc2sziRRv6x8/nxrv+BvRfvKXl3yaPGBaqA2UOrXU+v7rdTX47sYhG9OfQ1+rlL0q3S4OnN3rnju/smK1EZrwVO6+8B5Lm7PlJss9P11P51f/mjZ6aRSiNeppw2asH+zwhfhHuQ+X61E8rwQSVSQi3NXuqGg75aWpW/bujpgz+i53bu9evHEDiCdXsIDf4+uiA3lwTvWTGNRjTSp2/HcqndmK6ZpQ5nbftH78Gbqgbo3MjuR1IsmMpll1O9uquXquXnM/qsPVJRF3JTdbJskG7/kryolvWou38QEh+wVEuJtPpv5Ppq9D2Osum1uTFZitZzNekzpxr8xeD6zuW9janZ6Pbzy6H+JoqB5evXBZfvxACZJWvsB8eBLVvilx4jiq0TEJIuTRqA0ZAbisUpT862qNzY8X76bI6c2Tn+Ggh53TAoTOr29zYdM69gRctCFSC3VHlcCXKTYfl67mksdqsUHJbhnXOdBDLZFXQcIkqijYY3Zm8Glzsz46dRXfi43H0TZdO2QlUacQN4Pq07TNHqX+pDmrXe9vK4Yk9iFvl0AOjXCsPjrV+kcNfNptgZfdUvmn5mKr/Gp/LEVwmIaRcjNhScopLwvawvQd72Jaye9UEKqGBjx7rSB8uv5dJ81GmQudP6R8tpSP/4Yr9Bsg6eI8+J2F5KwDAuUjfeyR633gswwFwefAnlAAANchGlh49P/jkigC4Dt8jUKmt2Xq7+mLYabi7CADgT/bnkmQjy4oSLGOAG/KNlv4AAAD8RrD0BwAAoNUgUAEAAGg1CFQAAABaDQIVAACAVoNABQAAoNUgUAEAAGg1CFQAAABaDQIVAACAVoNABQAAoNUgUAEAAGg1CFQAAABaDQIVAACAVoNABQD43ezXtF57vo8hRBZcDAQqX9SrRuS1Bx0ar821H8Ge5uP+oWyd/pjmVR1xL+8m6lP/x9UBuD1H38r8MDgecBDJ+3Kf/fSUEvb/xyENh6902qVPyKJ/XA0EKl8Gb5SmK4rN6c9AvzV5SRNK0pTLl1IyuaflsOfoaDwIPL4SvYzowVwB4FLIyxmHuxFNEuOHox0Ne32aewerNY17w4Ivj2jHvtyvU7J+peVDTJE5raVWFv3jqsj7qIAvSTqLKI1X5vS7s4pTimZcqjzJLEqpspCrlIP1z6kDcHvEDylmz8qziqnGD/Mon3X4cpWPa9iXI75vMksjx/3z+Mqif1wDPFH9YtYfC4pGf6j4hvHuHc8Jd//4eevWyLJkgyUg8MXIk7kstTV787b4IcX/UfEdwoOXGUWLqf9T1cNdyZepd0/R9pMSc2qzn09pN3op3ddFiCy4PAhUv5Y9/duZ/y2wlw9cnf7L6dKf/4imvQ71x+sWBE5webQfxv85QkD3D42iLX26okwBNblafJRyR/u/S9o6gqAs1b0uR/T+5OPlIbLgGrQjUBWToJ0+je1plLWRoc8z7EPCVY7K5H8hOctHfzyvmZ2X5ZVuvlbO17Ds3LajKmlblNM6x+M2JFu79LRJaVPqfNwpn4lmL+2YO3YHb7RJE5rQlHp1Gz0C2EubyBOA3X6V0/ZAv6iTrdmQs2af0J/xE6S5lpe3dZt/LSVhZRLqbDVPSJYurWpNY1v+cF37Urp5ajC5SehzG9F9z5zm6JJ+uPdoc/aTZLajIZdBu4j0vT49Lh9o9eYIU+Mp0cTP3hBZcCXMEuDtUGu+lEbx6riOnMh6MF+b2SvLeu1X1ptX9mWRle8XZeX7sS2bpKs4SomiNCeqMDpsGw7y9nqzzlHJtZwdWRkKitUae85el05P1Dq+uXfxuOCCuNhcLEceXVcXvKU/mV/k2jUMlcuQHIP9fdYr7Vout69fCL6yNfXnzNVoefFbKXeSKRefM0rCyiT42XrQq08PVOaDmqD6jqtPak77o82xDOqIYrdeuadtv7KhIu8UIquoaV/QmJsHqsqEackhajYyKNmjs9clYV2drE5ePjt+ZAKVo5OW9VY7bF5ne/AbgC7QEc8Mugl/X9o7ntkD7Xmoshfu7e8XIbI1fuwMVMbnKnTX4SqT4G+rq61r7G9Coe8WEXv8ApW2yw6+Bz8p2CrBLKeyJviEyGoQqK7BjQOVNGqVkxY7RF0HsT+r0ykUPz8lb1Njg2OQ0QM/z+pWlxtQr4ZzkHRx+454bqBKVjN+MuO2yYJjduQKFeIX1/OhWnkLvzIJIbayXvFh2yax8eRkJoR6e3wDVVVQLtWp+E5Rrir4hMgeuH3/+IncNke1/0c72tJzz173zo4ePW+NnCdqLVvpPIWVoPWSb0b3aaN+l/Q5nVLPrOnX58lqsPIVpePshNeaxsMdzZK3du9q2rOd/Q49ftzTJNnQ29MgOG+wn/epN1wSTd4Pv7eRgwc6I2EI8Ysr+pAP3mUSAm3tPk0opgVNVTJqT/Ope6doc3p0X7lhQm+0eLg7dbc9/V1u3RsyBi80ixb0obqI2L+jkVf+NUQWXJvbBqruHT1QxAPksXMVD0cetBLl0ErnKazkrZd8c7qDJ3rbbHR5knea3H+qXWzBsUX94LhcP+oIqaQSkjifEq021N5NTTrx33n8oPtJQpu3Jxo0slU2ivCAxmV9YwW1KkL84so+VE9AmYRgWwf0wgFv+/xK6/UrTx5jmpQcxWy+aLQ9XW+YWOhIkmf/l5aVGy1sZEOG+d9aRM4xMe4989R1QUN1nm1mCZEFV4cHupsSugbtfKRWj/fH5YO6NXi9HOefo8oTumzjpnKZ4gZUlV3W5t0mfu3Shl7my+ceGlOZD9FlKtaDv1+EyGofKvu8vh689BdYJiGkXBqjS9rB2VeN7U2XBCv6zvl1ylTWj8XJ5TwLLP3dhJsHqqxhcwOR7FjigTK/Ppx1BnaSw9YnETUDWc4TWac4bsiuv5K86BantJ2uZtAodTZHuZhMp19wvjJis3NwkXJWde6v7IhsRyztbU7PJhvQ8r4mbS+DcHlQ9PULIUBW+QrX70FQ+6bIBQeq4DIJIeXSqKBxasA/A6WffTGzR03mSvfTZXX6rAog+XpI+Jqqh+rK0yBQtZ4WBCrB7qi6Q5QT5abD8vVc0lhtVii5LcM6ZzqIZbIqaLhEFUUbjO5MXg0u9mfHzqI78fE4OqlLpzypVBrxhZhOb9uWO4qdUXfAoty365D2IC6HaQ89MMq18uBY6xc5/GWzCVZ2T+Wblo+peq3xuRzBZRJCysWILVdtbLaH7T3Yw7aUu0lNoBJUPdhjw+m+dqwjfdQVsV72h/SPltKR/3CFfgNkHbxHn5OwvBUA4Fyk7z0Svbc5jwl+MvgTSgCAGmQjS4+eHyYIUuBmfI9ApbZm6+3qi2Gn4e4iAIA/2Z9L6tGUVpRgGQPckG+09AcAAOA3gqU/AAAArQaBCgAAQKtBoAIAANBqEKgAAAC0GgQqAAAArQaBCgAAQKtBoAIAANBqEKgAAAC0GgQqAAAArQaBCgAAQKtBoAIAANBqEKgAAAC0GgQqAMDvZr+m9drzfQwhsuBiIFD5ol41Iq896NB4ba79FPbyzqE+9SvLlr3ywXWM+VMAzuXog8qv+uxXofGAg8icdRx8s99nfz6lZE/zxyENh68efnxC9mQ/Ak1BoPJl8EZpuqLYnP4cuHM/vhK9jOjBXCkzoLcVlzyaUZKmXA/28cafAnAe8nLG4W5Ek0T7VTLa0bDXp7l3sOLJVG9IS5ocfDSZjGg37FG/Tsn6lZYPMUXmtJZaWZ9+BJqCQBVEj+69PPo7MaCnDQeb7p05d7P/tyN6uCO85BVcnPWYhouYVpsn9kN9qfu0oVW8pedXv0eT/XxKC55Ivb8NDj7aHTzRhidY2+XfihetcnCbEk1e7s15Hadk/foRaAYCFfAi+dxSdN8zZ1/FnubjBktA4IvhdurLUluzN2+vPxZE8X+lJ/PBy4yixdT/qco1kerdU7T9pMSc2khw241evFYEQmTB5UGgAh7sST9QffXzVJf+/Ec07XWoP143GgRB29G+Ff/nCAHdPzSKtvTpijIFuncPRIsPfu7Js/+7pK0jCMoT0utyRO9PPj4dIguuQTsCVTEJ2unT2J5GWRsZ+jzDPiRc5eiPae6ccheSs3z0x/Oa2XlZXunma+XEKMvObTuqkrZFOa1zPP5uydaE+IHqJnQHb7RJE5rQlHqVbR3GXtpEngDs9quctgf6RZ1szYacNfuE/szanJKTt3Wbfy0lYWUS6mw1T0iWLq2quKkmu96lp01K6eapwdKw+FZE7of1Lkn82f3zaHP2k2S2oyGXQbuI9L0+PS4faPXmCFNqHc/P3hBZcCXSW5PM0ojNiOJVmphLabJK44ivzQ5XGL7GchTN0pV9WWTl+0VZ+X5syybpKo5SoijNiSqMDtuGgzylfNmQpDPWK9dydmRlKChexUV7XTo9WcX6vq4jWJkLXQduVabuc0eUxuWKvC6ZX+TaNYxkJvUfl3xI2rXYfv5+IfjK1tSzamO2zZxqsrqPVLmTTLn4nFESVibBz9aDXn16QF1nv3ZpDkb1HVef1EgfcpfBxbEM6ohit165p22/sqFcTkWIrKKmfUFjbh6o1GDuatWSQ+gg4XQAJXt09kqdjKuT1cnLZ8ePTKBydNKy3mqHzetsCyc62GGENJig0ShInhl0E/6+tHc8swfa81DtV7i3v1+EyNb4sTNQGZ+r0F2Hq0yCv60un6ixvwmFvltE7PELVNouO/ge/KRgqwSznMqa4BMiq0GgugY3DlTSqFVOWuwQdR3E/qxOp1D8/JS8TY0NjkFGBy+e1a0uN6BejwYd7MQgcy3ODVTJasZBltsmC47ZkSt8iF9cz4dq5S38yiSE2Mp6xYdtm8RGx0StOfX2+AaqqqBcqlPxnaJcVfAJkT3QoB+Bk9w2R7X/Rzva0nPPXvfOjh49B+ZF1Fq20nkKK0HrJd8M2WKbTO7pczqlnlnTr8+T1WDlK0rHrRJeAcnui7Bf07jfocePe5okG3p7Om5F9mU/71NvuCSavOd+E8YDnZEwhPjFFX3IB+8yCYG2dp8mFNOCpioZtaf5dEHR6M8F8zXyk48qH/LdxLOnv8ute0PG4IVm0YI+VBcR+3c0evHZuxciC67NbQNV944eKCKeMB06V/Fw5EErUQ6tdJ7CSt56yTdHfsvxttno8iTvNLn/VLvYgmOL+sFxuX7UEVJJwew5PqwrgutXbbLQif/O4wfdTxLavB1/bxPGml559hOvOMixgloVIX5xZR+qJ6BMQrCtA3rhgLd9fqX1+pUnjzFNSrvfztmerjdMLHQkybP/S8vKjRY2vn4oco6Jce+Zp64LGqrzbDNLiCy4OjzQ3ZTQNWjnI7V6vD8uH9StwevlOP8cVZ7QZRs3lcsUN6V6yaKyfgLK3BS9zJfPPTSmcqlSl71YRn+/CJHVPlT2eX09eOkvsExCSLk0Rpe0g7OvGtubLglW+NH5dcr4LE+fXM6zwNLfTbh5oMoaNjcQyY6lWHY52a2ddQZ2EiuxfxjIcp7IOsVxQ3b9leRFtzil7XQ1g0apsznKxWQ6/YLzV1LXwUz9WDmhrykH13cs7W1OzyYb0PK+pjaFcFnKg6KvXwgBsspX2A8Pgto3RS44UAWXSQgpl0YFjVMD/hko/RzoMnvUZK50P11WZ0BUASRfDwlfU/VQXXkaBKrW04JAJdgdVXeIcqLcdFi+nksaq80KJbdlWOdMB7FMVgUNl6iiaIPRncmrwcX+7NhZdCc+HkcndemUXUiVRtwA3bFs++UodzRdloNMZb23HHsQV+XQ7aEHRrlWHhxr/SKHv2w2wcruqXzT8jFV/zU+lyO4TEJIuRixpewUF4TtYXsP9rAtZfeqCVSCqgfbR0/3tWMd6aOuiPWyvv0INKEj/+EK/QbIOniPPidheSsAwLlI33sket8Q/jgDuAX4E0oAgBpkI0uPnh8mCFLgZnyPQKW2Zuvt6othp+HuIgCAP9mfS+rRlFaUYBkD3JBvtPQHAADgN4KlPwAAAK0GgQoAAECrQaACAADQahCoAAAAtBoEKgAAAK0GgQoAAECrQaACAADQahCoAAAAtBoEKgAAAK0GgQoAAECrQaACAADQahCoQJ79mtbu984D8L2AL/8YEKh8UX/BXf6adIfGa3Ptx7Gn+eOQhsNX+rFFBF+IvCKkT33Tbzr9MQXHDQ42c9aR9b1Ov8/9z0dJlS9nfxXedbB9RuoI68ndf0xzBL8vB4HKl8EbpemKYnP6I1m/0vIhpsicAnAO8h6r4W5Ek0S9SZyS0Y6GvT7Nvcd5Diq9IS1pQol+GzklkxHthj3qn1JS6csDeltxL45mB53H440/tdEva83f/56WfP+fO1ltJwhUQfTo/seO4jwoTIkmL/fmHIAzWI9puIhptXmigXnhYvdpQ6t4S8+vfqP8fj6lBQeU97cBZe9s7A6eaMOBZrv8y2Gkinpf3v/bET3cHXRWwsHumcr3f59FtPhApPpKEKiAQgaF3eilMKO8BrKU0mAJCNwAeaKQ5a7wF5WuPxZE8X8lfxq8zChaTP2fqlwBpXdP0faTEnNa5JQvJ59biu575qwaKUM0+lO6f/fugWj3L7hOQHMQqACzptfliN6/5F3jXfrzH9G016H+eI3O/iPZkzy0xP85QkX3D42iLX1WRRkLFRAWH6W80f7vkraOIKg55cvatoe7U76u5Vx4P5GBi9GOQFVMmHb6NLanXNZGhj7Pxg/JWTkqk5uFRC4f/fG8ZiZflle6+Vp5PZpl57YdVQneopzWOR63a0PGWq2TPH1Zx+sO3miTJjShKfUulJzeSz3L7N9uk9ppu297e8jVbLRZc1vrz6xEfU7e1m/+tZSEleuUreYJydKlVRU3GGTXu/S0SSndhPpGQp/biNwPLV3SDyQebc5+ksx2NOQyaBeR/tSnx+UDrSpejX/al8U287+16LJvSgGPA+Ez0eyl6nkNXIX01iSzNGIzoniVJuZSmqzSOOJrs8MVhq+xHEWzdGVfFln5flFWvh/bskm6iqOUKEpzogqjw7bhIE8pXzYk6Yz1yrWcHVkZCopXcdFel05PVrG+r+sIVmYhtrONRxOlLDHXyBeRtXWurcJIZlKnbLP9fdYrbVVsE41ve/vKCVrW2RSq7Yp1quXFH6XsSXYDqX+jJKxc/rYe9JrzDHXd9oWmKB9y9TON9At3u7g4lkEdUVypV933pC9n9W4fURp72hNmO7gUNw9UajB39e6Sk+kg4RwICh2jUifj6ox18vLZ8SMTqByduay3euDK67wtMgjk+p2zc3tyRjBN+LvShvHMHmjPQ7WJ476+7e3vF0KNfzoDlfGlCv11uMoVZqvLN2vsD6XQH4uIPX6DvbbJDr4HP3HY6e3Lh1mBwUyWTrXFxQI5CObGgUo6TJVDFztOXUeyP6vTKRQ/PyVvU2ODYzDSjs0zwNXlBt+LIp2+WJhzAtUZnBuoktWMBxuu75MB0re9Q/xCCPONWnkLv3KF2sp6xTdtm8TGiw3C9fb4BqqqiYazPs/15RPB1d2G4Ku4bY5q/492tKXnnr0+nh09evZaSz6i1r2VzlNYyVwv+WbIdlz53cXndEo9s/ZfnyerwcprlI5iYsSLPc2nOxrdeq19v6Zxv0OPH/c0STb09nTcCuzLft6n3nBJNHnP/TaGBzojYeHb3lf0C1+8y9XA1u7ThGJa0FQlo8QX3DvcmiE/46jaMOG/meHvcuvekDF4oVm0oOMO8Qv4cu0mD/bR4Y5mSfF3VuCruG2g6t7RA0XsAMdOWDwqcqZOlPMrnaewEr1e8s2R3128bTa6PMk7Te4/1Y634NiifnBcrh91hFTSAUkqOyYJvWcO4wsaqnPXL/UvhU78dx4/6H6S0Obt+HubMCS5zQPaioMcKzipwre9r+wXpwkoVyNbB/TCAW/7/Epr+b3QNqZJaeNA0+3pesOE87dG+7+0rNxoYeO76UHw9eU9z4vWFRPFqvtJHUyJuB2+ZFMscMMD3U0JXa+uXlo5PrbXrdfr5Tj/HFWe0OUdN5VLGm3gC5b+9DJfPvfQmMolG1l+crerb3v7+4WgfaPsy/p68NJfYLnCbM0wuqQtnH3Q2N5kSbCiP4T2Naddp5bpMhy+XHn/QHslHxZc3aAxNw9U3OSqs+QGLdnZxI6QX3POOg07k5UMPQx6Oa9lneLkIbv+SvKiWxzdHkxqBpeSozvKxWQ6/YLzDbh6oOI6jKUNzenZZANa3n9Ucpzr2T0o+ra3r5xB+QD710FY+5zIBgeq4HIF2mpQA7HPoN8ApZuDXGaPmqA576XLWgqIyhfzdZDwNVUH1RV3xOnLpp5snVV9UtrTGaTF3uvUGXDTgkAl2B1ad5xyUt10bL6eSy6rzQouj2GdMx3EMlkVNCqdq2iD0Z3Jq0HI/uzowLqzH49jH3LplJlYpRE3RQ8krnK0HHsAt+r4WB734Fjb3gd85TTZxCm7r/I5y3dUndb4Uo7gcoXZqhBbrtbQbA/berCHbXG7fkWgElQd2P3dr//U+7Kup6NO1xhibLJ05I9rTuZAkY78hyv+GyBrxT36nITlrQAAVUifeiR6R/4FtBv8CSUAfiWymaVHzw8TBCnQer5HoFJbs/V29cWw02AXEgBAk/25pB5NaUUJlifAN+AbLf0BAAD4jWDpDwAAQKtBoAIAANBqEKgAAAC0GgQqAAAArQaBCgAAQKtBoAIAANBqEKgAAAC0GgQqAAAArQaBCgAAQKtBoAIAANBqEKgAAAC0GgQqAAAArQaBCgDwM9mvab2+8HsWrqHzO3Gj8iNQ+aJeNSKvR+jQeG2ufXP28/6hTK6jP8fLVMA5yDuv+tTPfKo/puAxjgfGOes4+GW/z/3PR8me5o9DGg5fqdxd2S72/YNdnUvoPJevrKvsVS+ug+9rpMrUlb+pTj8QqHwZvFGarig2pz+B5HMrbyHnchWPhGYR0cMd3qgHmiMvZhzuRjRJtF8lox0Ne33yn//w4Ncb0pImlBjfTCYj2g17pydR61daPsTEblxC2bU82pUmWufJCWiNznP52roa0NuKR7JodpA9Hm/8aQW15W+o0xdWBLxJUh7AUx7cfwBSliidsVeVSGZpRHH6I4oJbsMqTsnhQzyWpTI78iGZRSkPfOypBUS36/qBVRpHfG+XH1f59jk6z+UGdaXkgway0+UP1+kPnqh+LV162mycryHf/13SNv7v/FmQkz3Nxw2WNcAN4Lbqdxq9UXv9seCxt+xDg5cZRYup/5PCwx17aoHePUXbT0rMaZH9fEq70YvTfyt9+wyd53KLupLVlOi+Z85O41P+UJ0hIFCBAmt6fSaavVyjSwpd+vMf0bTXof54HTwAgu/Anv7tZOx1+FD3D42iLX1WRQSL7t0D0eKjlN+on0ix/y5H9O6agTHdpw2ljtfvn6PzPG5RV/qe/kv7PuUP1RlGOwJVMQkoyU17GmFtZOjzbPyYBOWjP6a5c3peSE7y0R/Pa2byZXmlm6+V164lGWvbUZW0LMppneNxizdkrD9oEY3oz3X8TdEdvNEmTWhCU+pVtl8Ye6lnmf3bbVI7FfVtbw+5mo02a25r/ZmVUM7J2/rNv5aSsHKdstU8IVm6tKpiIjy7Lk/dKaWbp/JMvZaEPrcRuSfXXZIxdffPo83ZT5LZjoZcBu0i0p/69Lh8oJUj2Ajr8ZRoEmLvXtXxZXWGcIu6knua//XAr/xhOoMxS4C3Q615UhrFq+M6aiLroXwtl0Dhaywn660r+7LIyveLsvL92JZN0lUcpUSuvIzRYdtwkLdzUjpHJddydmRlKChWa8w5e106PVHr2ObexeOC68Jic7EcVyVr61xbhaHWxmXd3P4+65W2cpfFt7195QQt62wKZw5Cy4s/StmT7AbiS0ZJWLn8bT3oNecZ6rorzxGK6g8V+U8mzMeOZVBHFFfqVfe17Vd2uPMp+jOjU2ytcr4QnU1Q+r66rjLfs48ojV3C3uUP0NmAmweqyoRhqUJqNjIUGrtSJ+PqjHXy8tnxIxOoHJ25rLd64MrrbBNic3WnOckZwTTh70obxjN7oD0P1SaO+/q2t79fCDX+6QxUxpcq9NfhKleYrS7frLE/lIsNvtomO/ge/MRhpwzSObWVg2oerdNtU1Od3tyoro4zI4OZMJb9KqD8njqbcONAVTcwFjtOXUeyPzs12BY/PyVvU2ODYzDSwYtnNavLDb7XxBXEv4pzA1WymnGnYPvt4ChHqbF82zvEL4Qw36iVt/ArV6itrFfa2rZJbLxY29fb4zv4Vk00nPUp/lOUDQkqLtlzdXpxg7qqohg0L1H+os6G3DZHtf9HO9rSc89eH8+OHj0HrnmqtVyl8xRWgtJLvhmSuE0m9/Q5nVLPrP3X58lqsPIapaOYGGnEnv4utxRfbS2+gv2axv0OPX7c0yTZ0NvTIPj+8sPl3nBJNHnP/YaDO6+RsPBt7yv6hS/e5Wpga/dpQjEtaKqSUXuaTxcUjf5cqO17dF+5CcA36W780bXJYPBCs2hBHwe3F/t3NDpnA5DauHBhnV58dV3VkNu8caHyB2wIqeO2gap7Rw8UEUfbQycsHhX5TSeqQZXOU1jJSy/55nQHT/S22ejyJO80uf9UO96CY4v6wXG5ftQRUklV7P/SchuTy9evg078dx4/6H6S0ObtiQaNRknZpSg/XOYgxwpOqvBt7yv7xWkCytXI1gG9cMDbPr/Sev3Kk8KYJqVdXWbzRfD2dL0JYOEaHZWfVW0esAlJzousY8Lbe+Yp6YKG6jz0ryNcQ6eLr66rPc8N1xWTZVtPSPl9dZ4BD3Q3JXQN1vV0qx9vj4+XotP5GMyoR+SAHFWe0OUdN5WP6TfkK2065AT4fj4tX0vl0oIsqbjb1be9/f1C0L5R9mV9PXjpL7BcYbZmGF3SFs4+aGxvsiRY0R9C+5rTLt/lJMcyVeX9z9B5Nl9cV5V6fcawivKfpdODmwcqLonqLLlBS3Y2xbIbyi5e1mm40FbSzp0IZZ3ScCG7/kryolsaxR5MagaXUoM4ysVkOt0Dw63QtjrLdXG4DmNpQ3N6NlknzfuPSuJymdwd3be9feUMygfYvw7C2udEttxZa3xJEVquQFsNaoDxGaAboHRzkMvsUZMh5710WUsBUQ2K+TpI+Jqqg+qKO+IaVB06s3ot5WNcOAfqCvsD+Nq6MuW1ZX3HJWf5hTN0etCCQCXYHVoOV1LddGy+nksuq80KropgnTMdxDJZFTQq66xog9GdyatByP7s6Ci6sx+Po1+4dMounEojbsOFZj03wx7ArTrWnV2uuTt8bXsf8JXTZBOn7L7K5yzfUb5R40s5gssVZqtCbCkNZJeC7WFbD/awLW7XrxnoVR3Y/d2v/xzrSB+5IrJOmQgfPz9Xp7H/rD701XWlfeUoWzWOHqmtU0W4Tl868h9W+g2Q9fIefU7C8lYAgCqkTz0Svbv/lBYIgetynNATBqergD+hBMCvRDaz9Oj5YYIgdQH28790hyB1Nb7HE5VszR4uzAkjf0o++M+6AABkN+G4MyTpTVG8onceXNGPQNv5Rkt/AAAAfiNY+gMAANBqEKgAAAC0GgQqAAAArQaBCgAAQKtBoAIAANBqEKgAAAC0GgQqAAAArQaBCgAAQKtBoAIAANBqEKgAAAC0GgQqAAAArQaBCgAAQKtBoAIAANBqEKgAAAC0GKL/A7wSPD8fjHVmAAAAAElFTkSuQmCC)"
      ],
      "metadata": {
        "id": "34Hc6yEqVW6z"
      }
    },
    {
      "cell_type": "markdown",
      "source": [
        "*  batch(보통 mini-batch라고 부름) 는 나눠진 데이터 셋을 의미한다. 예를 들어, 700개의 이미지로 이뤄진 데이터셋이있는데, 우리가 7번에 걸쳐서 학습시킨다면 7개의 배치를 만들어서 학습시킨다."
      ],
      "metadata": {
        "id": "5f5dwHULcoci"
      }
    },
    {
      "cell_type": "markdown",
      "source": [
        "* LSTM, 1-D CNN, GlobalMaxPooling 1D로 모델을 선정하여 프로젝트를 진행하였다. 마지막에 유사 단어 찾기 부분에서 각 모델마다 '재미, 행복, 따뜻, 최악, 슬픔, 우울, 분노'를 비교해보려고 했다. 그래서 거의 90% 정도 마무리하고 있는 와중에 전체적인 결과를 확인해보니 각 모델마다 해당 단어의 값들이 달라야 하는데 하나로 동일했다. 코드에서 문제가 있었을텐데... 고민을 하다가 정신건강에 이로운 길을 택하여 대표 모델 하나만 출력했다... 다음에 더 열심히 해봐야겠다."
      ],
      "metadata": {
        "id": "EmYnYt4JxjxU"
      }
    },
    {
      "cell_type": "markdown",
      "source": [
        "* RNN과 LSTM의 차이를 정확히 인지하지 못해서 조금 찾아봤다. 이 문제 때문에 익스를 진행하는 과정에서 시간을 더 투자한 경향이 없지않아 많.았.다. RNN (Recurrent Neural Networks 순환신경망)은 인공신경망의 한 종류로, 유닛간의 연결이 순환적 구조를 갖는 특징을 갖고 있다. 이러한 구조는 시변적(시간에 따라 변하는) 동적 특징을 모델링 할 수 있도록 신경망 내부에 상태를 저장할 수 있게 해준다.LSTM (Long Short Term Memory)은 딥러닝 분야에서 사용되는 RNN 아키텍처다. 표준의 Feed-Forward 신경망과 달리 LSTM은 피드백연결을 가지고 있다. 장기 메모리와 단기 메모리에 들어갈 정보를 나눠 학습한다.\n",
        "\n",
        " * RNN은 단기기억이 존재하고, LSTM은 단기기억과 장기기억이 모두 존재한다. 단기기억뿐인 RNN을 보완하여 장기와 단기로 나누어서 정보를 전달하는 LSTM의 구조가 더욱 정교하다. LSTM은 순차데이터를 처리할 때 입력의 길이가 길어져도 이전 정보를 더 오래 기억하므로 RNN보다 더 성능이 좋다. 즉, LSTM은 RNN보다 발전된 형태의 순환신경망이다."
      ],
      "metadata": {
        "id": "puV_AsDpzFKp"
      }
    },
    {
      "cell_type": "markdown",
      "source": [
        "* 이번 익스는 전체적으로 필사를 했다. 양심이 많이 찔리는 익스였다... 약간의 흐름은 알겠는데, 완전히 이해했다고 할 수는 없다. 이 또한 남은 나의 숙제이다...\n",
        "\n",
        "  익스를 하면서 부족함이 많다는 걸 더욱 느꼈다. 그래도 제출해야겠다. 정신건강을 위하여 익스를 빨리 끝내려고 한다. 다음에 더 분발해야겠다!"
      ],
      "metadata": {
        "id": "DzrjGfz11EGl"
      }
    },
    {
      "cell_type": "markdown",
      "source": [
        "**🔆 참고자료**"
      ],
      "metadata": {
        "id": "PZVIVBsf2l-K"
      }
    },
    {
      "cell_type": "markdown",
      "source": [
        "* https://github.com/yenaryu/AI/blob/main/%5BE-06%5Dmovie%20reivew%20sentiment.ipynb"
      ],
      "metadata": {
        "id": "apKZSTWm2t49"
      }
    }
  ]
}